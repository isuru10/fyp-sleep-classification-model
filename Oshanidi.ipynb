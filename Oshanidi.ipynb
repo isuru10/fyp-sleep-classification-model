{
 "cells": [
  {
   "cell_type": "code",
   "execution_count": 1,
   "metadata": {},
   "outputs": [],
   "source": [
    "####################################################\n",
    "#### Time Stamp Prediction              ############\n",
    "#### Auther : asiriamal                 ############\n",
    "#### Instructor : Oshanidi              ############\n",
    "#### Date : 22/01/2020                  ############\n",
    "####################################################"
   ]
  },
  {
   "cell_type": "markdown",
   "metadata": {},
   "source": [
    "# Time Stamp Prediction"
   ]
  },
  {
   "cell_type": "markdown",
   "metadata": {},
   "source": [
    "Files Used : data.csv as data and labels.csv as labels"
   ]
  },
  {
   "cell_type": "markdown",
   "metadata": {},
   "source": [
    "# Data preprocessing"
   ]
  },
  {
   "cell_type": "code",
   "execution_count": 1,
   "metadata": {},
   "outputs": [],
   "source": [
    "import pandas as pd\n",
    "import matplotlib.pyplot as plt\n",
    "from datetime import datetime\n",
    "import numpy as np\n",
    "import datetime as dt"
   ]
  },
  {
   "cell_type": "code",
   "execution_count": 2,
   "metadata": {},
   "outputs": [],
   "source": [
    "data = pd.read_csv(\"../formatedData/1/data.csv\", sep=';')"
   ]
  },
  {
   "cell_type": "code",
   "execution_count": 3,
   "metadata": {},
   "outputs": [
    {
     "data": {
      "text/html": [
       "<div>\n",
       "<style scoped>\n",
       "    .dataframe tbody tr th:only-of-type {\n",
       "        vertical-align: middle;\n",
       "    }\n",
       "\n",
       "    .dataframe tbody tr th {\n",
       "        vertical-align: top;\n",
       "    }\n",
       "\n",
       "    .dataframe thead th {\n",
       "        text-align: right;\n",
       "    }\n",
       "</style>\n",
       "<table border=\"1\" class=\"dataframe\">\n",
       "  <thead>\n",
       "    <tr style=\"text-align: right;\">\n",
       "      <th></th>\n",
       "      <th>TimeStamp</th>\n",
       "      <th>FrameCounter</th>\n",
       "      <th>State</th>\n",
       "      <th>RPM</th>\n",
       "      <th>ObjectDistance</th>\n",
       "      <th>SignalQuality</th>\n",
       "      <th>MovementSlow</th>\n",
       "      <th>MovementFast</th>\n",
       "    </tr>\n",
       "  </thead>\n",
       "  <tbody>\n",
       "    <tr>\n",
       "      <th>0</th>\n",
       "      <td>2017-11-22T23:45:00.859+01:00</td>\n",
       "      <td>32734</td>\n",
       "      <td>1</td>\n",
       "      <td>0.0</td>\n",
       "      <td>0.989470</td>\n",
       "      <td>4</td>\n",
       "      <td>14.2693</td>\n",
       "      <td>0.055457</td>\n",
       "    </tr>\n",
       "    <tr>\n",
       "      <th>1</th>\n",
       "      <td>2017-11-22T23:45:01.855+01:00</td>\n",
       "      <td>32751</td>\n",
       "      <td>1</td>\n",
       "      <td>0.0</td>\n",
       "      <td>0.987036</td>\n",
       "      <td>4</td>\n",
       "      <td>12.2064</td>\n",
       "      <td>0.088731</td>\n",
       "    </tr>\n",
       "    <tr>\n",
       "      <th>2</th>\n",
       "      <td>2017-11-22T23:45:02.852+01:00</td>\n",
       "      <td>32768</td>\n",
       "      <td>1</td>\n",
       "      <td>0.0</td>\n",
       "      <td>1.008620</td>\n",
       "      <td>7</td>\n",
       "      <td>10.8458</td>\n",
       "      <td>1.696980</td>\n",
       "    </tr>\n",
       "    <tr>\n",
       "      <th>3</th>\n",
       "      <td>2017-11-22T23:45:03.848+01:00</td>\n",
       "      <td>32785</td>\n",
       "      <td>2</td>\n",
       "      <td>0.0</td>\n",
       "      <td>0.976657</td>\n",
       "      <td>0</td>\n",
       "      <td>11.2901</td>\n",
       "      <td>2.628660</td>\n",
       "    </tr>\n",
       "    <tr>\n",
       "      <th>4</th>\n",
       "      <td>2017-11-22T23:45:04.845+01:00</td>\n",
       "      <td>32802</td>\n",
       "      <td>1</td>\n",
       "      <td>0.0</td>\n",
       "      <td>0.958549</td>\n",
       "      <td>0</td>\n",
       "      <td>13.4203</td>\n",
       "      <td>3.826530</td>\n",
       "    </tr>\n",
       "  </tbody>\n",
       "</table>\n",
       "</div>"
      ],
      "text/plain": [
       "                       TimeStamp  FrameCounter  State  RPM  ObjectDistance  \\\n",
       "0  2017-11-22T23:45:00.859+01:00         32734      1  0.0        0.989470   \n",
       "1  2017-11-22T23:45:01.855+01:00         32751      1  0.0        0.987036   \n",
       "2  2017-11-22T23:45:02.852+01:00         32768      1  0.0        1.008620   \n",
       "3  2017-11-22T23:45:03.848+01:00         32785      2  0.0        0.976657   \n",
       "4  2017-11-22T23:45:04.845+01:00         32802      1  0.0        0.958549   \n",
       "\n",
       "   SignalQuality  MovementSlow  MovementFast  \n",
       "0              4       14.2693      0.055457  \n",
       "1              4       12.2064      0.088731  \n",
       "2              7       10.8458      1.696980  \n",
       "3              0       11.2901      2.628660  \n",
       "4              0       13.4203      3.826530  "
      ]
     },
     "execution_count": 3,
     "metadata": {},
     "output_type": "execute_result"
    }
   ],
   "source": [
    "data.head()"
   ]
  },
  {
   "cell_type": "code",
   "execution_count": 4,
   "metadata": {},
   "outputs": [
    {
     "data": {
      "text/html": [
       "<div>\n",
       "<style scoped>\n",
       "    .dataframe tbody tr th:only-of-type {\n",
       "        vertical-align: middle;\n",
       "    }\n",
       "\n",
       "    .dataframe tbody tr th {\n",
       "        vertical-align: top;\n",
       "    }\n",
       "\n",
       "    .dataframe thead th {\n",
       "        text-align: right;\n",
       "    }\n",
       "</style>\n",
       "<table border=\"1\" class=\"dataframe\">\n",
       "  <thead>\n",
       "    <tr style=\"text-align: right;\">\n",
       "      <th></th>\n",
       "      <th>TimeStamp</th>\n",
       "      <th>FrameCounter</th>\n",
       "      <th>State</th>\n",
       "      <th>RPM</th>\n",
       "      <th>ObjectDistance</th>\n",
       "      <th>SignalQuality</th>\n",
       "      <th>MovementSlow</th>\n",
       "      <th>MovementFast</th>\n",
       "    </tr>\n",
       "  </thead>\n",
       "  <tbody>\n",
       "    <tr>\n",
       "      <th>24700</th>\n",
       "      <td>2017-11-23T06:35:25.513+01:00</td>\n",
       "      <td>452634</td>\n",
       "      <td>0</td>\n",
       "      <td>16.5326</td>\n",
       "      <td>0.711621</td>\n",
       "      <td>10</td>\n",
       "      <td>29.1574</td>\n",
       "      <td>0.587844</td>\n",
       "    </tr>\n",
       "    <tr>\n",
       "      <th>24701</th>\n",
       "      <td>2017-11-23T06:35:26.509+01:00</td>\n",
       "      <td>452651</td>\n",
       "      <td>0</td>\n",
       "      <td>16.1115</td>\n",
       "      <td>0.713980</td>\n",
       "      <td>10</td>\n",
       "      <td>29.3478</td>\n",
       "      <td>0.754215</td>\n",
       "    </tr>\n",
       "    <tr>\n",
       "      <th>24702</th>\n",
       "      <td>2017-11-23T06:35:27.508+01:00</td>\n",
       "      <td>452668</td>\n",
       "      <td>0</td>\n",
       "      <td>15.9265</td>\n",
       "      <td>0.718161</td>\n",
       "      <td>10</td>\n",
       "      <td>29.7009</td>\n",
       "      <td>1.685890</td>\n",
       "    </tr>\n",
       "    <tr>\n",
       "      <th>24703</th>\n",
       "      <td>2017-11-23T06:35:28.503+01:00</td>\n",
       "      <td>452685</td>\n",
       "      <td>0</td>\n",
       "      <td>15.5886</td>\n",
       "      <td>0.722880</td>\n",
       "      <td>10</td>\n",
       "      <td>30.6569</td>\n",
       "      <td>1.818990</td>\n",
       "    </tr>\n",
       "    <tr>\n",
       "      <th>24704</th>\n",
       "      <td>2017-11-23T06:35:29.500+01:00</td>\n",
       "      <td>452702</td>\n",
       "      <td>0</td>\n",
       "      <td>15.5886</td>\n",
       "      <td>0.722880</td>\n",
       "      <td>10</td>\n",
       "      <td>32.6087</td>\n",
       "      <td>1.885540</td>\n",
       "    </tr>\n",
       "  </tbody>\n",
       "</table>\n",
       "</div>"
      ],
      "text/plain": [
       "                           TimeStamp  FrameCounter  State      RPM  \\\n",
       "24700  2017-11-23T06:35:25.513+01:00        452634      0  16.5326   \n",
       "24701  2017-11-23T06:35:26.509+01:00        452651      0  16.1115   \n",
       "24702  2017-11-23T06:35:27.508+01:00        452668      0  15.9265   \n",
       "24703  2017-11-23T06:35:28.503+01:00        452685      0  15.5886   \n",
       "24704  2017-11-23T06:35:29.500+01:00        452702      0  15.5886   \n",
       "\n",
       "       ObjectDistance  SignalQuality  MovementSlow  MovementFast  \n",
       "24700        0.711621             10       29.1574      0.587844  \n",
       "24701        0.713980             10       29.3478      0.754215  \n",
       "24702        0.718161             10       29.7009      1.685890  \n",
       "24703        0.722880             10       30.6569      1.818990  \n",
       "24704        0.722880             10       32.6087      1.885540  "
      ]
     },
     "execution_count": 4,
     "metadata": {},
     "output_type": "execute_result"
    }
   ],
   "source": [
    "data.tail()"
   ]
  },
  {
   "cell_type": "markdown",
   "metadata": {},
   "source": [
    "### There is no missing values in the dataset"
   ]
  },
  {
   "cell_type": "code",
   "execution_count": 5,
   "metadata": {},
   "outputs": [
    {
     "data": {
      "text/plain": [
       "TimeStamp         0\n",
       "FrameCounter      0\n",
       "State             0\n",
       "RPM               0\n",
       "ObjectDistance    0\n",
       "SignalQuality     0\n",
       "MovementSlow      0\n",
       "MovementFast      0\n",
       "dtype: int64"
      ]
     },
     "execution_count": 5,
     "metadata": {},
     "output_type": "execute_result"
    }
   ],
   "source": [
    "data.isnull().sum()"
   ]
  },
  {
   "cell_type": "markdown",
   "metadata": {},
   "source": [
    "### Data.csv file has 8 coumns"
   ]
  },
  {
   "cell_type": "code",
   "execution_count": 6,
   "metadata": {},
   "outputs": [
    {
     "name": "stdout",
     "output_type": "stream",
     "text": [
      "8\n"
     ]
    },
    {
     "data": {
      "text/plain": [
       "Index(['TimeStamp', 'FrameCounter', 'State', 'RPM', 'ObjectDistance',\n",
       "       'SignalQuality', 'MovementSlow', 'MovementFast'],\n",
       "      dtype='object')"
      ]
     },
     "execution_count": 6,
     "metadata": {},
     "output_type": "execute_result"
    }
   ],
   "source": [
    "print(len(data.columns))\n",
    "data.columns"
   ]
  },
  {
   "cell_type": "markdown",
   "metadata": {},
   "source": [
    "### 7 numerical variables and 1 categorical variable\n",
    "* TimeStamp          object\n",
    "* FrameCounter        int64\n",
    "* State               int64\n",
    "* RPM               float64\n",
    "* ObjectDistance    float64\n",
    "* SignalQuality       int64\n",
    "* MovementSlow      float64\n",
    "* MovementFast      float64"
   ]
  },
  {
   "cell_type": "code",
   "execution_count": 7,
   "metadata": {},
   "outputs": [
    {
     "name": "stdout",
     "output_type": "stream",
     "text": [
      "7\n"
     ]
    },
    {
     "data": {
      "text/plain": [
       "Index(['FrameCounter', 'State', 'RPM', 'ObjectDistance', 'SignalQuality',\n",
       "       'MovementSlow', 'MovementFast'],\n",
       "      dtype='object')"
      ]
     },
     "execution_count": 7,
     "metadata": {},
     "output_type": "execute_result"
    }
   ],
   "source": [
    "print(len(data.describe().columns))\n",
    "data.describe().columns"
   ]
  },
  {
   "cell_type": "code",
   "execution_count": 8,
   "metadata": {},
   "outputs": [
    {
     "data": {
      "text/plain": [
       "TimeStamp          object\n",
       "FrameCounter        int64\n",
       "State               int64\n",
       "RPM               float64\n",
       "ObjectDistance    float64\n",
       "SignalQuality       int64\n",
       "MovementSlow      float64\n",
       "MovementFast      float64\n",
       "dtype: object"
      ]
     },
     "execution_count": 8,
     "metadata": {},
     "output_type": "execute_result"
    }
   ],
   "source": [
    "data.dtypes"
   ]
  },
  {
   "cell_type": "markdown",
   "metadata": {},
   "source": [
    "## Check Correlations"
   ]
  },
  {
   "cell_type": "code",
   "execution_count": 9,
   "metadata": {},
   "outputs": [
    {
     "data": {
      "text/plain": [
       "<function matplotlib.pyplot.show(*args, **kw)>"
      ]
     },
     "execution_count": 9,
     "metadata": {},
     "output_type": "execute_result"
    },
    {
     "data": {
      "image/png": "[encoded data removed]",
      "text/plain": [
       "<Figure size 864x576 with 49 Axes>"
      ]
     },
     "metadata": {
      "needs_background": "light"
     },
     "output_type": "display_data"
    }
   ],
   "source": [
    "from pandas.plotting import scatter_matrix\n",
    "\n",
    "scatter_matrix(data, figsize=(12, 8))\n",
    "plt.show"
   ]
  },
  {
   "cell_type": "markdown",
   "metadata": {},
   "source": [
    "We can clearly, MovmentFast and MovementSlow have somewhat correlation and sate has distributed corelation so using state will not effective for the predictions"
   ]
  },
  {
   "cell_type": "code",
   "execution_count": 10,
   "metadata": {},
   "outputs": [
    {
     "data": {
      "image/png": "[encoded data removed]",
      "text/plain": [
       "<Figure size 1440x1080 with 9 Axes>"
      ]
     },
     "metadata": {
      "needs_background": "light"
     },
     "output_type": "display_data"
    }
   ],
   "source": [
    "data.hist(bins=50, figsize=(20,15))\n",
    "plt.show()"
   ]
  },
  {
   "cell_type": "markdown",
   "metadata": {},
   "source": [
    "##### According to above histogram FrameCounter does not give valuable information for the prediction it is just a counter, So further training tasks"
   ]
  },
  {
   "cell_type": "markdown",
   "metadata": {},
   "source": [
    "### Remove miliseconds in timestap"
   ]
  },
  {
   "cell_type": "code",
   "execution_count": 11,
   "metadata": {},
   "outputs": [],
   "source": [
    "data['TimeStamp'] = data['TimeStamp'].str.slice(stop=-10)"
   ]
  },
  {
   "cell_type": "code",
   "execution_count": 12,
   "metadata": {},
   "outputs": [],
   "source": [
    "data['TimeStamp'] = pd.to_datetime(data['TimeStamp'])"
   ]
  },
  {
   "cell_type": "code",
   "execution_count": 13,
   "metadata": {},
   "outputs": [
    {
     "data": {
      "image/png": "[encoded data removed]",
      "text/plain": [
       "<Figure size 1080x864 with 6 Axes>"
      ]
     },
     "metadata": {
      "needs_background": "light"
     },
     "output_type": "display_data"
    }
   ],
   "source": [
    "# fig, ax1 = plt.subplots(1,1,figsize=(8,4))\n",
    "# data.plot(x='TimeStamp',y='State', ax=ax1)\n",
    "fig, axes = plt.subplots(3,2,figsize=(15, 12))\n",
    "data.plot(x='TimeStamp',y='FrameCounter', ax=axes[0,0])\n",
    "data.plot(x='TimeStamp',y='SignalQuality', ax=axes[1,0])\n",
    "data.plot(x='TimeStamp',y='RPM', ax=axes[0,1])\n",
    "data.plot(x='TimeStamp',y='ObjectDistance', ax=axes[1,1])\n",
    "data.plot(x='TimeStamp',y='MovementSlow', ax=axes[2,0])\n",
    "data.plot(x='TimeStamp',y='MovementFast', ax=axes[2,1])\n",
    "plt.show()"
   ]
  },
  {
   "cell_type": "code",
   "execution_count": 14,
   "metadata": {},
   "outputs": [
    {
     "data": {
      "image/png": "[encoded data removed]",
      "text/plain": [
       "<Figure size 576x288 with 1 Axes>"
      ]
     },
     "metadata": {
      "needs_background": "light"
     },
     "output_type": "display_data"
    }
   ],
   "source": [
    "fig, ax1 = plt.subplots(1,1,figsize=(8,4))\n",
    "data.plot(x='TimeStamp',y='State', ax=ax1)\n",
    "plt.show()"
   ]
  },
  {
   "cell_type": "code",
   "execution_count": 15,
   "metadata": {},
   "outputs": [],
   "source": [
    "# pd.to_datetime(data['TimeStamp'], format='%d%b%Y:%H:%M:%S.%f')\n",
    "data['Date'] = [d.date() for d in data['TimeStamp']]\n",
    "data['Time'] = [d.time() for d in data['TimeStamp']]"
   ]
  },
  {
   "cell_type": "code",
   "execution_count": 16,
   "metadata": {},
   "outputs": [],
   "source": [
    "mid = data['Date']\n",
    "data.drop(\"Date\", axis=1,inplace = True)\n",
    "data.insert(0, 'Date', mid)\n",
    "\n",
    "mid = data['Time']\n",
    "data.drop(\"Time\", axis=1,inplace = True)\n",
    "data.insert(1, 'Time', mid)\n",
    "\n",
    "data.drop(\"TimeStamp\", axis=1, inplace=True)"
   ]
  },
  {
   "cell_type": "code",
   "execution_count": 17,
   "metadata": {},
   "outputs": [
    {
     "data": {
      "text/html": [
       "<div>\n",
       "<style scoped>\n",
       "    .dataframe tbody tr th:only-of-type {\n",
       "        vertical-align: middle;\n",
       "    }\n",
       "\n",
       "    .dataframe tbody tr th {\n",
       "        vertical-align: top;\n",
       "    }\n",
       "\n",
       "    .dataframe thead th {\n",
       "        text-align: right;\n",
       "    }\n",
       "</style>\n",
       "<table border=\"1\" class=\"dataframe\">\n",
       "  <thead>\n",
       "    <tr style=\"text-align: right;\">\n",
       "      <th></th>\n",
       "      <th>Date</th>\n",
       "      <th>Time</th>\n",
       "      <th>FrameCounter</th>\n",
       "      <th>State</th>\n",
       "      <th>RPM</th>\n",
       "      <th>ObjectDistance</th>\n",
       "      <th>SignalQuality</th>\n",
       "      <th>MovementSlow</th>\n",
       "      <th>MovementFast</th>\n",
       "    </tr>\n",
       "  </thead>\n",
       "  <tbody>\n",
       "    <tr>\n",
       "      <th>0</th>\n",
       "      <td>2017-11-22</td>\n",
       "      <td>23:45:00</td>\n",
       "      <td>32734</td>\n",
       "      <td>1</td>\n",
       "      <td>0.0000</td>\n",
       "      <td>0.989470</td>\n",
       "      <td>4</td>\n",
       "      <td>14.26930</td>\n",
       "      <td>0.055457</td>\n",
       "    </tr>\n",
       "    <tr>\n",
       "      <th>1</th>\n",
       "      <td>2017-11-22</td>\n",
       "      <td>23:45:01</td>\n",
       "      <td>32751</td>\n",
       "      <td>1</td>\n",
       "      <td>0.0000</td>\n",
       "      <td>0.987036</td>\n",
       "      <td>4</td>\n",
       "      <td>12.20640</td>\n",
       "      <td>0.088731</td>\n",
       "    </tr>\n",
       "    <tr>\n",
       "      <th>2</th>\n",
       "      <td>2017-11-22</td>\n",
       "      <td>23:45:02</td>\n",
       "      <td>32768</td>\n",
       "      <td>1</td>\n",
       "      <td>0.0000</td>\n",
       "      <td>1.008620</td>\n",
       "      <td>7</td>\n",
       "      <td>10.84580</td>\n",
       "      <td>1.696980</td>\n",
       "    </tr>\n",
       "    <tr>\n",
       "      <th>3</th>\n",
       "      <td>2017-11-22</td>\n",
       "      <td>23:45:03</td>\n",
       "      <td>32785</td>\n",
       "      <td>2</td>\n",
       "      <td>0.0000</td>\n",
       "      <td>0.976657</td>\n",
       "      <td>0</td>\n",
       "      <td>11.29010</td>\n",
       "      <td>2.628660</td>\n",
       "    </tr>\n",
       "    <tr>\n",
       "      <th>4</th>\n",
       "      <td>2017-11-22</td>\n",
       "      <td>23:45:04</td>\n",
       "      <td>32802</td>\n",
       "      <td>1</td>\n",
       "      <td>0.0000</td>\n",
       "      <td>0.958549</td>\n",
       "      <td>0</td>\n",
       "      <td>13.42030</td>\n",
       "      <td>3.826530</td>\n",
       "    </tr>\n",
       "    <tr>\n",
       "      <th>5</th>\n",
       "      <td>2017-11-22</td>\n",
       "      <td>23:45:05</td>\n",
       "      <td>32819</td>\n",
       "      <td>1</td>\n",
       "      <td>0.0000</td>\n",
       "      <td>1.021660</td>\n",
       "      <td>5</td>\n",
       "      <td>16.41150</td>\n",
       "      <td>3.981810</td>\n",
       "    </tr>\n",
       "    <tr>\n",
       "      <th>6</th>\n",
       "      <td>2017-11-22</td>\n",
       "      <td>23:45:06</td>\n",
       "      <td>32836</td>\n",
       "      <td>2</td>\n",
       "      <td>0.0000</td>\n",
       "      <td>1.021190</td>\n",
       "      <td>6</td>\n",
       "      <td>18.86310</td>\n",
       "      <td>2.639750</td>\n",
       "    </tr>\n",
       "    <tr>\n",
       "      <th>7</th>\n",
       "      <td>2017-11-22</td>\n",
       "      <td>23:45:07</td>\n",
       "      <td>32853</td>\n",
       "      <td>1</td>\n",
       "      <td>0.0000</td>\n",
       "      <td>1.020810</td>\n",
       "      <td>6</td>\n",
       "      <td>20.23170</td>\n",
       "      <td>2.107360</td>\n",
       "    </tr>\n",
       "    <tr>\n",
       "      <th>8</th>\n",
       "      <td>2017-11-22</td>\n",
       "      <td>23:45:08</td>\n",
       "      <td>32870</td>\n",
       "      <td>1</td>\n",
       "      <td>0.0000</td>\n",
       "      <td>1.022360</td>\n",
       "      <td>6</td>\n",
       "      <td>21.00920</td>\n",
       "      <td>1.563890</td>\n",
       "    </tr>\n",
       "    <tr>\n",
       "      <th>9</th>\n",
       "      <td>2017-11-22</td>\n",
       "      <td>23:45:09</td>\n",
       "      <td>32887</td>\n",
       "      <td>2</td>\n",
       "      <td>0.0000</td>\n",
       "      <td>1.023690</td>\n",
       "      <td>6</td>\n",
       "      <td>21.32260</td>\n",
       "      <td>1.197870</td>\n",
       "    </tr>\n",
       "    <tr>\n",
       "      <th>10</th>\n",
       "      <td>2017-11-22</td>\n",
       "      <td>23:45:10</td>\n",
       "      <td>32904</td>\n",
       "      <td>1</td>\n",
       "      <td>0.0000</td>\n",
       "      <td>1.022360</td>\n",
       "      <td>6</td>\n",
       "      <td>21.48130</td>\n",
       "      <td>0.820763</td>\n",
       "    </tr>\n",
       "    <tr>\n",
       "      <th>11</th>\n",
       "      <td>2017-11-22</td>\n",
       "      <td>23:45:11</td>\n",
       "      <td>32921</td>\n",
       "      <td>1</td>\n",
       "      <td>0.0000</td>\n",
       "      <td>1.002060</td>\n",
       "      <td>6</td>\n",
       "      <td>21.77880</td>\n",
       "      <td>0.776398</td>\n",
       "    </tr>\n",
       "    <tr>\n",
       "      <th>12</th>\n",
       "      <td>2017-11-22</td>\n",
       "      <td>23:45:12</td>\n",
       "      <td>32938</td>\n",
       "      <td>2</td>\n",
       "      <td>0.0000</td>\n",
       "      <td>1.005100</td>\n",
       "      <td>6</td>\n",
       "      <td>21.94540</td>\n",
       "      <td>1.342060</td>\n",
       "    </tr>\n",
       "    <tr>\n",
       "      <th>13</th>\n",
       "      <td>2017-11-22</td>\n",
       "      <td>23:45:13</td>\n",
       "      <td>32955</td>\n",
       "      <td>2</td>\n",
       "      <td>0.0000</td>\n",
       "      <td>1.010820</td>\n",
       "      <td>6</td>\n",
       "      <td>22.27070</td>\n",
       "      <td>1.475160</td>\n",
       "    </tr>\n",
       "    <tr>\n",
       "      <th>14</th>\n",
       "      <td>2017-11-22</td>\n",
       "      <td>23:45:14</td>\n",
       "      <td>32972</td>\n",
       "      <td>2</td>\n",
       "      <td>0.0000</td>\n",
       "      <td>1.023160</td>\n",
       "      <td>6</td>\n",
       "      <td>22.68330</td>\n",
       "      <td>1.652620</td>\n",
       "    </tr>\n",
       "    <tr>\n",
       "      <th>15</th>\n",
       "      <td>2017-11-22</td>\n",
       "      <td>23:45:15</td>\n",
       "      <td>32989</td>\n",
       "      <td>2</td>\n",
       "      <td>0.0000</td>\n",
       "      <td>0.996406</td>\n",
       "      <td>5</td>\n",
       "      <td>22.82210</td>\n",
       "      <td>1.719170</td>\n",
       "    </tr>\n",
       "    <tr>\n",
       "      <th>16</th>\n",
       "      <td>2017-11-22</td>\n",
       "      <td>23:45:16</td>\n",
       "      <td>33006</td>\n",
       "      <td>1</td>\n",
       "      <td>0.0000</td>\n",
       "      <td>0.998060</td>\n",
       "      <td>5</td>\n",
       "      <td>22.47300</td>\n",
       "      <td>1.031500</td>\n",
       "    </tr>\n",
       "    <tr>\n",
       "      <th>17</th>\n",
       "      <td>2017-11-22</td>\n",
       "      <td>23:45:17</td>\n",
       "      <td>33023</td>\n",
       "      <td>1</td>\n",
       "      <td>0.0000</td>\n",
       "      <td>0.998556</td>\n",
       "      <td>5</td>\n",
       "      <td>21.64390</td>\n",
       "      <td>0.876220</td>\n",
       "    </tr>\n",
       "    <tr>\n",
       "      <th>18</th>\n",
       "      <td>2017-11-22</td>\n",
       "      <td>23:45:18</td>\n",
       "      <td>33040</td>\n",
       "      <td>2</td>\n",
       "      <td>0.0000</td>\n",
       "      <td>1.021300</td>\n",
       "      <td>6</td>\n",
       "      <td>20.37850</td>\n",
       "      <td>0.676575</td>\n",
       "    </tr>\n",
       "    <tr>\n",
       "      <th>19</th>\n",
       "      <td>2017-11-22</td>\n",
       "      <td>23:45:19</td>\n",
       "      <td>33057</td>\n",
       "      <td>1</td>\n",
       "      <td>0.0000</td>\n",
       "      <td>1.011650</td>\n",
       "      <td>6</td>\n",
       "      <td>18.88690</td>\n",
       "      <td>0.277285</td>\n",
       "    </tr>\n",
       "    <tr>\n",
       "      <th>20</th>\n",
       "      <td>2017-11-22</td>\n",
       "      <td>23:45:20</td>\n",
       "      <td>33074</td>\n",
       "      <td>1</td>\n",
       "      <td>0.0000</td>\n",
       "      <td>0.996830</td>\n",
       "      <td>5</td>\n",
       "      <td>17.70070</td>\n",
       "      <td>0.177462</td>\n",
       "    </tr>\n",
       "    <tr>\n",
       "      <th>21</th>\n",
       "      <td>2017-11-22</td>\n",
       "      <td>23:45:21</td>\n",
       "      <td>33091</td>\n",
       "      <td>2</td>\n",
       "      <td>0.0000</td>\n",
       "      <td>1.017250</td>\n",
       "      <td>4</td>\n",
       "      <td>16.59790</td>\n",
       "      <td>0.088731</td>\n",
       "    </tr>\n",
       "    <tr>\n",
       "      <th>22</th>\n",
       "      <td>2017-11-22</td>\n",
       "      <td>23:45:22</td>\n",
       "      <td>33108</td>\n",
       "      <td>2</td>\n",
       "      <td>0.0000</td>\n",
       "      <td>1.007130</td>\n",
       "      <td>3</td>\n",
       "      <td>15.93940</td>\n",
       "      <td>0.077640</td>\n",
       "    </tr>\n",
       "    <tr>\n",
       "      <th>23</th>\n",
       "      <td>2017-11-22</td>\n",
       "      <td>23:45:23</td>\n",
       "      <td>33125</td>\n",
       "      <td>2</td>\n",
       "      <td>0.0000</td>\n",
       "      <td>1.000310</td>\n",
       "      <td>1</td>\n",
       "      <td>15.32850</td>\n",
       "      <td>0.033274</td>\n",
       "    </tr>\n",
       "    <tr>\n",
       "      <th>24</th>\n",
       "      <td>2017-11-22</td>\n",
       "      <td>23:45:24</td>\n",
       "      <td>33142</td>\n",
       "      <td>2</td>\n",
       "      <td>0.0000</td>\n",
       "      <td>1.014170</td>\n",
       "      <td>1</td>\n",
       "      <td>14.74530</td>\n",
       "      <td>0.077640</td>\n",
       "    </tr>\n",
       "    <tr>\n",
       "      <th>25</th>\n",
       "      <td>2017-11-22</td>\n",
       "      <td>23:45:25</td>\n",
       "      <td>33159</td>\n",
       "      <td>1</td>\n",
       "      <td>0.0000</td>\n",
       "      <td>1.008120</td>\n",
       "      <td>2</td>\n",
       "      <td>14.05510</td>\n",
       "      <td>0.044366</td>\n",
       "    </tr>\n",
       "    <tr>\n",
       "      <th>26</th>\n",
       "      <td>2017-11-22</td>\n",
       "      <td>23:45:26</td>\n",
       "      <td>33176</td>\n",
       "      <td>1</td>\n",
       "      <td>0.0000</td>\n",
       "      <td>1.004150</td>\n",
       "      <td>4</td>\n",
       "      <td>12.91650</td>\n",
       "      <td>0.000000</td>\n",
       "    </tr>\n",
       "    <tr>\n",
       "      <th>27</th>\n",
       "      <td>2017-11-22</td>\n",
       "      <td>23:45:27</td>\n",
       "      <td>33193</td>\n",
       "      <td>2</td>\n",
       "      <td>0.0000</td>\n",
       "      <td>0.993649</td>\n",
       "      <td>3</td>\n",
       "      <td>11.81770</td>\n",
       "      <td>0.000000</td>\n",
       "    </tr>\n",
       "    <tr>\n",
       "      <th>28</th>\n",
       "      <td>2017-11-22</td>\n",
       "      <td>23:45:28</td>\n",
       "      <td>33210</td>\n",
       "      <td>1</td>\n",
       "      <td>0.0000</td>\n",
       "      <td>0.975221</td>\n",
       "      <td>0</td>\n",
       "      <td>10.58390</td>\n",
       "      <td>0.044366</td>\n",
       "    </tr>\n",
       "    <tr>\n",
       "      <th>29</th>\n",
       "      <td>2017-11-22</td>\n",
       "      <td>23:45:29</td>\n",
       "      <td>33227</td>\n",
       "      <td>1</td>\n",
       "      <td>0.0000</td>\n",
       "      <td>1.014040</td>\n",
       "      <td>3</td>\n",
       "      <td>9.57236</td>\n",
       "      <td>0.011091</td>\n",
       "    </tr>\n",
       "    <tr>\n",
       "      <th>...</th>\n",
       "      <td>...</td>\n",
       "      <td>...</td>\n",
       "      <td>...</td>\n",
       "      <td>...</td>\n",
       "      <td>...</td>\n",
       "      <td>...</td>\n",
       "      <td>...</td>\n",
       "      <td>...</td>\n",
       "      <td>...</td>\n",
       "    </tr>\n",
       "    <tr>\n",
       "      <th>24675</th>\n",
       "      <td>2017-11-23</td>\n",
       "      <td>06:35:00</td>\n",
       "      <td>452209</td>\n",
       "      <td>2</td>\n",
       "      <td>0.0000</td>\n",
       "      <td>0.558913</td>\n",
       "      <td>10</td>\n",
       "      <td>41.26860</td>\n",
       "      <td>0.842946</td>\n",
       "    </tr>\n",
       "    <tr>\n",
       "      <th>24676</th>\n",
       "      <td>2017-11-23</td>\n",
       "      <td>06:35:01</td>\n",
       "      <td>452226</td>\n",
       "      <td>2</td>\n",
       "      <td>0.0000</td>\n",
       "      <td>0.560087</td>\n",
       "      <td>10</td>\n",
       "      <td>40.87990</td>\n",
       "      <td>0.532387</td>\n",
       "    </tr>\n",
       "    <tr>\n",
       "      <th>24677</th>\n",
       "      <td>2017-11-23</td>\n",
       "      <td>06:35:02</td>\n",
       "      <td>452243</td>\n",
       "      <td>2</td>\n",
       "      <td>0.0000</td>\n",
       "      <td>0.559488</td>\n",
       "      <td>10</td>\n",
       "      <td>40.46330</td>\n",
       "      <td>0.576752</td>\n",
       "    </tr>\n",
       "    <tr>\n",
       "      <th>24678</th>\n",
       "      <td>2017-11-23</td>\n",
       "      <td>06:35:03</td>\n",
       "      <td>452260</td>\n",
       "      <td>2</td>\n",
       "      <td>0.0000</td>\n",
       "      <td>0.558793</td>\n",
       "      <td>10</td>\n",
       "      <td>40.10630</td>\n",
       "      <td>0.720941</td>\n",
       "    </tr>\n",
       "    <tr>\n",
       "      <th>24679</th>\n",
       "      <td>2017-11-23</td>\n",
       "      <td>06:35:04</td>\n",
       "      <td>452277</td>\n",
       "      <td>2</td>\n",
       "      <td>0.0000</td>\n",
       "      <td>0.558038</td>\n",
       "      <td>10</td>\n",
       "      <td>39.55890</td>\n",
       "      <td>0.743123</td>\n",
       "    </tr>\n",
       "    <tr>\n",
       "      <th>24680</th>\n",
       "      <td>2017-11-23</td>\n",
       "      <td>06:35:05</td>\n",
       "      <td>452294</td>\n",
       "      <td>1</td>\n",
       "      <td>0.0000</td>\n",
       "      <td>0.557073</td>\n",
       "      <td>10</td>\n",
       "      <td>38.93210</td>\n",
       "      <td>0.876220</td>\n",
       "    </tr>\n",
       "    <tr>\n",
       "      <th>24681</th>\n",
       "      <td>2017-11-23</td>\n",
       "      <td>06:35:06</td>\n",
       "      <td>452311</td>\n",
       "      <td>1</td>\n",
       "      <td>0.0000</td>\n",
       "      <td>0.560343</td>\n",
       "      <td>10</td>\n",
       "      <td>38.23790</td>\n",
       "      <td>0.809672</td>\n",
       "    </tr>\n",
       "    <tr>\n",
       "      <th>24682</th>\n",
       "      <td>2017-11-23</td>\n",
       "      <td>06:35:07</td>\n",
       "      <td>452328</td>\n",
       "      <td>1</td>\n",
       "      <td>0.0000</td>\n",
       "      <td>0.559434</td>\n",
       "      <td>10</td>\n",
       "      <td>37.38100</td>\n",
       "      <td>1.042590</td>\n",
       "    </tr>\n",
       "    <tr>\n",
       "      <th>24683</th>\n",
       "      <td>2017-11-23</td>\n",
       "      <td>06:35:08</td>\n",
       "      <td>452345</td>\n",
       "      <td>1</td>\n",
       "      <td>0.0000</td>\n",
       "      <td>0.561470</td>\n",
       "      <td>10</td>\n",
       "      <td>35.69110</td>\n",
       "      <td>1.098050</td>\n",
       "    </tr>\n",
       "    <tr>\n",
       "      <th>24684</th>\n",
       "      <td>2017-11-23</td>\n",
       "      <td>06:35:09</td>\n",
       "      <td>452362</td>\n",
       "      <td>2</td>\n",
       "      <td>0.0000</td>\n",
       "      <td>0.554580</td>\n",
       "      <td>6</td>\n",
       "      <td>33.53300</td>\n",
       "      <td>0.987134</td>\n",
       "    </tr>\n",
       "    <tr>\n",
       "      <th>24685</th>\n",
       "      <td>2017-11-23</td>\n",
       "      <td>06:35:10</td>\n",
       "      <td>452379</td>\n",
       "      <td>2</td>\n",
       "      <td>0.0000</td>\n",
       "      <td>0.556498</td>\n",
       "      <td>5</td>\n",
       "      <td>32.22390</td>\n",
       "      <td>1.098050</td>\n",
       "    </tr>\n",
       "    <tr>\n",
       "      <th>24686</th>\n",
       "      <td>2017-11-23</td>\n",
       "      <td>06:35:11</td>\n",
       "      <td>452396</td>\n",
       "      <td>1</td>\n",
       "      <td>0.0000</td>\n",
       "      <td>0.525185</td>\n",
       "      <td>4</td>\n",
       "      <td>31.88270</td>\n",
       "      <td>0.942768</td>\n",
       "    </tr>\n",
       "    <tr>\n",
       "      <th>24687</th>\n",
       "      <td>2017-11-23</td>\n",
       "      <td>06:35:12</td>\n",
       "      <td>452413</td>\n",
       "      <td>1</td>\n",
       "      <td>0.0000</td>\n",
       "      <td>0.604039</td>\n",
       "      <td>3</td>\n",
       "      <td>32.01760</td>\n",
       "      <td>0.776398</td>\n",
       "    </tr>\n",
       "    <tr>\n",
       "      <th>24688</th>\n",
       "      <td>2017-11-23</td>\n",
       "      <td>06:35:13</td>\n",
       "      <td>452430</td>\n",
       "      <td>2</td>\n",
       "      <td>0.0000</td>\n",
       "      <td>0.577407</td>\n",
       "      <td>2</td>\n",
       "      <td>32.37070</td>\n",
       "      <td>0.765306</td>\n",
       "    </tr>\n",
       "    <tr>\n",
       "      <th>24689</th>\n",
       "      <td>2017-11-23</td>\n",
       "      <td>06:35:14</td>\n",
       "      <td>452447</td>\n",
       "      <td>2</td>\n",
       "      <td>0.0000</td>\n",
       "      <td>0.538143</td>\n",
       "      <td>1</td>\n",
       "      <td>32.47780</td>\n",
       "      <td>0.343833</td>\n",
       "    </tr>\n",
       "    <tr>\n",
       "      <th>24690</th>\n",
       "      <td>2017-11-23</td>\n",
       "      <td>06:35:15</td>\n",
       "      <td>452464</td>\n",
       "      <td>2</td>\n",
       "      <td>0.0000</td>\n",
       "      <td>0.542100</td>\n",
       "      <td>2</td>\n",
       "      <td>32.13270</td>\n",
       "      <td>0.088731</td>\n",
       "    </tr>\n",
       "    <tr>\n",
       "      <th>24691</th>\n",
       "      <td>2017-11-23</td>\n",
       "      <td>06:35:16</td>\n",
       "      <td>452481</td>\n",
       "      <td>2</td>\n",
       "      <td>0.0000</td>\n",
       "      <td>0.542652</td>\n",
       "      <td>2</td>\n",
       "      <td>31.73200</td>\n",
       "      <td>0.110914</td>\n",
       "    </tr>\n",
       "    <tr>\n",
       "      <th>24692</th>\n",
       "      <td>2017-11-23</td>\n",
       "      <td>06:35:17</td>\n",
       "      <td>452498</td>\n",
       "      <td>2</td>\n",
       "      <td>0.0000</td>\n",
       "      <td>0.538291</td>\n",
       "      <td>2</td>\n",
       "      <td>31.29170</td>\n",
       "      <td>0.110914</td>\n",
       "    </tr>\n",
       "    <tr>\n",
       "      <th>24693</th>\n",
       "      <td>2017-11-23</td>\n",
       "      <td>06:35:18</td>\n",
       "      <td>452515</td>\n",
       "      <td>0</td>\n",
       "      <td>17.4612</td>\n",
       "      <td>0.703331</td>\n",
       "      <td>10</td>\n",
       "      <td>30.78390</td>\n",
       "      <td>0.321650</td>\n",
       "    </tr>\n",
       "    <tr>\n",
       "      <th>24694</th>\n",
       "      <td>2017-11-23</td>\n",
       "      <td>06:35:19</td>\n",
       "      <td>452532</td>\n",
       "      <td>0</td>\n",
       "      <td>17.3876</td>\n",
       "      <td>0.705032</td>\n",
       "      <td>10</td>\n",
       "      <td>30.42680</td>\n",
       "      <td>0.488021</td>\n",
       "    </tr>\n",
       "    <tr>\n",
       "      <th>24695</th>\n",
       "      <td>2017-11-23</td>\n",
       "      <td>06:35:20</td>\n",
       "      <td>452549</td>\n",
       "      <td>0</td>\n",
       "      <td>17.2794</td>\n",
       "      <td>0.706240</td>\n",
       "      <td>10</td>\n",
       "      <td>30.45860</td>\n",
       "      <td>0.532387</td>\n",
       "    </tr>\n",
       "    <tr>\n",
       "      <th>24696</th>\n",
       "      <td>2017-11-23</td>\n",
       "      <td>06:35:21</td>\n",
       "      <td>452566</td>\n",
       "      <td>0</td>\n",
       "      <td>17.1584</td>\n",
       "      <td>0.707170</td>\n",
       "      <td>10</td>\n",
       "      <td>30.59740</td>\n",
       "      <td>0.720941</td>\n",
       "    </tr>\n",
       "    <tr>\n",
       "      <th>24697</th>\n",
       "      <td>2017-11-23</td>\n",
       "      <td>06:35:22</td>\n",
       "      <td>452583</td>\n",
       "      <td>0</td>\n",
       "      <td>17.0382</td>\n",
       "      <td>0.707439</td>\n",
       "      <td>10</td>\n",
       "      <td>30.55780</td>\n",
       "      <td>0.598935</td>\n",
       "    </tr>\n",
       "    <tr>\n",
       "      <th>24698</th>\n",
       "      <td>2017-11-23</td>\n",
       "      <td>06:35:23</td>\n",
       "      <td>452600</td>\n",
       "      <td>0</td>\n",
       "      <td>16.9335</td>\n",
       "      <td>0.706737</td>\n",
       "      <td>10</td>\n",
       "      <td>30.43480</td>\n",
       "      <td>0.865129</td>\n",
       "    </tr>\n",
       "    <tr>\n",
       "      <th>24699</th>\n",
       "      <td>2017-11-23</td>\n",
       "      <td>06:35:24</td>\n",
       "      <td>452617</td>\n",
       "      <td>0</td>\n",
       "      <td>16.7811</td>\n",
       "      <td>0.707123</td>\n",
       "      <td>10</td>\n",
       "      <td>29.80010</td>\n",
       "      <td>0.854037</td>\n",
       "    </tr>\n",
       "    <tr>\n",
       "      <th>24700</th>\n",
       "      <td>2017-11-23</td>\n",
       "      <td>06:35:25</td>\n",
       "      <td>452634</td>\n",
       "      <td>0</td>\n",
       "      <td>16.5326</td>\n",
       "      <td>0.711621</td>\n",
       "      <td>10</td>\n",
       "      <td>29.15740</td>\n",
       "      <td>0.587844</td>\n",
       "    </tr>\n",
       "    <tr>\n",
       "      <th>24701</th>\n",
       "      <td>2017-11-23</td>\n",
       "      <td>06:35:26</td>\n",
       "      <td>452651</td>\n",
       "      <td>0</td>\n",
       "      <td>16.1115</td>\n",
       "      <td>0.713980</td>\n",
       "      <td>10</td>\n",
       "      <td>29.34780</td>\n",
       "      <td>0.754215</td>\n",
       "    </tr>\n",
       "    <tr>\n",
       "      <th>24702</th>\n",
       "      <td>2017-11-23</td>\n",
       "      <td>06:35:27</td>\n",
       "      <td>452668</td>\n",
       "      <td>0</td>\n",
       "      <td>15.9265</td>\n",
       "      <td>0.718161</td>\n",
       "      <td>10</td>\n",
       "      <td>29.70090</td>\n",
       "      <td>1.685890</td>\n",
       "    </tr>\n",
       "    <tr>\n",
       "      <th>24703</th>\n",
       "      <td>2017-11-23</td>\n",
       "      <td>06:35:28</td>\n",
       "      <td>452685</td>\n",
       "      <td>0</td>\n",
       "      <td>15.5886</td>\n",
       "      <td>0.722880</td>\n",
       "      <td>10</td>\n",
       "      <td>30.65690</td>\n",
       "      <td>1.818990</td>\n",
       "    </tr>\n",
       "    <tr>\n",
       "      <th>24704</th>\n",
       "      <td>2017-11-23</td>\n",
       "      <td>06:35:29</td>\n",
       "      <td>452702</td>\n",
       "      <td>0</td>\n",
       "      <td>15.5886</td>\n",
       "      <td>0.722880</td>\n",
       "      <td>10</td>\n",
       "      <td>32.60870</td>\n",
       "      <td>1.885540</td>\n",
       "    </tr>\n",
       "  </tbody>\n",
       "</table>\n",
       "<p>24705 rows × 9 columns</p>\n",
       "</div>"
      ],
      "text/plain": [
       "             Date      Time  FrameCounter  State      RPM  ObjectDistance  \\\n",
       "0      2017-11-22  23:45:00         32734      1   0.0000        0.989470   \n",
       "1      2017-11-22  23:45:01         32751      1   0.0000        0.987036   \n",
       "2      2017-11-22  23:45:02         32768      1   0.0000        1.008620   \n",
       "3      2017-11-22  23:45:03         32785      2   0.0000        0.976657   \n",
       "4      2017-11-22  23:45:04         32802      1   0.0000        0.958549   \n",
       "5      2017-11-22  23:45:05         32819      1   0.0000        1.021660   \n",
       "6      2017-11-22  23:45:06         32836      2   0.0000        1.021190   \n",
       "7      2017-11-22  23:45:07         32853      1   0.0000        1.020810   \n",
       "8      2017-11-22  23:45:08         32870      1   0.0000        1.022360   \n",
       "9      2017-11-22  23:45:09         32887      2   0.0000        1.023690   \n",
       "10     2017-11-22  23:45:10         32904      1   0.0000        1.022360   \n",
       "11     2017-11-22  23:45:11         32921      1   0.0000        1.002060   \n",
       "12     2017-11-22  23:45:12         32938      2   0.0000        1.005100   \n",
       "13     2017-11-22  23:45:13         32955      2   0.0000        1.010820   \n",
       "14     2017-11-22  23:45:14         32972      2   0.0000        1.023160   \n",
       "15     2017-11-22  23:45:15         32989      2   0.0000        0.996406   \n",
       "16     2017-11-22  23:45:16         33006      1   0.0000        0.998060   \n",
       "17     2017-11-22  23:45:17         33023      1   0.0000        0.998556   \n",
       "18     2017-11-22  23:45:18         33040      2   0.0000        1.021300   \n",
       "19     2017-11-22  23:45:19         33057      1   0.0000        1.011650   \n",
       "20     2017-11-22  23:45:20         33074      1   0.0000        0.996830   \n",
       "21     2017-11-22  23:45:21         33091      2   0.0000        1.017250   \n",
       "22     2017-11-22  23:45:22         33108      2   0.0000        1.007130   \n",
       "23     2017-11-22  23:45:23         33125      2   0.0000        1.000310   \n",
       "24     2017-11-22  23:45:24         33142      2   0.0000        1.014170   \n",
       "25     2017-11-22  23:45:25         33159      1   0.0000        1.008120   \n",
       "26     2017-11-22  23:45:26         33176      1   0.0000        1.004150   \n",
       "27     2017-11-22  23:45:27         33193      2   0.0000        0.993649   \n",
       "28     2017-11-22  23:45:28         33210      1   0.0000        0.975221   \n",
       "29     2017-11-22  23:45:29         33227      1   0.0000        1.014040   \n",
       "...           ...       ...           ...    ...      ...             ...   \n",
       "24675  2017-11-23  06:35:00        452209      2   0.0000        0.558913   \n",
       "24676  2017-11-23  06:35:01        452226      2   0.0000        0.560087   \n",
       "24677  2017-11-23  06:35:02        452243      2   0.0000        0.559488   \n",
       "24678  2017-11-23  06:35:03        452260      2   0.0000        0.558793   \n",
       "24679  2017-11-23  06:35:04        452277      2   0.0000        0.558038   \n",
       "24680  2017-11-23  06:35:05        452294      1   0.0000        0.557073   \n",
       "24681  2017-11-23  06:35:06        452311      1   0.0000        0.560343   \n",
       "24682  2017-11-23  06:35:07        452328      1   0.0000        0.559434   \n",
       "24683  2017-11-23  06:35:08        452345      1   0.0000        0.561470   \n",
       "24684  2017-11-23  06:35:09        452362      2   0.0000        0.554580   \n",
       "24685  2017-11-23  06:35:10        452379      2   0.0000        0.556498   \n",
       "24686  2017-11-23  06:35:11        452396      1   0.0000        0.525185   \n",
       "24687  2017-11-23  06:35:12        452413      1   0.0000        0.604039   \n",
       "24688  2017-11-23  06:35:13        452430      2   0.0000        0.577407   \n",
       "24689  2017-11-23  06:35:14        452447      2   0.0000        0.538143   \n",
       "24690  2017-11-23  06:35:15        452464      2   0.0000        0.542100   \n",
       "24691  2017-11-23  06:35:16        452481      2   0.0000        0.542652   \n",
       "24692  2017-11-23  06:35:17        452498      2   0.0000        0.538291   \n",
       "24693  2017-11-23  06:35:18        452515      0  17.4612        0.703331   \n",
       "24694  2017-11-23  06:35:19        452532      0  17.3876        0.705032   \n",
       "24695  2017-11-23  06:35:20        452549      0  17.2794        0.706240   \n",
       "24696  2017-11-23  06:35:21        452566      0  17.1584        0.707170   \n",
       "24697  2017-11-23  06:35:22        452583      0  17.0382        0.707439   \n",
       "24698  2017-11-23  06:35:23        452600      0  16.9335        0.706737   \n",
       "24699  2017-11-23  06:35:24        452617      0  16.7811        0.707123   \n",
       "24700  2017-11-23  06:35:25        452634      0  16.5326        0.711621   \n",
       "24701  2017-11-23  06:35:26        452651      0  16.1115        0.713980   \n",
       "24702  2017-11-23  06:35:27        452668      0  15.9265        0.718161   \n",
       "24703  2017-11-23  06:35:28        452685      0  15.5886        0.722880   \n",
       "24704  2017-11-23  06:35:29        452702      0  15.5886        0.722880   \n",
       "\n",
       "       SignalQuality  MovementSlow  MovementFast  \n",
       "0                  4      14.26930      0.055457  \n",
       "1                  4      12.20640      0.088731  \n",
       "2                  7      10.84580      1.696980  \n",
       "3                  0      11.29010      2.628660  \n",
       "4                  0      13.42030      3.826530  \n",
       "5                  5      16.41150      3.981810  \n",
       "6                  6      18.86310      2.639750  \n",
       "7                  6      20.23170      2.107360  \n",
       "8                  6      21.00920      1.563890  \n",
       "9                  6      21.32260      1.197870  \n",
       "10                 6      21.48130      0.820763  \n",
       "11                 6      21.77880      0.776398  \n",
       "12                 6      21.94540      1.342060  \n",
       "13                 6      22.27070      1.475160  \n",
       "14                 6      22.68330      1.652620  \n",
       "15                 5      22.82210      1.719170  \n",
       "16                 5      22.47300      1.031500  \n",
       "17                 5      21.64390      0.876220  \n",
       "18                 6      20.37850      0.676575  \n",
       "19                 6      18.88690      0.277285  \n",
       "20                 5      17.70070      0.177462  \n",
       "21                 4      16.59790      0.088731  \n",
       "22                 3      15.93940      0.077640  \n",
       "23                 1      15.32850      0.033274  \n",
       "24                 1      14.74530      0.077640  \n",
       "25                 2      14.05510      0.044366  \n",
       "26                 4      12.91650      0.000000  \n",
       "27                 3      11.81770      0.000000  \n",
       "28                 0      10.58390      0.044366  \n",
       "29                 3       9.57236      0.011091  \n",
       "...              ...           ...           ...  \n",
       "24675             10      41.26860      0.842946  \n",
       "24676             10      40.87990      0.532387  \n",
       "24677             10      40.46330      0.576752  \n",
       "24678             10      40.10630      0.720941  \n",
       "24679             10      39.55890      0.743123  \n",
       "24680             10      38.93210      0.876220  \n",
       "24681             10      38.23790      0.809672  \n",
       "24682             10      37.38100      1.042590  \n",
       "24683             10      35.69110      1.098050  \n",
       "24684              6      33.53300      0.987134  \n",
       "24685              5      32.22390      1.098050  \n",
       "24686              4      31.88270      0.942768  \n",
       "24687              3      32.01760      0.776398  \n",
       "24688              2      32.37070      0.765306  \n",
       "24689              1      32.47780      0.343833  \n",
       "24690              2      32.13270      0.088731  \n",
       "24691              2      31.73200      0.110914  \n",
       "24692              2      31.29170      0.110914  \n",
       "24693             10      30.78390      0.321650  \n",
       "24694             10      30.42680      0.488021  \n",
       "24695             10      30.45860      0.532387  \n",
       "24696             10      30.59740      0.720941  \n",
       "24697             10      30.55780      0.598935  \n",
       "24698             10      30.43480      0.865129  \n",
       "24699             10      29.80010      0.854037  \n",
       "24700             10      29.15740      0.587844  \n",
       "24701             10      29.34780      0.754215  \n",
       "24702             10      29.70090      1.685890  \n",
       "24703             10      30.65690      1.818990  \n",
       "24704             10      32.60870      1.885540  \n",
       "\n",
       "[24705 rows x 9 columns]"
      ]
     },
     "execution_count": 17,
     "metadata": {},
     "output_type": "execute_result"
    }
   ],
   "source": [
    "data"
   ]
  },
  {
   "cell_type": "code",
   "execution_count": 18,
   "metadata": {},
   "outputs": [
    {
     "data": {
      "text/plain": [
       "0    19241\n",
       "2     2741\n",
       "1     2723\n",
       "Name: State, dtype: int64"
      ]
     },
     "execution_count": 18,
     "metadata": {},
     "output_type": "execute_result"
    }
   ],
   "source": [
    "data[\"State\"].value_counts()"
   ]
  },
  {
   "cell_type": "code",
   "execution_count": 19,
   "metadata": {},
   "outputs": [],
   "source": [
    "# data[\"RPM\"].value_counts(ascending=True)"
   ]
  },
  {
   "cell_type": "code",
   "execution_count": 20,
   "metadata": {},
   "outputs": [],
   "source": [
    "# data[\"ObjectDistance\"].value_counts()"
   ]
  },
  {
   "cell_type": "code",
   "execution_count": 21,
   "metadata": {},
   "outputs": [
    {
     "data": {
      "text/plain": [
       "10    19018\n",
       "2      1037\n",
       "3       735\n",
       "9       702\n",
       "4       640\n",
       "1       583\n",
       "5       553\n",
       "8       514\n",
       "7       419\n",
       "6       399\n",
       "0       105\n",
       "Name: SignalQuality, dtype: int64"
      ]
     },
     "execution_count": 21,
     "metadata": {},
     "output_type": "execute_result"
    }
   ],
   "source": [
    "data[\"SignalQuality\"].value_counts()"
   ]
  },
  {
   "cell_type": "code",
   "execution_count": 22,
   "metadata": {},
   "outputs": [],
   "source": [
    "# data[\"MovementSlow\"].value_counts()"
   ]
  },
  {
   "cell_type": "markdown",
   "metadata": {},
   "source": [
    "# Labels"
   ]
  },
  {
   "cell_type": "code",
   "execution_count": 37,
   "metadata": {},
   "outputs": [
    {
     "ename": "ParserError",
     "evalue": "Error tokenizing data. C error: Expected 1 fields in line 5, saw 6\n",
     "output_type": "error",
     "traceback": [
      "\u001b[0;31m---------------------------------------------------------------------------\u001b[0m",
      "\u001b[0;31mParserError\u001b[0m                               Traceback (most recent call last)",
      "\u001b[0;32m<ipython-input-37-5c8631843c66>\u001b[0m in \u001b[0;36m<module>\u001b[0;34m\u001b[0m\n\u001b[0;32m----> 1\u001b[0;31m \u001b[0mlabels\u001b[0m \u001b[0;34m=\u001b[0m \u001b[0mpd\u001b[0m\u001b[0;34m.\u001b[0m\u001b[0mread_csv\u001b[0m\u001b[0;34m(\u001b[0m\u001b[0;34m\"../formatedData/1/labels.csv\"\u001b[0m\u001b[0;34m,\u001b[0m\u001b[0msep\u001b[0m\u001b[0;34m=\u001b[0m\u001b[0;34m','\u001b[0m\u001b[0;34m)\u001b[0m\u001b[0;34m\u001b[0m\u001b[0;34m\u001b[0m\u001b[0m\n\u001b[0m",
      "\u001b[0;32m~/.local/lib/python3.7/site-packages/pandas/io/parsers.py\u001b[0m in \u001b[0;36mparser_f\u001b[0;34m(filepath_or_buffer, sep, delimiter, header, names, index_col, usecols, squeeze, prefix, mangle_dupe_cols, dtype, engine, converters, true_values, false_values, skipinitialspace, skiprows, skipfooter, nrows, na_values, keep_default_na, na_filter, verbose, skip_blank_lines, parse_dates, infer_datetime_format, keep_date_col, date_parser, dayfirst, iterator, chunksize, compression, thousands, decimal, lineterminator, quotechar, quoting, doublequote, escapechar, comment, encoding, dialect, tupleize_cols, error_bad_lines, warn_bad_lines, delim_whitespace, low_memory, memory_map, float_precision)\u001b[0m\n\u001b[1;32m    700\u001b[0m                     skip_blank_lines=skip_blank_lines)\n\u001b[1;32m    701\u001b[0m \u001b[0;34m\u001b[0m\u001b[0m\n\u001b[0;32m--> 702\u001b[0;31m         \u001b[0;32mreturn\u001b[0m \u001b[0m_read\u001b[0m\u001b[0;34m(\u001b[0m\u001b[0mfilepath_or_buffer\u001b[0m\u001b[0;34m,\u001b[0m \u001b[0mkwds\u001b[0m\u001b[0;34m)\u001b[0m\u001b[0;34m\u001b[0m\u001b[0;34m\u001b[0m\u001b[0m\n\u001b[0m\u001b[1;32m    703\u001b[0m \u001b[0;34m\u001b[0m\u001b[0m\n\u001b[1;32m    704\u001b[0m     \u001b[0mparser_f\u001b[0m\u001b[0;34m.\u001b[0m\u001b[0m__name__\u001b[0m \u001b[0;34m=\u001b[0m \u001b[0mname\u001b[0m\u001b[0;34m\u001b[0m\u001b[0;34m\u001b[0m\u001b[0m\n",
      "\u001b[0;32m~/.local/lib/python3.7/site-packages/pandas/io/parsers.py\u001b[0m in \u001b[0;36m_read\u001b[0;34m(filepath_or_buffer, kwds)\u001b[0m\n\u001b[1;32m    433\u001b[0m \u001b[0;34m\u001b[0m\u001b[0m\n\u001b[1;32m    434\u001b[0m     \u001b[0;32mtry\u001b[0m\u001b[0;34m:\u001b[0m\u001b[0;34m\u001b[0m\u001b[0;34m\u001b[0m\u001b[0m\n\u001b[0;32m--> 435\u001b[0;31m         \u001b[0mdata\u001b[0m \u001b[0;34m=\u001b[0m \u001b[0mparser\u001b[0m\u001b[0;34m.\u001b[0m\u001b[0mread\u001b[0m\u001b[0;34m(\u001b[0m\u001b[0mnrows\u001b[0m\u001b[0;34m)\u001b[0m\u001b[0;34m\u001b[0m\u001b[0;34m\u001b[0m\u001b[0m\n\u001b[0m\u001b[1;32m    436\u001b[0m     \u001b[0;32mfinally\u001b[0m\u001b[0;34m:\u001b[0m\u001b[0;34m\u001b[0m\u001b[0;34m\u001b[0m\u001b[0m\n\u001b[1;32m    437\u001b[0m         \u001b[0mparser\u001b[0m\u001b[0;34m.\u001b[0m\u001b[0mclose\u001b[0m\u001b[0;34m(\u001b[0m\u001b[0;34m)\u001b[0m\u001b[0;34m\u001b[0m\u001b[0;34m\u001b[0m\u001b[0m\n",
      "\u001b[0;32m~/.local/lib/python3.7/site-packages/pandas/io/parsers.py\u001b[0m in \u001b[0;36mread\u001b[0;34m(self, nrows)\u001b[0m\n\u001b[1;32m   1137\u001b[0m     \u001b[0;32mdef\u001b[0m \u001b[0mread\u001b[0m\u001b[0;34m(\u001b[0m\u001b[0mself\u001b[0m\u001b[0;34m,\u001b[0m \u001b[0mnrows\u001b[0m\u001b[0;34m=\u001b[0m\u001b[0;32mNone\u001b[0m\u001b[0;34m)\u001b[0m\u001b[0;34m:\u001b[0m\u001b[0;34m\u001b[0m\u001b[0;34m\u001b[0m\u001b[0m\n\u001b[1;32m   1138\u001b[0m         \u001b[0mnrows\u001b[0m \u001b[0;34m=\u001b[0m \u001b[0m_validate_integer\u001b[0m\u001b[0;34m(\u001b[0m\u001b[0;34m'nrows'\u001b[0m\u001b[0;34m,\u001b[0m \u001b[0mnrows\u001b[0m\u001b[0;34m)\u001b[0m\u001b[0;34m\u001b[0m\u001b[0;34m\u001b[0m\u001b[0m\n\u001b[0;32m-> 1139\u001b[0;31m         \u001b[0mret\u001b[0m \u001b[0;34m=\u001b[0m \u001b[0mself\u001b[0m\u001b[0;34m.\u001b[0m\u001b[0m_engine\u001b[0m\u001b[0;34m.\u001b[0m\u001b[0mread\u001b[0m\u001b[0;34m(\u001b[0m\u001b[0mnrows\u001b[0m\u001b[0;34m)\u001b[0m\u001b[0;34m\u001b[0m\u001b[0;34m\u001b[0m\u001b[0m\n\u001b[0m\u001b[1;32m   1140\u001b[0m \u001b[0;34m\u001b[0m\u001b[0m\n\u001b[1;32m   1141\u001b[0m         \u001b[0;31m# May alter columns / col_dict\u001b[0m\u001b[0;34m\u001b[0m\u001b[0;34m\u001b[0m\u001b[0;34m\u001b[0m\u001b[0m\n",
      "\u001b[0;32m~/.local/lib/python3.7/site-packages/pandas/io/parsers.py\u001b[0m in \u001b[0;36mread\u001b[0;34m(self, nrows)\u001b[0m\n\u001b[1;32m   1993\u001b[0m     \u001b[0;32mdef\u001b[0m \u001b[0mread\u001b[0m\u001b[0;34m(\u001b[0m\u001b[0mself\u001b[0m\u001b[0;34m,\u001b[0m \u001b[0mnrows\u001b[0m\u001b[0;34m=\u001b[0m\u001b[0;32mNone\u001b[0m\u001b[0;34m)\u001b[0m\u001b[0;34m:\u001b[0m\u001b[0;34m\u001b[0m\u001b[0;34m\u001b[0m\u001b[0m\n\u001b[1;32m   1994\u001b[0m         \u001b[0;32mtry\u001b[0m\u001b[0;34m:\u001b[0m\u001b[0;34m\u001b[0m\u001b[0;34m\u001b[0m\u001b[0m\n\u001b[0;32m-> 1995\u001b[0;31m             \u001b[0mdata\u001b[0m \u001b[0;34m=\u001b[0m \u001b[0mself\u001b[0m\u001b[0;34m.\u001b[0m\u001b[0m_reader\u001b[0m\u001b[0;34m.\u001b[0m\u001b[0mread\u001b[0m\u001b[0;34m(\u001b[0m\u001b[0mnrows\u001b[0m\u001b[0;34m)\u001b[0m\u001b[0;34m\u001b[0m\u001b[0;34m\u001b[0m\u001b[0m\n\u001b[0m\u001b[1;32m   1996\u001b[0m         \u001b[0;32mexcept\u001b[0m \u001b[0mStopIteration\u001b[0m\u001b[0;34m:\u001b[0m\u001b[0;34m\u001b[0m\u001b[0;34m\u001b[0m\u001b[0m\n\u001b[1;32m   1997\u001b[0m             \u001b[0;32mif\u001b[0m \u001b[0mself\u001b[0m\u001b[0;34m.\u001b[0m\u001b[0m_first_chunk\u001b[0m\u001b[0;34m:\u001b[0m\u001b[0;34m\u001b[0m\u001b[0;34m\u001b[0m\u001b[0m\n",
      "\u001b[0;32mpandas/_libs/parsers.pyx\u001b[0m in \u001b[0;36mpandas._libs.parsers.TextReader.read\u001b[0;34m()\u001b[0m\n",
      "\u001b[0;32mpandas/_libs/parsers.pyx\u001b[0m in \u001b[0;36mpandas._libs.parsers.TextReader._read_low_memory\u001b[0;34m()\u001b[0m\n",
      "\u001b[0;32mpandas/_libs/parsers.pyx\u001b[0m in \u001b[0;36mpandas._libs.parsers.TextReader._read_rows\u001b[0;34m()\u001b[0m\n",
      "\u001b[0;32mpandas/_libs/parsers.pyx\u001b[0m in \u001b[0;36mpandas._libs.parsers.TextReader._tokenize_rows\u001b[0;34m()\u001b[0m\n",
      "\u001b[0;32mpandas/_libs/parsers.pyx\u001b[0m in \u001b[0;36mpandas._libs.parsers.raise_parser_error\u001b[0;34m()\u001b[0m\n",
      "\u001b[0;31mParserError\u001b[0m: Error tokenizing data. C error: Expected 1 fields in line 5, saw 6\n"
     ]
    }
   ],
   "source": [
    "labels = pd.read_csv(\"../formatedData/1/labels.csv\",sep=',')"
   ]
  },
  {
   "cell_type": "code",
   "execution_count": 28,
   "metadata": {},
   "outputs": [
    {
     "data": {
      "text/html": [
       "<div>\n",
       "<style scoped>\n",
       "    .dataframe tbody tr th:only-of-type {\n",
       "        vertical-align: middle;\n",
       "    }\n",
       "\n",
       "    .dataframe tbody tr th {\n",
       "        vertical-align: top;\n",
       "    }\n",
       "\n",
       "    .dataframe thead th {\n",
       "        text-align: right;\n",
       "    }\n",
       "</style>\n",
       "<table border=\"1\" class=\"dataframe\">\n",
       "  <thead>\n",
       "    <tr style=\"text-align: right;\">\n",
       "      <th></th>\n",
       "      <th>000</th>\n",
       "      <th>0</th>\n",
       "    </tr>\n",
       "  </thead>\n",
       "  <tbody>\n",
       "    <tr>\n",
       "      <th>count</th>\n",
       "      <td>820.0</td>\n",
       "      <td>820.000000</td>\n",
       "    </tr>\n",
       "    <tr>\n",
       "      <th>mean</th>\n",
       "      <td>0.0</td>\n",
       "      <td>2.486585</td>\n",
       "    </tr>\n",
       "    <tr>\n",
       "      <th>std</th>\n",
       "      <td>0.0</td>\n",
       "      <td>1.141327</td>\n",
       "    </tr>\n",
       "    <tr>\n",
       "      <th>min</th>\n",
       "      <td>0.0</td>\n",
       "      <td>0.000000</td>\n",
       "    </tr>\n",
       "    <tr>\n",
       "      <th>25%</th>\n",
       "      <td>0.0</td>\n",
       "      <td>2.000000</td>\n",
       "    </tr>\n",
       "    <tr>\n",
       "      <th>50%</th>\n",
       "      <td>0.0</td>\n",
       "      <td>3.000000</td>\n",
       "    </tr>\n",
       "    <tr>\n",
       "      <th>75%</th>\n",
       "      <td>0.0</td>\n",
       "      <td>3.000000</td>\n",
       "    </tr>\n",
       "    <tr>\n",
       "      <th>max</th>\n",
       "      <td>0.0</td>\n",
       "      <td>4.000000</td>\n",
       "    </tr>\n",
       "  </tbody>\n",
       "</table>\n",
       "</div>"
      ],
      "text/plain": [
       "         000           0\n",
       "count  820.0  820.000000\n",
       "mean     0.0    2.486585\n",
       "std      0.0    1.141327\n",
       "min      0.0    0.000000\n",
       "25%      0.0    2.000000\n",
       "50%      0.0    3.000000\n",
       "75%      0.0    3.000000\n",
       "max      0.0    4.000000"
      ]
     },
     "execution_count": 28,
     "metadata": {},
     "output_type": "execute_result"
    }
   ],
   "source": [
    "labels.describe()"
   ]
  },
  {
   "cell_type": "code",
   "execution_count": 29,
   "metadata": {},
   "outputs": [
    {
     "data": {
      "text/html": [
       "<div>\n",
       "<style scoped>\n",
       "    .dataframe tbody tr th:only-of-type {\n",
       "        vertical-align: middle;\n",
       "    }\n",
       "\n",
       "    .dataframe tbody tr th {\n",
       "        vertical-align: top;\n",
       "    }\n",
       "\n",
       "    .dataframe thead th {\n",
       "        text-align: right;\n",
       "    }\n",
       "</style>\n",
       "<table border=\"1\" class=\"dataframe\">\n",
       "  <thead>\n",
       "    <tr style=\"text-align: right;\">\n",
       "      <th></th>\n",
       "      <th>23:45:00</th>\n",
       "      <th>000</th>\n",
       "      <th>0</th>\n",
       "    </tr>\n",
       "  </thead>\n",
       "  <tbody>\n",
       "    <tr>\n",
       "      <th>0</th>\n",
       "      <td>23:45:30</td>\n",
       "      <td>0</td>\n",
       "      <td>0</td>\n",
       "    </tr>\n",
       "    <tr>\n",
       "      <th>1</th>\n",
       "      <td>23:46:00</td>\n",
       "      <td>0</td>\n",
       "      <td>0</td>\n",
       "    </tr>\n",
       "    <tr>\n",
       "      <th>2</th>\n",
       "      <td>23:46:30</td>\n",
       "      <td>0</td>\n",
       "      <td>0</td>\n",
       "    </tr>\n",
       "    <tr>\n",
       "      <th>3</th>\n",
       "      <td>23:47:00</td>\n",
       "      <td>0</td>\n",
       "      <td>0</td>\n",
       "    </tr>\n",
       "    <tr>\n",
       "      <th>4</th>\n",
       "      <td>23:47:30</td>\n",
       "      <td>0</td>\n",
       "      <td>0</td>\n",
       "    </tr>\n",
       "  </tbody>\n",
       "</table>\n",
       "</div>"
      ],
      "text/plain": [
       "   23:45:00  000  0\n",
       "0  23:45:30    0  0\n",
       "1  23:46:00    0  0\n",
       "2  23:46:30    0  0\n",
       "3  23:47:00    0  0\n",
       "4  23:47:30    0  0"
      ]
     },
     "execution_count": 29,
     "metadata": {},
     "output_type": "execute_result"
    }
   ],
   "source": [
    "labels.head()"
   ]
  },
  {
   "cell_type": "code",
   "execution_count": 30,
   "metadata": {},
   "outputs": [
    {
     "data": {
      "text/html": [
       "<div>\n",
       "<style scoped>\n",
       "    .dataframe tbody tr th:only-of-type {\n",
       "        vertical-align: middle;\n",
       "    }\n",
       "\n",
       "    .dataframe tbody tr th {\n",
       "        vertical-align: top;\n",
       "    }\n",
       "\n",
       "    .dataframe thead th {\n",
       "        text-align: right;\n",
       "    }\n",
       "</style>\n",
       "<table border=\"1\" class=\"dataframe\">\n",
       "  <thead>\n",
       "    <tr style=\"text-align: right;\">\n",
       "      <th></th>\n",
       "      <th>23:45:00</th>\n",
       "      <th>000</th>\n",
       "      <th>0</th>\n",
       "    </tr>\n",
       "  </thead>\n",
       "  <tbody>\n",
       "    <tr>\n",
       "      <th>815</th>\n",
       "      <td>06:33:00</td>\n",
       "      <td>0</td>\n",
       "      <td>0</td>\n",
       "    </tr>\n",
       "    <tr>\n",
       "      <th>816</th>\n",
       "      <td>06:33:30</td>\n",
       "      <td>0</td>\n",
       "      <td>0</td>\n",
       "    </tr>\n",
       "    <tr>\n",
       "      <th>817</th>\n",
       "      <td>06:34:00</td>\n",
       "      <td>0</td>\n",
       "      <td>0</td>\n",
       "    </tr>\n",
       "    <tr>\n",
       "      <th>818</th>\n",
       "      <td>06:34:30</td>\n",
       "      <td>0</td>\n",
       "      <td>0</td>\n",
       "    </tr>\n",
       "    <tr>\n",
       "      <th>819</th>\n",
       "      <td>06:35:00</td>\n",
       "      <td>0</td>\n",
       "      <td>2</td>\n",
       "    </tr>\n",
       "  </tbody>\n",
       "</table>\n",
       "</div>"
      ],
      "text/plain": [
       "     23:45:00  000  0\n",
       "815  06:33:00    0  0\n",
       "816  06:33:30    0  0\n",
       "817  06:34:00    0  0\n",
       "818  06:34:30    0  0\n",
       "819  06:35:00    0  2"
      ]
     },
     "execution_count": 30,
     "metadata": {},
     "output_type": "execute_result"
    }
   ],
   "source": [
    "labels.tail()"
   ]
  },
  {
   "cell_type": "markdown",
   "metadata": {},
   "source": [
    "Labels has only one colum"
   ]
  },
  {
   "cell_type": "code",
   "execution_count": 31,
   "metadata": {},
   "outputs": [
    {
     "name": "stdout",
     "output_type": "stream",
     "text": [
      "3\n"
     ]
    },
    {
     "data": {
      "text/plain": [
       "Index(['23:45:00', '000', '0'], dtype='object')"
      ]
     },
     "execution_count": 31,
     "metadata": {},
     "output_type": "execute_result"
    }
   ],
   "source": [
    "print(len(labels.columns))\n",
    "labels.columns"
   ]
  },
  {
   "cell_type": "code",
   "execution_count": 32,
   "metadata": {},
   "outputs": [],
   "source": [
    "# labels['Start Time: 22.11.2017 23:45:00'].hist(bins=50)\n",
    "# plt.show()"
   ]
  },
  {
   "cell_type": "code",
   "execution_count": 33,
   "metadata": {},
   "outputs": [
    {
     "data": {
      "text/html": [
       "<div>\n",
       "<style scoped>\n",
       "    .dataframe tbody tr th:only-of-type {\n",
       "        vertical-align: middle;\n",
       "    }\n",
       "\n",
       "    .dataframe tbody tr th {\n",
       "        vertical-align: top;\n",
       "    }\n",
       "\n",
       "    .dataframe thead th {\n",
       "        text-align: right;\n",
       "    }\n",
       "</style>\n",
       "<table border=\"1\" class=\"dataframe\">\n",
       "  <thead>\n",
       "    <tr style=\"text-align: right;\">\n",
       "      <th></th>\n",
       "      <th>23:45:00</th>\n",
       "      <th>000</th>\n",
       "      <th>0</th>\n",
       "    </tr>\n",
       "  </thead>\n",
       "  <tbody>\n",
       "    <tr>\n",
       "      <th>819</th>\n",
       "      <td>06:35:00</td>\n",
       "      <td>0</td>\n",
       "      <td>2</td>\n",
       "    </tr>\n",
       "  </tbody>\n",
       "</table>\n",
       "</div>"
      ],
      "text/plain": [
       "     23:45:00  000  0\n",
       "819  06:35:00    0  2"
      ]
     },
     "execution_count": 33,
     "metadata": {},
     "output_type": "execute_result"
    }
   ],
   "source": [
    "# labels['TimeStamp'] = labels['Start Time: 22.11.2017 23:45:00'].str.slice(stop=-4)\n",
    "labels.iloc[-1:]"
   ]
  },
  {
   "cell_type": "code",
   "execution_count": 34,
   "metadata": {},
   "outputs": [
    {
     "data": {
      "text/plain": [
       "23:45:00    object\n",
       "000          int64\n",
       "0            int64\n",
       "dtype: object"
      ]
     },
     "execution_count": 34,
     "metadata": {},
     "output_type": "execute_result"
    }
   ],
   "source": [
    "labels.dtypes"
   ]
  },
  {
   "cell_type": "code",
   "execution_count": 35,
   "metadata": {},
   "outputs": [],
   "source": [
    "labels = labels.reset_index()\n",
    "labels[\"TimeStamp\"] = labels[\"index\"]\n",
    "labels = labels.drop(\"index\", axis=1)\n",
    "mid = labels['TimeStamp']\n",
    "labels.drop(labels=['TimeStamp'], axis=1,inplace = True)\n",
    "labels.insert(0, 'TimeStamp', mid)"
   ]
  },
  {
   "cell_type": "code",
   "execution_count": 36,
   "metadata": {},
   "outputs": [
    {
     "ename": "KeyError",
     "evalue": "'Start Time: 22.11.2017 23:45:00'",
     "output_type": "error",
     "traceback": [
      "\u001b[0;31m---------------------------------------------------------------------------\u001b[0m",
      "\u001b[0;31mKeyError\u001b[0m                                  Traceback (most recent call last)",
      "\u001b[0;32m~/.local/lib/python3.7/site-packages/pandas/core/indexes/base.py\u001b[0m in \u001b[0;36mget_loc\u001b[0;34m(self, key, method, tolerance)\u001b[0m\n\u001b[1;32m   2656\u001b[0m             \u001b[0;32mtry\u001b[0m\u001b[0;34m:\u001b[0m\u001b[0;34m\u001b[0m\u001b[0;34m\u001b[0m\u001b[0m\n\u001b[0;32m-> 2657\u001b[0;31m                 \u001b[0;32mreturn\u001b[0m \u001b[0mself\u001b[0m\u001b[0;34m.\u001b[0m\u001b[0m_engine\u001b[0m\u001b[0;34m.\u001b[0m\u001b[0mget_loc\u001b[0m\u001b[0;34m(\u001b[0m\u001b[0mkey\u001b[0m\u001b[0;34m)\u001b[0m\u001b[0;34m\u001b[0m\u001b[0;34m\u001b[0m\u001b[0m\n\u001b[0m\u001b[1;32m   2658\u001b[0m             \u001b[0;32mexcept\u001b[0m \u001b[0mKeyError\u001b[0m\u001b[0;34m:\u001b[0m\u001b[0;34m\u001b[0m\u001b[0;34m\u001b[0m\u001b[0m\n",
      "\u001b[0;32mpandas/_libs/index.pyx\u001b[0m in \u001b[0;36mpandas._libs.index.IndexEngine.get_loc\u001b[0;34m()\u001b[0m\n",
      "\u001b[0;32mpandas/_libs/index.pyx\u001b[0m in \u001b[0;36mpandas._libs.index.IndexEngine.get_loc\u001b[0;34m()\u001b[0m\n",
      "\u001b[0;32mpandas/_libs/hashtable_class_helper.pxi\u001b[0m in \u001b[0;36mpandas._libs.hashtable.PyObjectHashTable.get_item\u001b[0;34m()\u001b[0m\n",
      "\u001b[0;32mpandas/_libs/hashtable_class_helper.pxi\u001b[0m in \u001b[0;36mpandas._libs.hashtable.PyObjectHashTable.get_item\u001b[0;34m()\u001b[0m\n",
      "\u001b[0;31mKeyError\u001b[0m: 'Start Time: 22.11.2017 23:45:00'",
      "\nDuring handling of the above exception, another exception occurred:\n",
      "\u001b[0;31mKeyError\u001b[0m                                  Traceback (most recent call last)",
      "\u001b[0;32m<ipython-input-36-c356ede13ea4>\u001b[0m in \u001b[0;36m<module>\u001b[0;34m\u001b[0m\n\u001b[0;32m----> 1\u001b[0;31m \u001b[0mlabels\u001b[0m\u001b[0;34m[\u001b[0m\u001b[0;34m\"Label\"\u001b[0m\u001b[0;34m]\u001b[0m \u001b[0;34m=\u001b[0m \u001b[0mlabels\u001b[0m\u001b[0;34m[\u001b[0m\u001b[0;34m\"Start Time: 22.11.2017 23:45:00\"\u001b[0m\u001b[0;34m]\u001b[0m\u001b[0;34m.\u001b[0m\u001b[0mstr\u001b[0m\u001b[0;34m.\u001b[0m\u001b[0mslice\u001b[0m\u001b[0;34m(\u001b[0m\u001b[0mstart\u001b[0m\u001b[0;34m=\u001b[0m\u001b[0;34m-\u001b[0m\u001b[0;36m1\u001b[0m\u001b[0;34m)\u001b[0m\u001b[0;34m\u001b[0m\u001b[0;34m\u001b[0m\u001b[0m\n\u001b[0m",
      "\u001b[0;32m~/.local/lib/python3.7/site-packages/pandas/core/frame.py\u001b[0m in \u001b[0;36m__getitem__\u001b[0;34m(self, key)\u001b[0m\n\u001b[1;32m   2925\u001b[0m             \u001b[0;32mif\u001b[0m \u001b[0mself\u001b[0m\u001b[0;34m.\u001b[0m\u001b[0mcolumns\u001b[0m\u001b[0;34m.\u001b[0m\u001b[0mnlevels\u001b[0m \u001b[0;34m>\u001b[0m \u001b[0;36m1\u001b[0m\u001b[0;34m:\u001b[0m\u001b[0;34m\u001b[0m\u001b[0;34m\u001b[0m\u001b[0m\n\u001b[1;32m   2926\u001b[0m                 \u001b[0;32mreturn\u001b[0m \u001b[0mself\u001b[0m\u001b[0;34m.\u001b[0m\u001b[0m_getitem_multilevel\u001b[0m\u001b[0;34m(\u001b[0m\u001b[0mkey\u001b[0m\u001b[0;34m)\u001b[0m\u001b[0;34m\u001b[0m\u001b[0;34m\u001b[0m\u001b[0m\n\u001b[0;32m-> 2927\u001b[0;31m             \u001b[0mindexer\u001b[0m \u001b[0;34m=\u001b[0m \u001b[0mself\u001b[0m\u001b[0;34m.\u001b[0m\u001b[0mcolumns\u001b[0m\u001b[0;34m.\u001b[0m\u001b[0mget_loc\u001b[0m\u001b[0;34m(\u001b[0m\u001b[0mkey\u001b[0m\u001b[0;34m)\u001b[0m\u001b[0;34m\u001b[0m\u001b[0;34m\u001b[0m\u001b[0m\n\u001b[0m\u001b[1;32m   2928\u001b[0m             \u001b[0;32mif\u001b[0m \u001b[0mis_integer\u001b[0m\u001b[0;34m(\u001b[0m\u001b[0mindexer\u001b[0m\u001b[0;34m)\u001b[0m\u001b[0;34m:\u001b[0m\u001b[0;34m\u001b[0m\u001b[0;34m\u001b[0m\u001b[0m\n\u001b[1;32m   2929\u001b[0m                 \u001b[0mindexer\u001b[0m \u001b[0;34m=\u001b[0m \u001b[0;34m[\u001b[0m\u001b[0mindexer\u001b[0m\u001b[0;34m]\u001b[0m\u001b[0;34m\u001b[0m\u001b[0;34m\u001b[0m\u001b[0m\n",
      "\u001b[0;32m~/.local/lib/python3.7/site-packages/pandas/core/indexes/base.py\u001b[0m in \u001b[0;36mget_loc\u001b[0;34m(self, key, method, tolerance)\u001b[0m\n\u001b[1;32m   2657\u001b[0m                 \u001b[0;32mreturn\u001b[0m \u001b[0mself\u001b[0m\u001b[0;34m.\u001b[0m\u001b[0m_engine\u001b[0m\u001b[0;34m.\u001b[0m\u001b[0mget_loc\u001b[0m\u001b[0;34m(\u001b[0m\u001b[0mkey\u001b[0m\u001b[0;34m)\u001b[0m\u001b[0;34m\u001b[0m\u001b[0;34m\u001b[0m\u001b[0m\n\u001b[1;32m   2658\u001b[0m             \u001b[0;32mexcept\u001b[0m \u001b[0mKeyError\u001b[0m\u001b[0;34m:\u001b[0m\u001b[0;34m\u001b[0m\u001b[0;34m\u001b[0m\u001b[0m\n\u001b[0;32m-> 2659\u001b[0;31m                 \u001b[0;32mreturn\u001b[0m \u001b[0mself\u001b[0m\u001b[0;34m.\u001b[0m\u001b[0m_engine\u001b[0m\u001b[0;34m.\u001b[0m\u001b[0mget_loc\u001b[0m\u001b[0;34m(\u001b[0m\u001b[0mself\u001b[0m\u001b[0;34m.\u001b[0m\u001b[0m_maybe_cast_indexer\u001b[0m\u001b[0;34m(\u001b[0m\u001b[0mkey\u001b[0m\u001b[0;34m)\u001b[0m\u001b[0;34m)\u001b[0m\u001b[0;34m\u001b[0m\u001b[0;34m\u001b[0m\u001b[0m\n\u001b[0m\u001b[1;32m   2660\u001b[0m         \u001b[0mindexer\u001b[0m \u001b[0;34m=\u001b[0m \u001b[0mself\u001b[0m\u001b[0;34m.\u001b[0m\u001b[0mget_indexer\u001b[0m\u001b[0;34m(\u001b[0m\u001b[0;34m[\u001b[0m\u001b[0mkey\u001b[0m\u001b[0;34m]\u001b[0m\u001b[0;34m,\u001b[0m \u001b[0mmethod\u001b[0m\u001b[0;34m=\u001b[0m\u001b[0mmethod\u001b[0m\u001b[0;34m,\u001b[0m \u001b[0mtolerance\u001b[0m\u001b[0;34m=\u001b[0m\u001b[0mtolerance\u001b[0m\u001b[0;34m)\u001b[0m\u001b[0;34m\u001b[0m\u001b[0;34m\u001b[0m\u001b[0m\n\u001b[1;32m   2661\u001b[0m         \u001b[0;32mif\u001b[0m \u001b[0mindexer\u001b[0m\u001b[0;34m.\u001b[0m\u001b[0mndim\u001b[0m \u001b[0;34m>\u001b[0m \u001b[0;36m1\u001b[0m \u001b[0;32mor\u001b[0m \u001b[0mindexer\u001b[0m\u001b[0;34m.\u001b[0m\u001b[0msize\u001b[0m \u001b[0;34m>\u001b[0m \u001b[0;36m1\u001b[0m\u001b[0;34m:\u001b[0m\u001b[0;34m\u001b[0m\u001b[0;34m\u001b[0m\u001b[0m\n",
      "\u001b[0;32mpandas/_libs/index.pyx\u001b[0m in \u001b[0;36mpandas._libs.index.IndexEngine.get_loc\u001b[0;34m()\u001b[0m\n",
      "\u001b[0;32mpandas/_libs/index.pyx\u001b[0m in \u001b[0;36mpandas._libs.index.IndexEngine.get_loc\u001b[0;34m()\u001b[0m\n",
      "\u001b[0;32mpandas/_libs/hashtable_class_helper.pxi\u001b[0m in \u001b[0;36mpandas._libs.hashtable.PyObjectHashTable.get_item\u001b[0;34m()\u001b[0m\n",
      "\u001b[0;32mpandas/_libs/hashtable_class_helper.pxi\u001b[0m in \u001b[0;36mpandas._libs.hashtable.PyObjectHashTable.get_item\u001b[0;34m()\u001b[0m\n",
      "\u001b[0;31mKeyError\u001b[0m: 'Start Time: 22.11.2017 23:45:00'"
     ]
    }
   ],
   "source": [
    "labels[\"Label\"] = labels[\"Start Time: 22.11.2017 23:45:00\"].str.slice(start=-1)"
   ]
  },
  {
   "cell_type": "code",
   "execution_count": null,
   "metadata": {},
   "outputs": [],
   "source": [
    "labels = labels.drop(\"Start Time: 22.11.2017 23:45:00\", axis=1)"
   ]
  },
  {
   "cell_type": "code",
   "execution_count": null,
   "metadata": {},
   "outputs": [],
   "source": [
    "# labels['TimeStamp'] = [d.time() for d in labels['TimeStamp']]\n",
    "ad = pd.to_datetime(labels['TimeStamp'])\n",
    "labels['TimeStamp'] = ad.dt.strftime('%H:%M:%S')\n"
   ]
  },
  {
   "cell_type": "code",
   "execution_count": null,
   "metadata": {},
   "outputs": [],
   "source": [
    "labels.describe()"
   ]
  },
  {
   "cell_type": "code",
   "execution_count": null,
   "metadata": {},
   "outputs": [],
   "source": [
    "# labels[\"TimeStamp\"].iloc[0]"
   ]
  },
  {
   "cell_type": "code",
   "execution_count": null,
   "metadata": {},
   "outputs": [],
   "source": [
    "data.head()"
   ]
  },
  {
   "cell_type": "code",
   "execution_count": null,
   "metadata": {},
   "outputs": [],
   "source": [
    "data.tail()"
   ]
  },
  {
   "cell_type": "markdown",
   "metadata": {},
   "source": [
    "### There is a missing in 30 pattern in data file"
   ]
  },
  {
   "cell_type": "code",
   "execution_count": null,
   "metadata": {},
   "outputs": [],
   "source": [
    "data[\"Time\"].iloc[::30]"
   ]
  },
  {
   "cell_type": "markdown",
   "metadata": {},
   "source": [
    "# Data Preparation"
   ]
  },
  {
   "cell_type": "markdown",
   "metadata": {},
   "source": [
    "Below function returns the all 00 and 30 second times in the data file"
   ]
  },
  {
   "cell_type": "code",
   "execution_count": null,
   "metadata": {},
   "outputs": [],
   "source": [
    "data"
   ]
  },
  {
   "cell_type": "code",
   "execution_count": null,
   "metadata": {},
   "outputs": [],
   "source": [
    "labels"
   ]
  },
  {
   "cell_type": "code",
   "execution_count": null,
   "metadata": {},
   "outputs": [],
   "source": [
    "j=0\n",
    "k=0\n",
    "\n",
    "begins = []\n",
    "\n",
    "for i in range(len(data)):\n",
    "    a = data[\"Time\"].iloc[i]\n",
    "\n",
    "    if (a.second==0 or a.second==30):\n",
    "#         print(i-k, i)\n",
    "        begins.append(i)\n",
    "        j+=1\n",
    "        k = i\n",
    "print(j)\n",
    "print(begins)"
   ]
  },
  {
   "cell_type": "code",
   "execution_count": null,
   "metadata": {},
   "outputs": [],
   "source": [
    "len(data)"
   ]
  },
  {
   "cell_type": "code",
   "execution_count": null,
   "metadata": {},
   "outputs": [],
   "source": [
    "data1 = data.drop(\"Time\", axis=1)\n",
    "data1 = data1.drop(\"Date\", axis=1)\n",
    "data1 = data1.drop(\"FrameCounter\", axis=1)\n",
    "data1 = data1.drop(\"State\", axis=1)\n",
    "\n",
    "data_time = data.filter([\"Time\", \"Date\"], axis=1)"
   ]
  },
  {
   "cell_type": "code",
   "execution_count": null,
   "metadata": {},
   "outputs": [],
   "source": [
    "data_time.head()"
   ]
  },
  {
   "cell_type": "code",
   "execution_count": null,
   "metadata": {},
   "outputs": [],
   "source": [
    "data1.head()"
   ]
  },
  {
   "cell_type": "code",
   "execution_count": 24,
   "metadata": {},
   "outputs": [
    {
     "ename": "NameError",
     "evalue": "name 'data_time' is not defined",
     "output_type": "error",
     "traceback": [
      "\u001b[0;31m---------------------------------------------------------------------------\u001b[0m",
      "\u001b[0;31mNameError\u001b[0m                                 Traceback (most recent call last)",
      "\u001b[0;32m<ipython-input-24-73bacbfb1a36>\u001b[0m in \u001b[0;36m<module>\u001b[0;34m\u001b[0m\n\u001b[1;32m      1\u001b[0m \u001b[0mi\u001b[0m \u001b[0;34m=\u001b[0m \u001b[0;36m1\u001b[0m\u001b[0;34m\u001b[0m\u001b[0;34m\u001b[0m\u001b[0m\n\u001b[1;32m      2\u001b[0m \u001b[0;31m# time1 = str(data_time[\"Time\"].iloc[begins[i]])\u001b[0m\u001b[0;34m\u001b[0m\u001b[0;34m\u001b[0m\u001b[0;34m\u001b[0m\u001b[0m\n\u001b[0;32m----> 3\u001b[0;31m \u001b[0mtime\u001b[0m \u001b[0;34m=\u001b[0m \u001b[0mstr\u001b[0m\u001b[0;34m(\u001b[0m\u001b[0mdata_time\u001b[0m\u001b[0;34m[\u001b[0m\u001b[0;34m\"Time\"\u001b[0m\u001b[0;34m]\u001b[0m\u001b[0;34m.\u001b[0m\u001b[0miloc\u001b[0m\u001b[0;34m[\u001b[0m\u001b[0mbegins\u001b[0m\u001b[0;34m[\u001b[0m\u001b[0mi\u001b[0m\u001b[0;34m]\u001b[0m\u001b[0;34m]\u001b[0m\u001b[0;34m)\u001b[0m\u001b[0;34m\u001b[0m\u001b[0;34m\u001b[0m\u001b[0m\n\u001b[0m\u001b[1;32m      4\u001b[0m \u001b[0mdate\u001b[0m \u001b[0;34m=\u001b[0m \u001b[0mstr\u001b[0m\u001b[0;34m(\u001b[0m\u001b[0mdata_time\u001b[0m\u001b[0;34m[\u001b[0m\u001b[0;34m\"Date\"\u001b[0m\u001b[0;34m]\u001b[0m\u001b[0;34m.\u001b[0m\u001b[0miloc\u001b[0m\u001b[0;34m[\u001b[0m\u001b[0mbegins\u001b[0m\u001b[0;34m[\u001b[0m\u001b[0mi\u001b[0m\u001b[0;34m]\u001b[0m\u001b[0;34m]\u001b[0m\u001b[0;34m)\u001b[0m\u001b[0;34m\u001b[0m\u001b[0;34m\u001b[0m\u001b[0m\n\u001b[1;32m      5\u001b[0m \u001b[0mfeatures\u001b[0m \u001b[0;34m=\u001b[0m \u001b[0mnp\u001b[0m\u001b[0;34m.\u001b[0m\u001b[0marray\u001b[0m\u001b[0;34m(\u001b[0m\u001b[0mdata1\u001b[0m\u001b[0;34m.\u001b[0m\u001b[0miloc\u001b[0m\u001b[0;34m[\u001b[0m\u001b[0mbegins\u001b[0m\u001b[0;34m[\u001b[0m\u001b[0mi\u001b[0m\u001b[0;34m]\u001b[0m\u001b[0;34m:\u001b[0m \u001b[0mbegins\u001b[0m\u001b[0;34m[\u001b[0m\u001b[0mi\u001b[0m\u001b[0;34m+\u001b[0m\u001b[0;36m1\u001b[0m\u001b[0;34m]\u001b[0m\u001b[0;34m]\u001b[0m\u001b[0;34m)\u001b[0m\u001b[0;34m\u001b[0m\u001b[0;34m\u001b[0m\u001b[0m\n",
      "\u001b[0;31mNameError\u001b[0m: name 'data_time' is not defined"
     ]
    }
   ],
   "source": [
    "i = 1\n",
    "# time1 = str(data_time[\"Time\"].iloc[begins[i]])\n",
    "time = str(data_time[\"Time\"].iloc[begins[i]])\n",
    "date = str(data_time[\"Date\"].iloc[begins[i]])\n",
    "features = np.array(data1.iloc[begins[i]: begins[i+1]])\n",
    "label = labels[\"Label\"].loc[labels['TimeStamp'] == str(data_time[\"Time\"].iloc[begins[i]])].values[0]\n",
    "labels[\"TimeStamp\"].loc[labels['TimeStamp'] == str(data_time[\"Time\"].iloc[begins[i]])].values[0]"
   ]
  },
  {
   "cell_type": "code",
   "execution_count": 25,
   "metadata": {},
   "outputs": [
    {
     "ename": "NameError",
     "evalue": "name 'time' is not defined",
     "output_type": "error",
     "traceback": [
      "\u001b[0;31m---------------------------------------------------------------------------\u001b[0m",
      "\u001b[0;31mNameError\u001b[0m                                 Traceback (most recent call last)",
      "\u001b[0;32m<ipython-input-25-01884d3b6277>\u001b[0m in \u001b[0;36m<module>\u001b[0;34m\u001b[0m\n\u001b[0;32m----> 1\u001b[0;31m \u001b[0mprint\u001b[0m\u001b[0;34m(\u001b[0m\u001b[0mtime\u001b[0m\u001b[0;34m,\u001b[0m \u001b[0mdate\u001b[0m\u001b[0;34m,\u001b[0m \u001b[0mlabel\u001b[0m\u001b[0;34m)\u001b[0m\u001b[0;34m\u001b[0m\u001b[0;34m\u001b[0m\u001b[0m\n\u001b[0m",
      "\u001b[0;31mNameError\u001b[0m: name 'time' is not defined"
     ]
    }
   ],
   "source": [
    "print(time, date, label)"
   ]
  },
  {
   "cell_type": "code",
   "execution_count": 126,
   "metadata": {},
   "outputs": [],
   "source": [
    "dataFrame = []\n",
    "for i in range(len(begins)-1):\n",
    "    row = []\n",
    "    time = str(data_time[\"Time\"].iloc[begins[i]])\n",
    "    date = str(data_time[\"Date\"].iloc[begins[i]])\n",
    "    features = np.array(data1.iloc[begins[i]: begins[i+1]])\n",
    "    label = labels[\"Label\"].loc[labels['TimeStamp'] == str(data_time[\"Time\"].iloc[begins[i]])].values[0]\n",
    "    startTime = labels[\"TimeStamp\"].loc[labels['TimeStamp'] == str(data_time[\"Time\"].iloc[begins[i]])].values[0]\n",
    "    endTime = labels[\"TimeStamp\"].loc[labels['TimeStamp'] == str(data_time[\"Time\"].iloc[begins[i+1]])].values[0]\n",
    "    row.append(date)\n",
    "#     row.append(time)\n",
    "    row.append(startTime)\n",
    "    row.append(endTime)\n",
    "    row.append(features)\n",
    "    row.append(label)\n",
    "    dataFrame.append(row)\n",
    "#     print(date, time, features, label)"
   ]
  },
  {
   "cell_type": "code",
   "execution_count": 171,
   "metadata": {},
   "outputs": [],
   "source": [
    "avgFrame = []\n",
    "for i in range(len(begins)-1):\n",
    "    row = []\n",
    "    time = str(data_time[\"Time\"].iloc[begins[i]])\n",
    "    date = str(data_time[\"Date\"].iloc[begins[i]])\n",
    "    features = (data1.iloc[begins[i]: begins[i+1]]).mean().to_frame().transpose().values[0]\n",
    "    label = labels[\"Label\"].loc[labels['TimeStamp'] == str(data_time[\"Time\"].iloc[begins[i]])].values[0]\n",
    "    startTime = labels[\"TimeStamp\"].loc[labels['TimeStamp'] == str(data_time[\"Time\"].iloc[begins[i]])].values[0]\n",
    "    endTime = labels[\"TimeStamp\"].loc[labels['TimeStamp'] == str(data_time[\"Time\"].iloc[begins[i+1]])].values[0]\n",
    "    row.append(date)\n",
    "#     row.append(time)\n",
    "    row.append(startTime)\n",
    "    row.append(endTime)\n",
    "    row.extend(features)\n",
    "    row.append(label)\n",
    "    avgFrame.append(row)\n",
    "#     print(date, time, features, label)"
   ]
  },
  {
   "cell_type": "code",
   "execution_count": 172,
   "metadata": {},
   "outputs": [],
   "source": [
    "f = (data1.iloc[begins[i]: begins[i+1]]).mean()"
   ]
  },
  {
   "cell_type": "code",
   "execution_count": 173,
   "metadata": {},
   "outputs": [
    {
     "data": {
      "text/plain": [
       "['2017-11-22',\n",
       " '23:45:00',\n",
       " '23:45:30',\n",
       " 0.0,\n",
       " 1.0050128000000003,\n",
       " 4.233333333333333,\n",
       " 17.183041999999997,\n",
       " 1.03297862,\n",
       " '0']"
      ]
     },
     "execution_count": 173,
     "metadata": {},
     "output_type": "execute_result"
    }
   ],
   "source": [
    "avgFrame[0]"
   ]
  },
  {
   "cell_type": "code",
   "execution_count": 144,
   "metadata": {},
   "outputs": [],
   "source": [
    "c = data1.iloc[begins[2]: begins[3]]"
   ]
  },
  {
   "cell_type": "code",
   "execution_count": 177,
   "metadata": {},
   "outputs": [
    {
     "data": {
      "text/html": [
       "<div>\n",
       "<style scoped>\n",
       "    .dataframe tbody tr th:only-of-type {\n",
       "        vertical-align: middle;\n",
       "    }\n",
       "\n",
       "    .dataframe tbody tr th {\n",
       "        vertical-align: top;\n",
       "    }\n",
       "\n",
       "    .dataframe thead th {\n",
       "        text-align: right;\n",
       "    }\n",
       "</style>\n",
       "<table border=\"1\" class=\"dataframe\">\n",
       "  <thead>\n",
       "    <tr style=\"text-align: right;\">\n",
       "      <th></th>\n",
       "      <th>RPM</th>\n",
       "      <th>ObjectDistance</th>\n",
       "      <th>SignalQuality</th>\n",
       "      <th>MovementSlow</th>\n",
       "      <th>MovementFast</th>\n",
       "    </tr>\n",
       "  </thead>\n",
       "  <tbody>\n",
       "    <tr>\n",
       "      <th>0</th>\n",
       "      <td>8.11255</td>\n",
       "      <td>0.552008</td>\n",
       "      <td>8.4</td>\n",
       "      <td>66.79864</td>\n",
       "      <td>29.113056</td>\n",
       "    </tr>\n",
       "  </tbody>\n",
       "</table>\n",
       "</div>"
      ],
      "text/plain": [
       "       RPM  ObjectDistance  SignalQuality  MovementSlow  MovementFast\n",
       "0  8.11255        0.552008            8.4      66.79864     29.113056"
      ]
     },
     "execution_count": 177,
     "metadata": {},
     "output_type": "execute_result"
    }
   ],
   "source": [
    "c.mean().to_frame().transpose()"
   ]
  },
  {
   "cell_type": "code",
   "execution_count": 51,
   "metadata": {},
   "outputs": [],
   "source": [
    "# for i in range(len(labels)):\n",
    "#     print(labels[\"TimeStamp\"].iloc[i])\n",
    "#     date_time\n",
    "#     labels[\"Label\"].loc[labels['TimeStamp'] == str(data_time[\"Time\"].iloc[begins[i]])"
   ]
  },
  {
   "cell_type": "code",
   "execution_count": 52,
   "metadata": {},
   "outputs": [],
   "source": [
    "k = []\n",
    "for i in range(len(begins)-1):\n",
    "    ef = k.append(labels.loc[labels['TimeStamp'] == str(data_time[\"Time\"].iloc[begins[i]])])"
   ]
  },
  {
   "cell_type": "code",
   "execution_count": 53,
   "metadata": {},
   "outputs": [
    {
     "data": {
      "text/plain": [
       "823"
      ]
     },
     "execution_count": 53,
     "metadata": {},
     "output_type": "execute_result"
    }
   ],
   "source": [
    "len(k)"
   ]
  },
  {
   "cell_type": "code",
   "execution_count": 61,
   "metadata": {},
   "outputs": [
    {
     "name": "stdout",
     "output_type": "stream",
     "text": [
      "821\n"
     ]
    }
   ],
   "source": [
    "k=0\n",
    "for i in labels[\"TimeStamp\"]:\n",
    "    if labels[\"TimeStamp\"].iloc[0] not in df[\"StartTime\"].values:\n",
    "        print(\"d\")\n",
    "    k+=1\n",
    "print(k)"
   ]
  },
  {
   "cell_type": "code",
   "execution_count": 65,
   "metadata": {},
   "outputs": [
    {
     "name": "stdout",
     "output_type": "stream",
     "text": [
      "d\n"
     ]
    }
   ],
   "source": [
    "# k =0\n",
    "# for i in labels[\"TimeStamp\"]:\n",
    "#     print(i)\n",
    "#     k+=1\n",
    "# print(k)\n",
    "\n",
    "if df[\"StartTime\"].iloc[0] in labels[\"TimeStamp\"].values:\n",
    "    print(\"d\")"
   ]
  },
  {
   "cell_type": "code",
   "execution_count": 67,
   "metadata": {},
   "outputs": [
    {
     "data": {
      "text/plain": [
       "array(['23:45:00', '23:45:30', '23:46:00', '23:46:30', '23:47:00',\n",
       "       '23:47:30', '23:48:00', '23:48:30', '23:49:00', '23:49:30',\n",
       "       '23:50:00', '23:50:30', '23:51:00', '23:51:30', '23:52:00',\n",
       "       '23:52:30', '23:53:00', '23:53:30', '23:54:00', '23:54:30',\n",
       "       '23:55:00', '23:55:30', '23:56:00', '23:56:30', '23:57:00',\n",
       "       '23:57:30', '23:58:00', '23:58:30', '23:59:00', '23:59:30',\n",
       "       '00:00:00', '00:00:30', '00:01:00', '00:01:30', '00:02:00',\n",
       "       '00:02:30', '00:03:00', '00:03:30', '00:04:00', '00:04:30',\n",
       "       '00:05:00', '00:05:30', '00:06:00', '00:06:30', '00:07:00',\n",
       "       '00:07:30', '00:08:00', '00:08:30', '00:09:00', '00:09:30',\n",
       "       '00:10:00', '00:10:30', '00:11:00', '00:11:30', '00:12:00',\n",
       "       '00:12:30', '00:13:00', '00:13:30', '00:14:00', '00:14:30',\n",
       "       '00:15:00', '00:15:30', '00:16:00', '00:16:30', '00:17:00',\n",
       "       '00:17:30', '00:18:00', '00:18:30', '00:19:00', '00:19:30',\n",
       "       '00:20:00', '00:20:30', '00:21:00', '00:21:30', '00:22:00',\n",
       "       '00:22:30', '00:23:00', '00:23:30', '00:24:00', '00:24:30',\n",
       "       '00:25:00', '00:25:30', '00:26:00', '00:26:30', '00:27:00',\n",
       "       '00:27:30', '00:28:00', '00:28:30', '00:29:00', '00:29:30',\n",
       "       '00:30:00', '00:30:30', '00:31:00', '00:31:30', '00:32:00',\n",
       "       '00:32:30', '00:33:00', '00:33:30', '00:34:00', '00:34:30',\n",
       "       '00:35:00', '00:35:30', '00:36:00', '00:36:30', '00:37:00',\n",
       "       '00:37:30', '00:38:00', '00:38:30', '00:39:00', '00:39:30',\n",
       "       '00:40:00', '00:40:30', '00:41:00', '00:41:30', '00:42:00',\n",
       "       '00:42:30', '00:43:00', '00:43:30', '00:44:00', '00:44:30',\n",
       "       '00:45:00', '00:45:30', '00:46:00', '00:46:30', '00:47:00',\n",
       "       '00:47:30', '00:48:00', '00:48:30', '00:49:00', '00:49:30',\n",
       "       '00:50:00', '00:50:30', '00:51:00', '00:51:30', '00:52:00',\n",
       "       '00:52:30', '00:53:00', '00:53:30', '00:54:00', '00:54:30',\n",
       "       '00:55:00', '00:55:30', '00:56:00', '00:56:30', '00:57:00',\n",
       "       '00:57:30', '00:58:00', '00:58:30', '00:59:00', '00:59:30',\n",
       "       '01:00:00', '01:00:30', '01:01:00', '01:01:30', '01:02:00',\n",
       "       '01:02:30', '01:03:00', '01:03:30', '01:04:00', '01:04:30',\n",
       "       '01:05:00', '01:05:30', '01:06:00', '01:06:30', '01:07:00',\n",
       "       '01:07:30', '01:08:00', '01:08:30', '01:09:00', '01:09:30',\n",
       "       '01:10:00', '01:10:30', '01:11:00', '01:11:30', '01:12:00',\n",
       "       '01:12:30', '01:13:00', '01:13:30', '01:14:00', '01:14:30',\n",
       "       '01:15:00', '01:15:30', '01:16:00', '01:16:30', '01:17:00',\n",
       "       '01:17:30', '01:18:00', '01:18:30', '01:19:00', '01:19:30',\n",
       "       '01:20:00', '01:20:30', '01:21:00', '01:21:30', '01:22:00',\n",
       "       '01:22:30', '01:23:00', '01:23:30', '01:24:00', '01:24:30',\n",
       "       '01:25:00', '01:25:30', '01:26:00', '01:26:30', '01:27:00',\n",
       "       '01:27:30', '01:28:00', '01:28:30', '01:29:00', '01:29:30',\n",
       "       '01:30:00', '01:30:30', '01:31:00', '01:31:30', '01:32:00',\n",
       "       '01:32:30', '01:33:00', '01:33:30', '01:34:00', '01:34:30',\n",
       "       '01:35:00', '01:35:30', '01:36:00', '01:36:30', '01:37:00',\n",
       "       '01:37:30', '01:38:00', '01:38:30', '01:39:00', '01:39:30',\n",
       "       '01:40:00', '01:40:30', '01:41:00', '01:41:30', '01:42:00',\n",
       "       '01:42:30', '01:43:00', '01:43:30', '01:44:00', '01:44:30',\n",
       "       '01:45:00', '01:45:30', '01:46:00', '01:46:30', '01:47:00',\n",
       "       '01:47:30', '01:48:00', '01:48:30', '01:49:00', '01:49:30',\n",
       "       '01:50:00', '01:50:30', '01:51:00', '01:51:30', '01:52:00',\n",
       "       '01:52:30', '01:53:00', '01:53:30', '01:54:00', '01:54:30',\n",
       "       '01:55:00', '01:55:00', '01:55:30', '01:56:00', '01:56:30',\n",
       "       '01:57:00', '01:57:30', '01:58:00', '01:58:30', '01:59:00',\n",
       "       '01:59:30', '02:00:00', '02:00:30', '02:01:00', '02:01:30',\n",
       "       '02:02:00', '02:02:30', '02:03:00', '02:03:30', '02:04:00',\n",
       "       '02:04:30', '02:05:00', '02:05:30', '02:06:00', '02:06:30',\n",
       "       '02:07:00', '02:07:30', '02:08:00', '02:08:30', '02:09:00',\n",
       "       '02:09:30', '02:10:00', '02:10:30', '02:11:00', '02:11:30',\n",
       "       '02:12:00', '02:12:30', '02:13:00', '02:13:30', '02:14:00',\n",
       "       '02:14:30', '02:15:00', '02:15:30', '02:16:00', '02:16:30',\n",
       "       '02:17:00', '02:17:30', '02:18:00', '02:18:30', '02:19:00',\n",
       "       '02:19:30', '02:20:00', '02:20:30', '02:21:00', '02:21:30',\n",
       "       '02:22:00', '02:22:30', '02:23:00', '02:23:30', '02:24:00',\n",
       "       '02:24:30', '02:25:00', '02:25:30', '02:26:00', '02:26:30',\n",
       "       '02:27:00', '02:27:30', '02:28:00', '02:28:30', '02:29:00',\n",
       "       '02:29:30', '02:30:00', '02:30:30', '02:31:00', '02:31:30',\n",
       "       '02:32:00', '02:32:30', '02:33:00', '02:33:30', '02:34:00',\n",
       "       '02:34:30', '02:35:00', '02:35:30', '02:36:00', '02:36:30',\n",
       "       '02:37:00', '02:37:30', '02:38:00', '02:38:30', '02:39:00',\n",
       "       '02:39:30', '02:40:00', '02:40:30', '02:41:00', '02:41:30',\n",
       "       '02:42:00', '02:42:30', '02:43:00', '02:43:30', '02:44:00',\n",
       "       '02:44:30', '02:45:00', '02:45:30', '02:46:00', '02:46:30',\n",
       "       '02:47:00', '02:47:30', '02:48:00', '02:48:30', '02:49:00',\n",
       "       '02:49:30', '02:50:00', '02:50:30', '02:51:00', '02:51:30',\n",
       "       '02:52:00', '02:52:30', '02:53:00', '02:53:30', '02:54:00',\n",
       "       '02:54:30', '02:55:00', '02:55:30', '02:56:00', '02:56:30',\n",
       "       '02:57:00', '02:57:30', '02:58:00', '02:58:30', '02:59:00',\n",
       "       '02:59:30', '03:00:00', '03:00:30', '03:01:00', '03:01:30',\n",
       "       '03:02:00', '03:02:30', '03:03:00', '03:03:30', '03:04:00',\n",
       "       '03:04:30', '03:05:00', '03:05:30', '03:06:00', '03:06:30',\n",
       "       '03:07:00', '03:07:30', '03:08:00', '03:08:30', '03:09:00',\n",
       "       '03:09:30', '03:10:00', '03:10:30', '03:11:00', '03:11:30',\n",
       "       '03:12:00', '03:12:30', '03:13:00', '03:13:30', '03:14:00',\n",
       "       '03:14:30', '03:15:00', '03:15:30', '03:16:00', '03:16:30',\n",
       "       '03:17:00', '03:17:30', '03:18:00', '03:18:30', '03:19:00',\n",
       "       '03:19:30', '03:20:00', '03:20:30', '03:21:00', '03:21:30',\n",
       "       '03:22:00', '03:22:30', '03:23:00', '03:23:30', '03:24:00',\n",
       "       '03:24:30', '03:25:00', '03:25:30', '03:26:00', '03:26:30',\n",
       "       '03:27:00', '03:27:30', '03:28:00', '03:28:30', '03:29:00',\n",
       "       '03:29:30', '03:30:00', '03:30:30', '03:31:00', '03:31:30',\n",
       "       '03:32:00', '03:32:30', '03:33:00', '03:33:30', '03:34:00',\n",
       "       '03:34:30', '03:35:00', '03:35:30', '03:36:00', '03:36:30',\n",
       "       '03:37:00', '03:37:30', '03:38:00', '03:38:30', '03:39:00',\n",
       "       '03:39:30', '03:40:00', '03:40:30', '03:41:00', '03:41:30',\n",
       "       '03:42:00', '03:42:30', '03:43:00', '03:43:30', '03:44:00',\n",
       "       '03:44:30', '03:45:00', '03:45:30', '03:46:00', '03:46:30',\n",
       "       '03:47:00', '03:47:30', '03:48:00', '03:48:30', '03:49:00',\n",
       "       '03:49:30', '03:50:00', '03:50:30', '03:51:00', '03:51:30',\n",
       "       '03:52:00', '03:52:30', '03:53:00', '03:53:30', '03:54:00',\n",
       "       '03:54:30', '03:55:00', '03:55:30', '03:56:00', '03:56:30',\n",
       "       '03:57:00', '03:57:30', '03:58:00', '03:58:30', '03:59:00',\n",
       "       '03:59:30', '04:00:00', '04:00:30', '04:01:00', '04:01:30',\n",
       "       '04:02:00', '04:02:30', '04:03:00', '04:03:30', '04:04:00',\n",
       "       '04:04:30', '04:05:00', '04:05:30', '04:06:00', '04:06:30',\n",
       "       '04:07:00', '04:07:30', '04:08:00', '04:08:30', '04:09:00',\n",
       "       '04:09:30', '04:10:00', '04:10:30', '04:11:00', '04:11:30',\n",
       "       '04:12:00', '04:12:30', '04:13:00', '04:13:30', '04:14:00',\n",
       "       '04:14:30', '04:15:00', '04:15:30', '04:16:00', '04:16:30',\n",
       "       '04:17:00', '04:17:30', '04:18:00', '04:18:30', '04:19:00',\n",
       "       '04:19:30', '04:20:00', '04:20:30', '04:21:00', '04:21:30',\n",
       "       '04:22:00', '04:22:30', '04:23:00', '04:23:30', '04:24:00',\n",
       "       '04:24:30', '04:25:00', '04:25:30', '04:26:00', '04:26:30',\n",
       "       '04:27:00', '04:27:30', '04:27:30', '04:28:00', '04:28:30',\n",
       "       '04:29:00', '04:29:30', '04:30:00', '04:30:30', '04:31:00',\n",
       "       '04:31:30', '04:32:00', '04:32:30', '04:33:00', '04:33:30',\n",
       "       '04:34:00', '04:34:30', '04:35:00', '04:35:30', '04:36:00',\n",
       "       '04:36:30', '04:37:00', '04:37:30', '04:38:00', '04:38:30',\n",
       "       '04:39:00', '04:39:30', '04:40:00', '04:40:30', '04:41:00',\n",
       "       '04:41:30', '04:42:00', '04:42:30', '04:43:00', '04:43:30',\n",
       "       '04:44:00', '04:44:30', '04:45:00', '04:45:30', '04:46:00',\n",
       "       '04:46:30', '04:47:00', '04:47:30', '04:48:00', '04:48:30',\n",
       "       '04:49:00', '04:49:30', '04:50:00', '04:50:30', '04:51:00',\n",
       "       '04:51:30', '04:52:00', '04:52:30', '04:53:00', '04:53:30',\n",
       "       '04:54:00', '04:54:30', '04:55:00', '04:55:30', '04:56:00',\n",
       "       '04:56:30', '04:57:00', '04:57:30', '04:58:00', '04:58:30',\n",
       "       '04:59:00', '04:59:30', '05:00:00', '05:00:30', '05:01:00',\n",
       "       '05:01:30', '05:02:00', '05:02:30', '05:03:00', '05:03:30',\n",
       "       '05:04:00', '05:04:30', '05:05:00', '05:05:30', '05:06:00',\n",
       "       '05:06:30', '05:07:00', '05:07:30', '05:08:00', '05:08:30',\n",
       "       '05:09:00', '05:09:30', '05:10:00', '05:10:30', '05:11:00',\n",
       "       '05:11:30', '05:12:00', '05:12:30', '05:13:00', '05:13:30',\n",
       "       '05:14:00', '05:14:30', '05:15:00', '05:15:30', '05:16:00',\n",
       "       '05:16:30', '05:17:00', '05:17:30', '05:18:00', '05:18:30',\n",
       "       '05:19:00', '05:19:30', '05:20:00', '05:20:30', '05:21:00',\n",
       "       '05:21:30', '05:22:00', '05:22:30', '05:23:00', '05:23:30',\n",
       "       '05:24:00', '05:24:30', '05:25:00', '05:25:30', '05:26:00',\n",
       "       '05:26:30', '05:27:00', '05:27:30', '05:28:00', '05:28:30',\n",
       "       '05:29:00', '05:29:30', '05:30:00', '05:30:30', '05:31:00',\n",
       "       '05:31:30', '05:32:00', '05:32:30', '05:33:00', '05:33:30',\n",
       "       '05:34:00', '05:34:30', '05:35:00', '05:35:30', '05:36:00',\n",
       "       '05:36:30', '05:37:00', '05:37:30', '05:38:00', '05:38:30',\n",
       "       '05:39:00', '05:39:30', '05:40:00', '05:40:30', '05:41:00',\n",
       "       '05:41:30', '05:42:00', '05:42:30', '05:43:00', '05:43:30',\n",
       "       '05:44:00', '05:44:30', '05:45:00', '05:45:30', '05:46:00',\n",
       "       '05:46:30', '05:47:00', '05:47:30', '05:48:00', '05:48:30',\n",
       "       '05:49:00', '05:49:30', '05:50:00', '05:50:30', '05:51:00',\n",
       "       '05:51:30', '05:52:00', '05:52:30', '05:53:00', '05:53:30',\n",
       "       '05:54:00', '05:54:30', '05:55:00', '05:55:30', '05:56:00',\n",
       "       '05:56:30', '05:57:00', '05:57:30', '05:58:00', '05:58:30',\n",
       "       '05:59:00', '05:59:30', '06:00:00', '06:00:30', '06:01:00',\n",
       "       '06:01:30', '06:02:00', '06:02:30', '06:03:00', '06:03:30',\n",
       "       '06:04:00', '06:04:30', '06:05:00', '06:05:30', '06:06:00',\n",
       "       '06:06:30', '06:07:00', '06:07:30', '06:08:00', '06:08:30',\n",
       "       '06:09:00', '06:09:30', '06:10:00', '06:10:30', '06:11:00',\n",
       "       '06:11:00', '06:11:30', '06:12:00', '06:12:30', '06:13:00',\n",
       "       '06:13:30', '06:14:00', '06:14:30', '06:15:00', '06:15:30',\n",
       "       '06:16:00', '06:16:30', '06:17:00', '06:17:30', '06:18:00',\n",
       "       '06:18:30', '06:19:00', '06:19:30', '06:20:00', '06:20:30',\n",
       "       '06:21:00', '06:21:30', '06:22:00', '06:22:30', '06:23:00',\n",
       "       '06:23:30', '06:24:00', '06:24:30', '06:25:00', '06:25:30',\n",
       "       '06:26:00', '06:26:30', '06:27:00', '06:27:30', '06:28:00',\n",
       "       '06:28:30', '06:29:00', '06:29:30', '06:30:00', '06:30:30',\n",
       "       '06:31:00', '06:31:30', '06:32:00', '06:32:30', '06:33:00',\n",
       "       '06:33:30', '06:34:00', '06:34:30'], dtype=object)"
      ]
     },
     "execution_count": 67,
     "metadata": {},
     "output_type": "execute_result"
    }
   ],
   "source": [
    "df[\"StartTime\"].values"
   ]
  },
  {
   "cell_type": "code",
   "execution_count": 68,
   "metadata": {},
   "outputs": [
    {
     "data": {
      "text/plain": [
       "True"
      ]
     },
     "execution_count": 68,
     "metadata": {},
     "output_type": "execute_result"
    }
   ],
   "source": [
    "df[\"StartTime\"].iloc[0] == labels[\"TimeStamp\"].iloc[0]"
   ]
  },
  {
   "cell_type": "code",
   "execution_count": 70,
   "metadata": {},
   "outputs": [
    {
     "data": {
      "text/plain": [
       "823"
      ]
     },
     "execution_count": 70,
     "metadata": {},
     "output_type": "execute_result"
    }
   ],
   "source": [
    "len(labels[\"TimeStamp\"])\n",
    "len(df[\"StartTime\"])"
   ]
  },
  {
   "cell_type": "code",
   "execution_count": 73,
   "metadata": {},
   "outputs": [],
   "source": [
    "for i in df[\"StartTime\"].values:\n",
    "    if i not in labels[\"TimeStamp\"].values:\n",
    "        print(i)"
   ]
  },
  {
   "cell_type": "code",
   "execution_count": 79,
   "metadata": {},
   "outputs": [],
   "source": [
    "def Repeat(x): \n",
    "    _size = len(x) \n",
    "    repeated = [] \n",
    "    for i in range(_size): \n",
    "        k = i + 1\n",
    "        for j in range(k, _size): \n",
    "            if x[i] == x[j] and x[i] not in repeated: \n",
    "                repeated.append(x[i]) \n",
    "    return repeated "
   ]
  },
  {
   "cell_type": "code",
   "execution_count": 86,
   "metadata": {},
   "outputs": [
    {
     "data": {
      "text/plain": [
       "['01:55:00', '04:27:30', '06:11:00']"
      ]
     },
     "execution_count": 86,
     "metadata": {},
     "output_type": "execute_result"
    }
   ],
   "source": [
    "a = Repeat(df[\"StartTime\"].values)\n",
    "a"
   ]
  },
  {
   "cell_type": "code",
   "execution_count": 90,
   "metadata": {},
   "outputs": [
    {
     "name": "stdout",
     "output_type": "stream",
     "text": [
      "01:55:00 2\n",
      "04:27:30 2\n",
      "06:11:00 2\n"
     ]
    }
   ],
   "source": [
    "for i in a:\n",
    "    count=0\n",
    "    for j in df[\"StartTime\"].values:\n",
    "        if i==j:\n",
    "            count +=1\n",
    "    if count >= 2:\n",
    "        print(i, count)"
   ]
  },
  {
   "cell_type": "code",
   "execution_count": 107,
   "metadata": {},
   "outputs": [
    {
     "data": {
      "text/plain": [
       "'0        23:45:00\\n1        23:45:01\\n2        23:45:02\\n3        23:45:03\\n4        23:45:04\\n           ...   \\n24700    06:35:25\\n24701    06:35:26\\n24702    06:35:27\\n24703    06:35:28\\n24704    06:35:29\\nName: Time, Length: 24705, dtype: object'"
      ]
     },
     "execution_count": 107,
     "metadata": {},
     "output_type": "execute_result"
    }
   ],
   "source": [
    "str(data_time[\"Time\"])"
   ]
  },
  {
   "cell_type": "code",
   "execution_count": 103,
   "metadata": {},
   "outputs": [
    {
     "data": {
      "text/html": [
       "<div>\n",
       "<style scoped>\n",
       "    .dataframe tbody tr th:only-of-type {\n",
       "        vertical-align: middle;\n",
       "    }\n",
       "\n",
       "    .dataframe tbody tr th {\n",
       "        vertical-align: top;\n",
       "    }\n",
       "\n",
       "    .dataframe thead th {\n",
       "        text-align: right;\n",
       "    }\n",
       "</style>\n",
       "<table border=\"1\" class=\"dataframe\">\n",
       "  <thead>\n",
       "    <tr style=\"text-align: right;\">\n",
       "      <th></th>\n",
       "      <th>TimeStamp</th>\n",
       "      <th>Label</th>\n",
       "    </tr>\n",
       "  </thead>\n",
       "  <tbody>\n",
       "  </tbody>\n",
       "</table>\n",
       "</div>"
      ],
      "text/plain": [
       "Empty DataFrame\n",
       "Columns: [TimeStamp, Label]\n",
       "Index: []"
      ]
     },
     "execution_count": 103,
     "metadata": {},
     "output_type": "execute_result"
    }
   ],
   "source": [
    "labels.loc[data_time[\"Time\"] == \"01:55:00\"]"
   ]
  },
  {
   "cell_type": "code",
   "execution_count": 99,
   "metadata": {},
   "outputs": [
    {
     "data": {
      "text/html": [
       "<div>\n",
       "<style scoped>\n",
       "    .dataframe tbody tr th:only-of-type {\n",
       "        vertical-align: middle;\n",
       "    }\n",
       "\n",
       "    .dataframe tbody tr th {\n",
       "        vertical-align: top;\n",
       "    }\n",
       "\n",
       "    .dataframe thead th {\n",
       "        text-align: right;\n",
       "    }\n",
       "</style>\n",
       "<table border=\"1\" class=\"dataframe\">\n",
       "  <thead>\n",
       "    <tr style=\"text-align: right;\">\n",
       "      <th></th>\n",
       "      <th>TimeStamp</th>\n",
       "      <th>Label</th>\n",
       "    </tr>\n",
       "  </thead>\n",
       "  <tbody>\n",
       "    <tr>\n",
       "      <th>565</th>\n",
       "      <td>04:27:30</td>\n",
       "      <td>2</td>\n",
       "    </tr>\n",
       "  </tbody>\n",
       "</table>\n",
       "</div>"
      ],
      "text/plain": [
       "    TimeStamp Label\n",
       "565  04:27:30     2"
      ]
     },
     "execution_count": 99,
     "metadata": {},
     "output_type": "execute_result"
    }
   ],
   "source": [
    "labels.loc[labels[\"TimeStamp\"]  == \"04:27:30\"]"
   ]
  },
  {
   "cell_type": "code",
   "execution_count": 100,
   "metadata": {},
   "outputs": [
    {
     "data": {
      "text/html": [
       "<div>\n",
       "<style scoped>\n",
       "    .dataframe tbody tr th:only-of-type {\n",
       "        vertical-align: middle;\n",
       "    }\n",
       "\n",
       "    .dataframe tbody tr th {\n",
       "        vertical-align: top;\n",
       "    }\n",
       "\n",
       "    .dataframe thead th {\n",
       "        text-align: right;\n",
       "    }\n",
       "</style>\n",
       "<table border=\"1\" class=\"dataframe\">\n",
       "  <thead>\n",
       "    <tr style=\"text-align: right;\">\n",
       "      <th></th>\n",
       "      <th>TimeStamp</th>\n",
       "      <th>Label</th>\n",
       "    </tr>\n",
       "  </thead>\n",
       "  <tbody>\n",
       "    <tr>\n",
       "      <th>772</th>\n",
       "      <td>06:11:00</td>\n",
       "      <td>2</td>\n",
       "    </tr>\n",
       "  </tbody>\n",
       "</table>\n",
       "</div>"
      ],
      "text/plain": [
       "    TimeStamp Label\n",
       "772  06:11:00     2"
      ]
     },
     "execution_count": 100,
     "metadata": {},
     "output_type": "execute_result"
    }
   ],
   "source": [
    "labels.loc[labels[\"TimeStamp\"] == \"06:11:00\"]"
   ]
  },
  {
   "cell_type": "code",
   "execution_count": null,
   "metadata": {},
   "outputs": [],
   "source": [
    "loc[df[\"StartTime\"] == \"06:11:00\"]"
   ]
  },
  {
   "cell_type": "code",
   "execution_count": 174,
   "metadata": {},
   "outputs": [],
   "source": [
    "df = pd.DataFrame(dataFrame, columns=[\"Date\", \"StartTime\", \"EndTime\", \"Features\", \"Label\"])"
   ]
  },
  {
   "cell_type": "code",
   "execution_count": 178,
   "metadata": {},
   "outputs": [],
   "source": [
    "df_ = pd.DataFrame(avgFrame, columns=[\"Date\", \"StartTime\", \"EndTime\", \"RPM\", \"ObjectDistance\", \"SignalQuality\", \"MovementSlow\", \"MovementFast\", \"Label\"])"
   ]
  },
  {
   "cell_type": "code",
   "execution_count": 179,
   "metadata": {},
   "outputs": [
    {
     "data": {
      "text/html": [
       "<div>\n",
       "<style scoped>\n",
       "    .dataframe tbody tr th:only-of-type {\n",
       "        vertical-align: middle;\n",
       "    }\n",
       "\n",
       "    .dataframe tbody tr th {\n",
       "        vertical-align: top;\n",
       "    }\n",
       "\n",
       "    .dataframe thead th {\n",
       "        text-align: right;\n",
       "    }\n",
       "</style>\n",
       "<table border=\"1\" class=\"dataframe\">\n",
       "  <thead>\n",
       "    <tr style=\"text-align: right;\">\n",
       "      <th></th>\n",
       "      <th>Date</th>\n",
       "      <th>StartTime</th>\n",
       "      <th>EndTime</th>\n",
       "      <th>RPM</th>\n",
       "      <th>ObjectDistance</th>\n",
       "      <th>SignalQuality</th>\n",
       "      <th>MovementSlow</th>\n",
       "      <th>MovementFast</th>\n",
       "      <th>Label</th>\n",
       "    </tr>\n",
       "  </thead>\n",
       "  <tbody>\n",
       "    <tr>\n",
       "      <th>0</th>\n",
       "      <td>2017-11-22</td>\n",
       "      <td>23:45:00</td>\n",
       "      <td>23:45:30</td>\n",
       "      <td>0.000000</td>\n",
       "      <td>1.005013</td>\n",
       "      <td>4.233333</td>\n",
       "      <td>17.183042</td>\n",
       "      <td>1.032979</td>\n",
       "      <td>0</td>\n",
       "    </tr>\n",
       "    <tr>\n",
       "      <th>1</th>\n",
       "      <td>2017-11-22</td>\n",
       "      <td>23:45:30</td>\n",
       "      <td>23:46:00</td>\n",
       "      <td>0.000000</td>\n",
       "      <td>0.718234</td>\n",
       "      <td>5.433333</td>\n",
       "      <td>39.918807</td>\n",
       "      <td>38.216497</td>\n",
       "      <td>0</td>\n",
       "    </tr>\n",
       "    <tr>\n",
       "      <th>2</th>\n",
       "      <td>2017-11-22</td>\n",
       "      <td>23:46:00</td>\n",
       "      <td>23:46:30</td>\n",
       "      <td>8.112550</td>\n",
       "      <td>0.552008</td>\n",
       "      <td>8.400000</td>\n",
       "      <td>66.798640</td>\n",
       "      <td>29.113056</td>\n",
       "      <td>0</td>\n",
       "    </tr>\n",
       "    <tr>\n",
       "      <th>3</th>\n",
       "      <td>2017-11-22</td>\n",
       "      <td>23:46:30</td>\n",
       "      <td>23:47:00</td>\n",
       "      <td>0.000000</td>\n",
       "      <td>0.547259</td>\n",
       "      <td>4.900000</td>\n",
       "      <td>39.094203</td>\n",
       "      <td>23.586217</td>\n",
       "      <td>0</td>\n",
       "    </tr>\n",
       "    <tr>\n",
       "      <th>4</th>\n",
       "      <td>2017-11-22</td>\n",
       "      <td>23:47:00</td>\n",
       "      <td>23:47:30</td>\n",
       "      <td>0.000000</td>\n",
       "      <td>0.410558</td>\n",
       "      <td>9.366667</td>\n",
       "      <td>71.531260</td>\n",
       "      <td>35.720941</td>\n",
       "      <td>0</td>\n",
       "    </tr>\n",
       "    <tr>\n",
       "      <th>5</th>\n",
       "      <td>2017-11-22</td>\n",
       "      <td>23:47:30</td>\n",
       "      <td>23:48:00</td>\n",
       "      <td>8.712047</td>\n",
       "      <td>0.662848</td>\n",
       "      <td>6.966667</td>\n",
       "      <td>30.039272</td>\n",
       "      <td>9.052053</td>\n",
       "      <td>0</td>\n",
       "    </tr>\n",
       "    <tr>\n",
       "      <th>6</th>\n",
       "      <td>2017-11-22</td>\n",
       "      <td>23:48:00</td>\n",
       "      <td>23:48:30</td>\n",
       "      <td>0.000000</td>\n",
       "      <td>0.531057</td>\n",
       "      <td>5.266667</td>\n",
       "      <td>40.621237</td>\n",
       "      <td>19.096058</td>\n",
       "      <td>0</td>\n",
       "    </tr>\n",
       "    <tr>\n",
       "      <th>7</th>\n",
       "      <td>2017-11-22</td>\n",
       "      <td>23:48:30</td>\n",
       "      <td>23:49:00</td>\n",
       "      <td>1.828120</td>\n",
       "      <td>0.474209</td>\n",
       "      <td>5.500000</td>\n",
       "      <td>58.928643</td>\n",
       "      <td>26.071059</td>\n",
       "      <td>0</td>\n",
       "    </tr>\n",
       "    <tr>\n",
       "      <th>8</th>\n",
       "      <td>2017-11-22</td>\n",
       "      <td>23:49:00</td>\n",
       "      <td>23:49:30</td>\n",
       "      <td>8.120300</td>\n",
       "      <td>0.548221</td>\n",
       "      <td>9.266667</td>\n",
       "      <td>60.000520</td>\n",
       "      <td>21.033347</td>\n",
       "      <td>0</td>\n",
       "    </tr>\n",
       "    <tr>\n",
       "      <th>9</th>\n",
       "      <td>2017-11-22</td>\n",
       "      <td>23:49:30</td>\n",
       "      <td>23:50:00</td>\n",
       "      <td>11.045110</td>\n",
       "      <td>0.545825</td>\n",
       "      <td>8.612903</td>\n",
       "      <td>66.712442</td>\n",
       "      <td>30.122429</td>\n",
       "      <td>1</td>\n",
       "    </tr>\n",
       "    <tr>\n",
       "      <th>10</th>\n",
       "      <td>2017-11-22</td>\n",
       "      <td>23:50:00</td>\n",
       "      <td>23:50:30</td>\n",
       "      <td>0.000000</td>\n",
       "      <td>0.544428</td>\n",
       "      <td>7.833333</td>\n",
       "      <td>49.526597</td>\n",
       "      <td>6.502886</td>\n",
       "      <td>1</td>\n",
       "    </tr>\n",
       "    <tr>\n",
       "      <th>11</th>\n",
       "      <td>2017-11-22</td>\n",
       "      <td>23:50:30</td>\n",
       "      <td>23:51:00</td>\n",
       "      <td>2.097060</td>\n",
       "      <td>0.583795</td>\n",
       "      <td>9.433333</td>\n",
       "      <td>53.481567</td>\n",
       "      <td>13.464201</td>\n",
       "      <td>0</td>\n",
       "    </tr>\n",
       "    <tr>\n",
       "      <th>12</th>\n",
       "      <td>2017-11-22</td>\n",
       "      <td>23:51:00</td>\n",
       "      <td>23:51:30</td>\n",
       "      <td>0.000000</td>\n",
       "      <td>0.534014</td>\n",
       "      <td>8.033333</td>\n",
       "      <td>59.610180</td>\n",
       "      <td>21.905869</td>\n",
       "      <td>0</td>\n",
       "    </tr>\n",
       "    <tr>\n",
       "      <th>13</th>\n",
       "      <td>2017-11-22</td>\n",
       "      <td>23:51:30</td>\n",
       "      <td>23:52:00</td>\n",
       "      <td>0.000000</td>\n",
       "      <td>0.541043</td>\n",
       "      <td>7.833333</td>\n",
       "      <td>59.375723</td>\n",
       "      <td>13.076383</td>\n",
       "      <td>0</td>\n",
       "    </tr>\n",
       "    <tr>\n",
       "      <th>14</th>\n",
       "      <td>2017-11-22</td>\n",
       "      <td>23:52:00</td>\n",
       "      <td>23:52:30</td>\n",
       "      <td>1.330790</td>\n",
       "      <td>0.663540</td>\n",
       "      <td>10.000000</td>\n",
       "      <td>46.060243</td>\n",
       "      <td>5.521666</td>\n",
       "      <td>0</td>\n",
       "    </tr>\n",
       "    <tr>\n",
       "      <th>15</th>\n",
       "      <td>2017-11-22</td>\n",
       "      <td>23:52:30</td>\n",
       "      <td>23:53:00</td>\n",
       "      <td>10.153367</td>\n",
       "      <td>0.579176</td>\n",
       "      <td>9.466667</td>\n",
       "      <td>50.000263</td>\n",
       "      <td>15.704669</td>\n",
       "      <td>0</td>\n",
       "    </tr>\n",
       "    <tr>\n",
       "      <th>16</th>\n",
       "      <td>2017-11-22</td>\n",
       "      <td>23:53:00</td>\n",
       "      <td>23:53:30</td>\n",
       "      <td>6.165344</td>\n",
       "      <td>0.406558</td>\n",
       "      <td>10.000000</td>\n",
       "      <td>60.785857</td>\n",
       "      <td>15.343463</td>\n",
       "      <td>0</td>\n",
       "    </tr>\n",
       "    <tr>\n",
       "      <th>17</th>\n",
       "      <td>2017-11-22</td>\n",
       "      <td>23:53:30</td>\n",
       "      <td>23:54:00</td>\n",
       "      <td>0.000000</td>\n",
       "      <td>0.405320</td>\n",
       "      <td>9.300000</td>\n",
       "      <td>51.969077</td>\n",
       "      <td>5.978998</td>\n",
       "      <td>0</td>\n",
       "    </tr>\n",
       "    <tr>\n",
       "      <th>18</th>\n",
       "      <td>2017-11-22</td>\n",
       "      <td>23:54:00</td>\n",
       "      <td>23:54:30</td>\n",
       "      <td>0.000000</td>\n",
       "      <td>0.388447</td>\n",
       "      <td>9.166667</td>\n",
       "      <td>55.840213</td>\n",
       "      <td>27.066695</td>\n",
       "      <td>0</td>\n",
       "    </tr>\n",
       "    <tr>\n",
       "      <th>19</th>\n",
       "      <td>2017-11-22</td>\n",
       "      <td>23:54:30</td>\n",
       "      <td>23:55:00</td>\n",
       "      <td>0.000000</td>\n",
       "      <td>0.396572</td>\n",
       "      <td>6.700000</td>\n",
       "      <td>79.372160</td>\n",
       "      <td>43.243493</td>\n",
       "      <td>1</td>\n",
       "    </tr>\n",
       "    <tr>\n",
       "      <th>20</th>\n",
       "      <td>2017-11-22</td>\n",
       "      <td>23:55:00</td>\n",
       "      <td>23:55:30</td>\n",
       "      <td>0.000000</td>\n",
       "      <td>0.449192</td>\n",
       "      <td>4.129032</td>\n",
       "      <td>65.301474</td>\n",
       "      <td>22.588513</td>\n",
       "      <td>1</td>\n",
       "    </tr>\n",
       "    <tr>\n",
       "      <th>21</th>\n",
       "      <td>2017-11-22</td>\n",
       "      <td>23:55:30</td>\n",
       "      <td>23:56:00</td>\n",
       "      <td>5.850180</td>\n",
       "      <td>0.624965</td>\n",
       "      <td>6.833333</td>\n",
       "      <td>67.330347</td>\n",
       "      <td>11.595306</td>\n",
       "      <td>0</td>\n",
       "    </tr>\n",
       "    <tr>\n",
       "      <th>22</th>\n",
       "      <td>2017-11-22</td>\n",
       "      <td>23:56:00</td>\n",
       "      <td>23:56:30</td>\n",
       "      <td>8.886817</td>\n",
       "      <td>0.751536</td>\n",
       "      <td>6.633333</td>\n",
       "      <td>27.344490</td>\n",
       "      <td>0.980849</td>\n",
       "      <td>0</td>\n",
       "    </tr>\n",
       "    <tr>\n",
       "      <th>23</th>\n",
       "      <td>2017-11-22</td>\n",
       "      <td>23:56:30</td>\n",
       "      <td>23:57:00</td>\n",
       "      <td>6.709912</td>\n",
       "      <td>0.783527</td>\n",
       "      <td>7.300000</td>\n",
       "      <td>23.143977</td>\n",
       "      <td>1.655206</td>\n",
       "      <td>0</td>\n",
       "    </tr>\n",
       "    <tr>\n",
       "      <th>24</th>\n",
       "      <td>2017-11-22</td>\n",
       "      <td>23:57:00</td>\n",
       "      <td>23:57:30</td>\n",
       "      <td>8.817202</td>\n",
       "      <td>0.786920</td>\n",
       "      <td>7.000000</td>\n",
       "      <td>12.186075</td>\n",
       "      <td>0.473233</td>\n",
       "      <td>0</td>\n",
       "    </tr>\n",
       "    <tr>\n",
       "      <th>25</th>\n",
       "      <td>2017-11-22</td>\n",
       "      <td>23:57:30</td>\n",
       "      <td>23:58:00</td>\n",
       "      <td>3.954796</td>\n",
       "      <td>0.846290</td>\n",
       "      <td>9.100000</td>\n",
       "      <td>8.493738</td>\n",
       "      <td>0.024031</td>\n",
       "      <td>0</td>\n",
       "    </tr>\n",
       "    <tr>\n",
       "      <th>26</th>\n",
       "      <td>2017-11-22</td>\n",
       "      <td>23:58:00</td>\n",
       "      <td>23:58:30</td>\n",
       "      <td>13.411113</td>\n",
       "      <td>0.832839</td>\n",
       "      <td>8.500000</td>\n",
       "      <td>11.163252</td>\n",
       "      <td>0.781204</td>\n",
       "      <td>0</td>\n",
       "    </tr>\n",
       "    <tr>\n",
       "      <th>27</th>\n",
       "      <td>2017-11-22</td>\n",
       "      <td>23:58:30</td>\n",
       "      <td>23:59:00</td>\n",
       "      <td>5.840514</td>\n",
       "      <td>0.822854</td>\n",
       "      <td>8.366667</td>\n",
       "      <td>9.687004</td>\n",
       "      <td>0.493197</td>\n",
       "      <td>0</td>\n",
       "    </tr>\n",
       "    <tr>\n",
       "      <th>28</th>\n",
       "      <td>2017-11-22</td>\n",
       "      <td>23:59:00</td>\n",
       "      <td>23:59:30</td>\n",
       "      <td>17.771067</td>\n",
       "      <td>0.853829</td>\n",
       "      <td>9.600000</td>\n",
       "      <td>15.206416</td>\n",
       "      <td>1.449645</td>\n",
       "      <td>0</td>\n",
       "    </tr>\n",
       "    <tr>\n",
       "      <th>29</th>\n",
       "      <td>2017-11-22</td>\n",
       "      <td>23:59:30</td>\n",
       "      <td>00:00:00</td>\n",
       "      <td>6.721748</td>\n",
       "      <td>0.869804</td>\n",
       "      <td>9.700000</td>\n",
       "      <td>7.355866</td>\n",
       "      <td>0.017746</td>\n",
       "      <td>1</td>\n",
       "    </tr>\n",
       "    <tr>\n",
       "      <th>...</th>\n",
       "      <td>...</td>\n",
       "      <td>...</td>\n",
       "      <td>...</td>\n",
       "      <td>...</td>\n",
       "      <td>...</td>\n",
       "      <td>...</td>\n",
       "      <td>...</td>\n",
       "      <td>...</td>\n",
       "      <td>...</td>\n",
       "    </tr>\n",
       "    <tr>\n",
       "      <th>793</th>\n",
       "      <td>2017-11-23</td>\n",
       "      <td>06:20:00</td>\n",
       "      <td>06:20:30</td>\n",
       "      <td>11.184277</td>\n",
       "      <td>0.852803</td>\n",
       "      <td>9.033333</td>\n",
       "      <td>8.719983</td>\n",
       "      <td>0.053239</td>\n",
       "      <td>2</td>\n",
       "    </tr>\n",
       "    <tr>\n",
       "      <th>794</th>\n",
       "      <td>2017-11-23</td>\n",
       "      <td>06:20:30</td>\n",
       "      <td>06:21:00</td>\n",
       "      <td>15.069567</td>\n",
       "      <td>0.857777</td>\n",
       "      <td>10.000000</td>\n",
       "      <td>8.983655</td>\n",
       "      <td>0.076161</td>\n",
       "      <td>2</td>\n",
       "    </tr>\n",
       "    <tr>\n",
       "      <th>795</th>\n",
       "      <td>2017-11-23</td>\n",
       "      <td>06:21:00</td>\n",
       "      <td>06:21:30</td>\n",
       "      <td>14.898170</td>\n",
       "      <td>0.857852</td>\n",
       "      <td>10.000000</td>\n",
       "      <td>8.050355</td>\n",
       "      <td>0.044366</td>\n",
       "      <td>2</td>\n",
       "    </tr>\n",
       "    <tr>\n",
       "      <th>796</th>\n",
       "      <td>2017-11-23</td>\n",
       "      <td>06:21:30</td>\n",
       "      <td>06:22:00</td>\n",
       "      <td>16.608952</td>\n",
       "      <td>0.857729</td>\n",
       "      <td>10.000000</td>\n",
       "      <td>9.013012</td>\n",
       "      <td>0.079429</td>\n",
       "      <td>2</td>\n",
       "    </tr>\n",
       "    <tr>\n",
       "      <th>797</th>\n",
       "      <td>2017-11-23</td>\n",
       "      <td>06:22:00</td>\n",
       "      <td>06:22:30</td>\n",
       "      <td>13.458387</td>\n",
       "      <td>0.781309</td>\n",
       "      <td>8.900000</td>\n",
       "      <td>50.007667</td>\n",
       "      <td>27.394265</td>\n",
       "      <td>2</td>\n",
       "    </tr>\n",
       "    <tr>\n",
       "      <th>798</th>\n",
       "      <td>2017-11-23</td>\n",
       "      <td>06:22:30</td>\n",
       "      <td>06:23:00</td>\n",
       "      <td>8.736730</td>\n",
       "      <td>0.670834</td>\n",
       "      <td>6.966667</td>\n",
       "      <td>23.710330</td>\n",
       "      <td>1.588657</td>\n",
       "      <td>3</td>\n",
       "    </tr>\n",
       "    <tr>\n",
       "      <th>799</th>\n",
       "      <td>2017-11-23</td>\n",
       "      <td>06:23:00</td>\n",
       "      <td>06:23:30</td>\n",
       "      <td>15.398967</td>\n",
       "      <td>0.778231</td>\n",
       "      <td>10.000000</td>\n",
       "      <td>11.844524</td>\n",
       "      <td>7.584664</td>\n",
       "      <td>2</td>\n",
       "    </tr>\n",
       "    <tr>\n",
       "      <th>800</th>\n",
       "      <td>2017-11-23</td>\n",
       "      <td>06:23:30</td>\n",
       "      <td>06:24:00</td>\n",
       "      <td>2.892697</td>\n",
       "      <td>0.809993</td>\n",
       "      <td>4.833333</td>\n",
       "      <td>69.185967</td>\n",
       "      <td>42.609050</td>\n",
       "      <td>2</td>\n",
       "    </tr>\n",
       "    <tr>\n",
       "      <th>801</th>\n",
       "      <td>2017-11-23</td>\n",
       "      <td>06:24:00</td>\n",
       "      <td>06:24:30</td>\n",
       "      <td>1.129847</td>\n",
       "      <td>0.550561</td>\n",
       "      <td>7.000000</td>\n",
       "      <td>57.252717</td>\n",
       "      <td>25.397443</td>\n",
       "      <td>2</td>\n",
       "    </tr>\n",
       "    <tr>\n",
       "      <th>802</th>\n",
       "      <td>2017-11-23</td>\n",
       "      <td>06:24:30</td>\n",
       "      <td>06:25:00</td>\n",
       "      <td>2.802447</td>\n",
       "      <td>0.608063</td>\n",
       "      <td>6.866667</td>\n",
       "      <td>43.453536</td>\n",
       "      <td>8.326681</td>\n",
       "      <td>2</td>\n",
       "    </tr>\n",
       "    <tr>\n",
       "      <th>803</th>\n",
       "      <td>2017-11-23</td>\n",
       "      <td>06:25:00</td>\n",
       "      <td>06:25:30</td>\n",
       "      <td>16.586607</td>\n",
       "      <td>0.881846</td>\n",
       "      <td>10.000000</td>\n",
       "      <td>8.485930</td>\n",
       "      <td>0.000370</td>\n",
       "      <td>2</td>\n",
       "    </tr>\n",
       "    <tr>\n",
       "      <th>804</th>\n",
       "      <td>2017-11-23</td>\n",
       "      <td>06:25:30</td>\n",
       "      <td>06:26:00</td>\n",
       "      <td>16.280117</td>\n",
       "      <td>0.883025</td>\n",
       "      <td>10.000000</td>\n",
       "      <td>7.395536</td>\n",
       "      <td>0.000739</td>\n",
       "      <td>2</td>\n",
       "    </tr>\n",
       "    <tr>\n",
       "      <th>805</th>\n",
       "      <td>2017-11-23</td>\n",
       "      <td>06:26:00</td>\n",
       "      <td>06:26:30</td>\n",
       "      <td>15.470593</td>\n",
       "      <td>0.880059</td>\n",
       "      <td>10.000000</td>\n",
       "      <td>6.607426</td>\n",
       "      <td>0.000370</td>\n",
       "      <td>0</td>\n",
       "    </tr>\n",
       "    <tr>\n",
       "      <th>806</th>\n",
       "      <td>2017-11-23</td>\n",
       "      <td>06:26:30</td>\n",
       "      <td>06:27:00</td>\n",
       "      <td>14.474140</td>\n",
       "      <td>0.878126</td>\n",
       "      <td>10.000000</td>\n",
       "      <td>6.994869</td>\n",
       "      <td>0.000000</td>\n",
       "      <td>0</td>\n",
       "    </tr>\n",
       "    <tr>\n",
       "      <th>807</th>\n",
       "      <td>2017-11-23</td>\n",
       "      <td>06:27:00</td>\n",
       "      <td>06:27:30</td>\n",
       "      <td>11.111290</td>\n",
       "      <td>0.849165</td>\n",
       "      <td>8.000000</td>\n",
       "      <td>6.399658</td>\n",
       "      <td>0.000000</td>\n",
       "      <td>1</td>\n",
       "    </tr>\n",
       "    <tr>\n",
       "      <th>808</th>\n",
       "      <td>2017-11-23</td>\n",
       "      <td>06:27:30</td>\n",
       "      <td>06:28:00</td>\n",
       "      <td>15.110673</td>\n",
       "      <td>0.875712</td>\n",
       "      <td>10.000000</td>\n",
       "      <td>7.620993</td>\n",
       "      <td>0.076900</td>\n",
       "      <td>1</td>\n",
       "    </tr>\n",
       "    <tr>\n",
       "      <th>809</th>\n",
       "      <td>2017-11-23</td>\n",
       "      <td>06:28:00</td>\n",
       "      <td>06:28:30</td>\n",
       "      <td>15.611657</td>\n",
       "      <td>0.878379</td>\n",
       "      <td>10.000000</td>\n",
       "      <td>32.413650</td>\n",
       "      <td>7.854556</td>\n",
       "      <td>2</td>\n",
       "    </tr>\n",
       "    <tr>\n",
       "      <th>810</th>\n",
       "      <td>2017-11-23</td>\n",
       "      <td>06:28:30</td>\n",
       "      <td>06:29:00</td>\n",
       "      <td>15.180093</td>\n",
       "      <td>0.882653</td>\n",
       "      <td>10.000000</td>\n",
       "      <td>16.341246</td>\n",
       "      <td>1.447427</td>\n",
       "      <td>2</td>\n",
       "    </tr>\n",
       "    <tr>\n",
       "      <th>811</th>\n",
       "      <td>2017-11-23</td>\n",
       "      <td>06:29:00</td>\n",
       "      <td>06:29:30</td>\n",
       "      <td>15.591997</td>\n",
       "      <td>0.879563</td>\n",
       "      <td>10.000000</td>\n",
       "      <td>9.475303</td>\n",
       "      <td>0.000000</td>\n",
       "      <td>2</td>\n",
       "    </tr>\n",
       "    <tr>\n",
       "      <th>812</th>\n",
       "      <td>2017-11-23</td>\n",
       "      <td>06:29:30</td>\n",
       "      <td>06:30:00</td>\n",
       "      <td>14.781253</td>\n",
       "      <td>0.877833</td>\n",
       "      <td>10.000000</td>\n",
       "      <td>6.169074</td>\n",
       "      <td>0.000370</td>\n",
       "      <td>2</td>\n",
       "    </tr>\n",
       "    <tr>\n",
       "      <th>813</th>\n",
       "      <td>2017-11-23</td>\n",
       "      <td>06:30:00</td>\n",
       "      <td>06:30:30</td>\n",
       "      <td>6.704743</td>\n",
       "      <td>0.646767</td>\n",
       "      <td>9.166667</td>\n",
       "      <td>54.770441</td>\n",
       "      <td>39.577050</td>\n",
       "      <td>2</td>\n",
       "    </tr>\n",
       "    <tr>\n",
       "      <th>814</th>\n",
       "      <td>2017-11-23</td>\n",
       "      <td>06:30:30</td>\n",
       "      <td>06:31:00</td>\n",
       "      <td>9.386360</td>\n",
       "      <td>0.590848</td>\n",
       "      <td>8.266667</td>\n",
       "      <td>74.303523</td>\n",
       "      <td>50.237350</td>\n",
       "      <td>2</td>\n",
       "    </tr>\n",
       "    <tr>\n",
       "      <th>815</th>\n",
       "      <td>2017-11-23</td>\n",
       "      <td>06:31:00</td>\n",
       "      <td>06:31:30</td>\n",
       "      <td>4.715397</td>\n",
       "      <td>0.567657</td>\n",
       "      <td>6.966667</td>\n",
       "      <td>72.413387</td>\n",
       "      <td>40.987500</td>\n",
       "      <td>2</td>\n",
       "    </tr>\n",
       "    <tr>\n",
       "      <th>816</th>\n",
       "      <td>2017-11-23</td>\n",
       "      <td>06:31:30</td>\n",
       "      <td>06:32:00</td>\n",
       "      <td>6.491687</td>\n",
       "      <td>0.719285</td>\n",
       "      <td>8.566667</td>\n",
       "      <td>56.676057</td>\n",
       "      <td>22.451196</td>\n",
       "      <td>2</td>\n",
       "    </tr>\n",
       "    <tr>\n",
       "      <th>817</th>\n",
       "      <td>2017-11-23</td>\n",
       "      <td>06:32:00</td>\n",
       "      <td>06:32:30</td>\n",
       "      <td>7.218221</td>\n",
       "      <td>1.134740</td>\n",
       "      <td>4.700000</td>\n",
       "      <td>63.284933</td>\n",
       "      <td>30.219613</td>\n",
       "      <td>2</td>\n",
       "    </tr>\n",
       "    <tr>\n",
       "      <th>818</th>\n",
       "      <td>2017-11-23</td>\n",
       "      <td>06:32:30</td>\n",
       "      <td>06:33:00</td>\n",
       "      <td>8.009390</td>\n",
       "      <td>0.578265</td>\n",
       "      <td>8.870968</td>\n",
       "      <td>72.430277</td>\n",
       "      <td>33.552540</td>\n",
       "      <td>0</td>\n",
       "    </tr>\n",
       "    <tr>\n",
       "      <th>819</th>\n",
       "      <td>2017-11-23</td>\n",
       "      <td>06:33:00</td>\n",
       "      <td>06:33:30</td>\n",
       "      <td>0.000000</td>\n",
       "      <td>0.485909</td>\n",
       "      <td>6.666667</td>\n",
       "      <td>70.314050</td>\n",
       "      <td>41.868904</td>\n",
       "      <td>0</td>\n",
       "    </tr>\n",
       "    <tr>\n",
       "      <th>820</th>\n",
       "      <td>2017-11-23</td>\n",
       "      <td>06:33:30</td>\n",
       "      <td>06:34:00</td>\n",
       "      <td>1.791067</td>\n",
       "      <td>0.420158</td>\n",
       "      <td>9.700000</td>\n",
       "      <td>82.132393</td>\n",
       "      <td>46.930270</td>\n",
       "      <td>0</td>\n",
       "    </tr>\n",
       "    <tr>\n",
       "      <th>821</th>\n",
       "      <td>2017-11-23</td>\n",
       "      <td>06:34:00</td>\n",
       "      <td>06:34:30</td>\n",
       "      <td>5.968613</td>\n",
       "      <td>0.490537</td>\n",
       "      <td>9.866667</td>\n",
       "      <td>81.197503</td>\n",
       "      <td>34.871350</td>\n",
       "      <td>0</td>\n",
       "    </tr>\n",
       "    <tr>\n",
       "      <th>822</th>\n",
       "      <td>2017-11-23</td>\n",
       "      <td>06:34:30</td>\n",
       "      <td>06:35:00</td>\n",
       "      <td>4.803100</td>\n",
       "      <td>0.606861</td>\n",
       "      <td>7.866667</td>\n",
       "      <td>73.487780</td>\n",
       "      <td>19.294586</td>\n",
       "      <td>0</td>\n",
       "    </tr>\n",
       "  </tbody>\n",
       "</table>\n",
       "<p>823 rows × 9 columns</p>\n",
       "</div>"
      ],
      "text/plain": [
       "           Date StartTime   EndTime       RPM  ObjectDistance  SignalQuality  \\\n",
       "0    2017-11-22  23:45:00  23:45:30  0.000000        1.005013       4.233333   \n",
       "1    2017-11-22  23:45:30  23:46:00  0.000000        0.718234       5.433333   \n",
       "2    2017-11-22  23:46:00  23:46:30  8.112550        0.552008       8.400000   \n",
       "3    2017-11-22  23:46:30  23:47:00  0.000000        0.547259       4.900000   \n",
       "4    2017-11-22  23:47:00  23:47:30  0.000000        0.410558       9.366667   \n",
       "..          ...       ...       ...       ...             ...            ...   \n",
       "818  2017-11-23  06:32:30  06:33:00  8.009390        0.578265       8.870968   \n",
       "819  2017-11-23  06:33:00  06:33:30  0.000000        0.485909       6.666667   \n",
       "820  2017-11-23  06:33:30  06:34:00  1.791067        0.420158       9.700000   \n",
       "821  2017-11-23  06:34:00  06:34:30  5.968613        0.490537       9.866667   \n",
       "822  2017-11-23  06:34:30  06:35:00  4.803100        0.606861       7.866667   \n",
       "\n",
       "     MovementSlow  MovementFast Label  \n",
       "0       17.183042      1.032979     0  \n",
       "1       39.918807     38.216497     0  \n",
       "2       66.798640     29.113056     0  \n",
       "3       39.094203     23.586217     0  \n",
       "4       71.531260     35.720941     0  \n",
       "..            ...           ...   ...  \n",
       "818     72.430277     33.552540     0  \n",
       "819     70.314050     41.868904     0  \n",
       "820     82.132393     46.930270     0  \n",
       "821     81.197503     34.871350     0  \n",
       "822     73.487780     19.294586     0  \n",
       "\n",
       "[823 rows x 9 columns]"
      ]
     },
     "execution_count": 179,
     "metadata": {},
     "output_type": "execute_result"
    }
   ],
   "source": [
    "df_"
   ]
  },
  {
   "cell_type": "markdown",
   "metadata": {},
   "source": [
    "# Training Models"
   ]
  },
  {
   "cell_type": "code",
   "execution_count": 249,
   "metadata": {},
   "outputs": [],
   "source": [
    "from sklearn.metrics import accuracy_score\n",
    "from sklearn.model_selection import cross_val_score #For testing Accuracy\n",
    "from sklearn.metrics import confusion_matrix"
   ]
  },
  {
   "cell_type": "code",
   "execution_count": 250,
   "metadata": {},
   "outputs": [],
   "source": [
    "X = df_.filter([\"RPM\", \"ObjectDistance\", \"SignalQuality\", \"MovementSlow\", \"MovementFast\"], axis=1)\n",
    "y = df_[\"Label\"]"
   ]
  },
  {
   "cell_type": "code",
   "execution_count": 251,
   "metadata": {},
   "outputs": [],
   "source": [
    "from sklearn.preprocessing import StandardScaler\n",
    "scaler = StandardScaler()\n",
    "scaled = scaler.fit_transform(X)"
   ]
  },
  {
   "cell_type": "code",
   "execution_count": 252,
   "metadata": {},
   "outputs": [],
   "source": [
    "from sklearn.model_selection import train_test_split\n",
    "X_train, X_test, y_train, y_test = train_test_split(scaled, y, test_size=0.2, random_state=42)"
   ]
  },
  {
   "cell_type": "code",
   "execution_count": 186,
   "metadata": {},
   "outputs": [],
   "source": [
    "from sklearn.model_selection import train_test_split\n",
    "train_set, test_set = train_test_split(df, test_size=0.2, random_state=42)"
   ]
  },
  {
   "cell_type": "code",
   "execution_count": 278,
   "metadata": {},
   "outputs": [
    {
     "name": "stdout",
     "output_type": "stream",
     "text": [
      "Accuracy = 38.79 %\n"
     ]
    },
    {
     "name": "stderr",
     "output_type": "stream",
     "text": [
      "c:\\users\\pc\\appdata\\local\\programs\\python\\python37\\lib\\site-packages\\sklearn\\linear_model\\stochastic_gradient.py:561: ConvergenceWarning: Maximum number of iteration reached before convergence. Consider increasing max_iter to improve the fit.\n",
      "  ConvergenceWarning)\n"
     ]
    }
   ],
   "source": [
    "# Linear Regression\n",
    "from sklearn.linear_model import SGDClassifier\n",
    "\n",
    "lin_clf = SGDClassifier(loss=\"hinge\", penalty=\"l2\", max_iter=5)\n",
    "lin_clf.fit(X_train, y_train)\n",
    "lin_pred = lin_clf.predict(X_test)\n",
    "lin_acore = accuracy_score(y_test, lin_pred)\n",
    "# lin_acore #Accuracy For after hiperparameter is changed\n",
    "print('Accuracy = {:.2f} %'.format(lin_acore*100))"
   ]
  },
  {
   "cell_type": "code",
   "execution_count": 262,
   "metadata": {},
   "outputs": [
    {
     "data": {
      "image/png": "[encoded data removed]",
      "text/plain": [
       "<Figure size 288x288 with 1 Axes>"
      ]
     },
     "metadata": {
      "needs_background": "light"
     },
     "output_type": "display_data"
    }
   ],
   "source": [
    "q = confusion_matrix(y_test, lin_pred)\n",
    "plt.matshow(q)\n",
    "plt.show()"
   ]
  },
  {
   "cell_type": "code",
   "execution_count": 247,
   "metadata": {},
   "outputs": [],
   "source": [
    "#Random Forest Classifier\n",
    "from sklearn.ensemble import RandomForestClassifier\n",
    "\n",
    "forest_reg = RandomForestClassifier(bootstrap=True, class_weight=None, criterion='gini',\n",
    "                       max_depth=None, max_features=3, max_leaf_nodes=None,\n",
    "                       min_impurity_decrease=0.0, min_impurity_split=None,\n",
    "                       min_samples_leaf=1, min_samples_split=2,\n",
    "                       min_weight_fraction_leaf=0.0, n_estimators=30,\n",
    "                       n_jobs=None, oob_score=False, random_state=None,\n",
    "                       verbose=0, warm_start=False)\n",
    "\n",
    "# # scores = cross_val_score(forest_reg, X_train, y_train.values.ravel(), scoring=\"neg_mean_squared_error\", cv=10)\n",
    "# rdf_scores = np.sqrt(-scores)\n",
    "# display_scores(rdf_scores)\n",
    "\n",
    "forest_reg.fit(X_train, y_train)\n",
    "rf_predict = forest_reg.predict(X_test)"
   ]
  },
  {
   "cell_type": "code",
   "execution_count": 277,
   "metadata": {},
   "outputs": [
    {
     "name": "stdout",
     "output_type": "stream",
     "text": [
      "Accuracy = 60.61 %\n"
     ]
    }
   ],
   "source": [
    "rf_acore = accuracy_score(y_test, rf_predict)\n",
    "print('Accuracy = {:.2f} %'.format(rf_acore*100))\n",
    "# rf_acore #Accuracy For after hiperparameter is changed"
   ]
  },
  {
   "cell_type": "code",
   "execution_count": 248,
   "metadata": {},
   "outputs": [
    {
     "data": {
      "image/png": "[encoded data removed]",
      "text/plain": [
       "<Figure size 288x288 with 1 Axes>"
      ]
     },
     "metadata": {
      "needs_background": "light"
     },
     "output_type": "display_data"
    }
   ],
   "source": [
    "q = confusion_matrix(y_test, rf_predict)\n",
    "plt.matshow(q)\n",
    "plt.show()"
   ]
  },
  {
   "cell_type": "code",
   "execution_count": null,
   "metadata": {},
   "outputs": [],
   "source": [
    "import seab\n",
    "df_cm = pd.DataFrame(q, index = ['Wake', 'N1', 'N2', 'N3', 'N4', 'REM'],\n",
    "                  columns = ['Wake', 'N1', 'N2', 'N3', 'N4', 'REM'])\n",
    "plt.figure(figsize = (10,7))\n",
    "sn.heatmap(df_cm, annot=True)"
   ]
  },
  {
   "cell_type": "code",
   "execution_count": 245,
   "metadata": {},
   "outputs": [
    {
     "name": "stderr",
     "output_type": "stream",
     "text": [
      "c:\\users\\pc\\appdata\\local\\programs\\python\\python37\\lib\\site-packages\\sklearn\\model_selection\\_search.py:814: DeprecationWarning: The default of the `iid` parameter will change from True to False in version 0.22 and will be removed in 0.24. This will change numeric results when test-set sizes are unequal.\n",
      "  DeprecationWarning)\n"
     ]
    },
    {
     "data": {
      "text/plain": [
       "{'max_features': 3, 'n_estimators': 30}"
      ]
     },
     "execution_count": 245,
     "metadata": {},
     "output_type": "execute_result"
    }
   ],
   "source": [
    "from sklearn.model_selection import GridSearchCV\n",
    "param_grid = [\n",
    "{'n_estimators': [3, 10, 30], 'max_features': [1, 2, 3]},\n",
    "{'bootstrap': [False], 'n_estimators': [3, 10], 'max_features': [2, 3, 4]},\n",
    "]\n",
    "\n",
    "forest_reg = RandomForestClassifier()\n",
    "grid_search = GridSearchCV(forest_reg, param_grid, cv=5,\n",
    "scoring='accuracy')\n",
    "grid_search.fit(X_train, y_train.values.ravel())\n",
    "grid_search.best_params_"
   ]
  },
  {
   "cell_type": "code",
   "execution_count": 246,
   "metadata": {},
   "outputs": [
    {
     "data": {
      "text/plain": [
       "RandomForestClassifier(bootstrap=True, class_weight=None, criterion='gini',\n",
       "                       max_depth=None, max_features=3, max_leaf_nodes=None,\n",
       "                       min_impurity_decrease=0.0, min_impurity_split=None,\n",
       "                       min_samples_leaf=1, min_samples_split=2,\n",
       "                       min_weight_fraction_leaf=0.0, n_estimators=30,\n",
       "                       n_jobs=None, oob_score=False, random_state=None,\n",
       "                       verbose=0, warm_start=False)"
      ]
     },
     "execution_count": 246,
     "metadata": {},
     "output_type": "execute_result"
    }
   ],
   "source": [
    "grid_search.best_estimator_"
   ]
  },
  {
   "cell_type": "code",
   "execution_count": 279,
   "metadata": {},
   "outputs": [],
   "source": [
    "##########Training SVC########\n",
    "from sklearn.svm import SVC"
   ]
  },
  {
   "cell_type": "code",
   "execution_count": 280,
   "metadata": {},
   "outputs": [
    {
     "name": "stdout",
     "output_type": "stream",
     "text": [
      "Accuracy = 43.03 %\n"
     ]
    },
    {
     "name": "stderr",
     "output_type": "stream",
     "text": [
      "c:\\users\\pc\\appdata\\local\\programs\\python\\python37\\lib\\site-packages\\sklearn\\svm\\base.py:193: FutureWarning: The default value of gamma will change from 'auto' to 'scale' in version 0.22 to account better for unscaled features. Set gamma explicitly to 'auto' or 'scale' to avoid this warning.\n",
      "  \"avoid this warning.\", FutureWarning)\n"
     ]
    }
   ],
   "source": [
    "svc_clf = SVC()\n",
    "svc_clf.fit(X_train, y_train)\n",
    "svc_clf_predict = svc_clf.predict(X_test)\n",
    "svc_clf_acore_1 = accuracy_score(y_test, svc_clf_predict)\n",
    "svc_clf_acore_1 #Accuracy For without setting any hiperparameter manually\n",
    "print('Accuracy = {:.2f} %'.format(svc_clf_acore_1*100))"
   ]
  },
  {
   "cell_type": "code",
   "execution_count": 219,
   "metadata": {},
   "outputs": [
    {
     "data": {
      "image/png": "[encoded data removed]",
      "text/plain": [
       "<Figure size 288x288 with 1 Axes>"
      ]
     },
     "metadata": {
      "needs_background": "light"
     },
     "output_type": "display_data"
    }
   ],
   "source": [
    "#Confusion Metrix\n",
    "q = confusion_matrix(y_test, svc_clf_predict)\n",
    "plt.matshow(q)\n",
    "plt.show()"
   ]
  },
  {
   "cell_type": "code",
   "execution_count": 281,
   "metadata": {},
   "outputs": [
    {
     "name": "stdout",
     "output_type": "stream",
     "text": [
      "Accuracy = 43.03 %\n"
     ]
    }
   ],
   "source": [
    "#Changing the Hiperparameters\n",
    "svc_clf_1 = SVC(gamma='scale')\n",
    "svc_clf_1.fit(X_train, y_train)\n",
    "svc_clf_predict = svc_clf_1.predict(X_test)\n",
    "svc_clf_acore = accuracy_score(y_test, svc_clf_predict)\n",
    "svc_clf_acore #Accuracy For after hiperparameter is changed\n",
    "print('Accuracy = {:.2f} %'.format(svc_clf_acore*100))"
   ]
  },
  {
   "cell_type": "code",
   "execution_count": 223,
   "metadata": {},
   "outputs": [
    {
     "data": {
      "image/png": "[encoded data removed]",
      "text/plain": [
       "<Figure size 288x288 with 1 Axes>"
      ]
     },
     "metadata": {
      "needs_background": "light"
     },
     "output_type": "display_data"
    }
   ],
   "source": [
    "q = confusion_matrix(y_test, svc_clf_predict)\n",
    "plt.matshow(q)\n",
    "plt.show()"
   ]
  },
  {
   "cell_type": "code",
   "execution_count": 282,
   "metadata": {},
   "outputs": [
    {
     "name": "stdout",
     "output_type": "stream",
     "text": [
      "Accuracy = 35.15 %\n"
     ]
    },
    {
     "name": "stderr",
     "output_type": "stream",
     "text": [
      "c:\\users\\pc\\appdata\\local\\programs\\python\\python37\\lib\\site-packages\\sklearn\\svm\\base.py:193: FutureWarning: The default value of gamma will change from 'auto' to 'scale' in version 0.22 to account better for unscaled features. Set gamma explicitly to 'auto' or 'scale' to avoid this warning.\n",
      "  \"avoid this warning.\", FutureWarning)\n"
     ]
    }
   ],
   "source": [
    "#Accuracy For with polykernel \n",
    "poly_kernel_svm_clf = SVC(kernel=\"poly\")\n",
    "poly_kernel_svm_clf.fit(X_train, y_train)\n",
    "poly_kernel_svm_predict = poly_kernel_svm_clf.predict(X_test)\n",
    "poly_kernel_svm_score = accuracy_score(y_test, poly_kernel_svm_predict)\n",
    "poly_kernel_svm_score\n",
    "print('Accuracy = {:.2f} %'.format(poly_kernel_svm_score*100))"
   ]
  },
  {
   "cell_type": "code",
   "execution_count": 224,
   "metadata": {},
   "outputs": [
    {
     "data": {
      "image/png": "[encoded data removed]",
      "text/plain": [
       "<Figure size 288x288 with 1 Axes>"
      ]
     },
     "metadata": {
      "needs_background": "light"
     },
     "output_type": "display_data"
    }
   ],
   "source": [
    "q = confusion_matrix(y_test, poly_kernel_svm_predict)\n",
    "plt.matshow(q)\n",
    "plt.show()"
   ]
  },
  {
   "cell_type": "code",
   "execution_count": 283,
   "metadata": {},
   "outputs": [
    {
     "name": "stdout",
     "output_type": "stream",
     "text": [
      "Accuracy = 35.15 %\n"
     ]
    }
   ],
   "source": [
    "#Accuracy For with polykernel with hiperparameter set\n",
    "poly_kernel_svm_clf = SVC(kernel=\"poly\", gamma='scale')\n",
    "poly_kernel_svm_clf.fit(X_train, y_train)\n",
    "poly_kernel_svm_predict = poly_kernel_svm_clf.predict(X_test)\n",
    "poly_kernel_svm_score = accuracy_score(y_test, poly_kernel_svm_predict)\n",
    "poly_kernel_svm_score\n",
    "print('Accuracy = {:.2f} %'.format(poly_kernel_svm_score*100))"
   ]
  },
  {
   "cell_type": "code",
   "execution_count": 227,
   "metadata": {},
   "outputs": [
    {
     "data": {
      "image/png": "[encoded data removed]",
      "text/plain": [
       "<Figure size 288x288 with 1 Axes>"
      ]
     },
     "metadata": {
      "needs_background": "light"
     },
     "output_type": "display_data"
    }
   ],
   "source": [
    "q = confusion_matrix(y_test, poly_kernel_svm_predict)\n",
    "plt.matshow(q)\n",
    "plt.show()"
   ]
  },
  {
   "cell_type": "markdown",
   "metadata": {},
   "source": [
    "# Neural Netwoks"
   ]
  },
  {
   "cell_type": "code",
   "execution_count": 284,
   "metadata": {},
   "outputs": [],
   "source": [
    "from keras.models import Sequential\n",
    "from keras.layers import Dense\n"
   ]
  },
  {
   "cell_type": "code",
   "execution_count": null,
   "metadata": {},
   "outputs": [],
   "source": [
    "model = Sequential()"
   ]
  }
 ],
 "metadata": {
  "kernelspec": {
   "display_name": "Python 3",
   "language": "python",
   "name": "python3"
  },
  "language_info": {
   "codemirror_mode": {
    "name": "ipython",
    "version": 3
   },
   "file_extension": ".py",
   "mimetype": "text/x-python",
   "name": "python",
   "nbconvert_exporter": "python",
   "pygments_lexer": "ipython3",
   "version": "3.7.3"
  }
 },
 "nbformat": 4,
 "nbformat_minor": 2
}

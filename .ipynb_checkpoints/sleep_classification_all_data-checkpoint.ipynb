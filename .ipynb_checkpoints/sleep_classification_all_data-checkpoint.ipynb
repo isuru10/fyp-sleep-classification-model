{
 "cells": [
  {
   "cell_type": "code",
   "execution_count": 1,
   "metadata": {},
   "outputs": [],
   "source": [
    "import datetime\n",
    "import math\n",
    "import numpy as np\n",
    "import matplotlib.pyplot as plt\n",
    "import os\n",
    "import pandas as pd\n",
    "from datetime import timedelta"
   ]
  },
  {
   "cell_type": "code",
   "execution_count": 2,
   "metadata": {},
   "outputs": [],
   "source": [
    "mid_night = datetime.datetime.strptime('23:59:59', '%H:%M:%S').time()\n",
    "noon = datetime.datetime.strptime('12:00:00', '%H:%M:%S').time()\n",
    "def str_to_time(x, start_time):\n",
    "    if start_time.time() > noon: \n",
    "        if noon < datetime.datetime.strptime(x[:-4], '%H:%M:%S').time() < mid_night:\n",
    "            return datetime.datetime.strptime(str(start_time.date()) + \" \" + x[:-4], '%Y-%m-%d %H:%M:%S')\n",
    "        else:\n",
    "            return datetime.datetime.strptime(str(start_time.date()) + \" \" + x[:-4], '%Y-%m-%d %H:%M:%S') + timedelta(days=1)\n",
    "    else:\n",
    "        return datetime.datetime.strptime(str(start_time.date()) + \" \" + x[:-4], '%Y-%m-%d %H:%M:%S')"
   ]
  },
  {
   "cell_type": "code",
   "execution_count": 3,
   "metadata": {},
   "outputs": [],
   "source": [
    "def round_time(x):\n",
    "    timestamp = datetime.datetime.strptime(x[0:10] + \" \" + x[11:-6], '%Y-%m-%d %H:%M:%S.%f')\n",
    "    if timestamp.time().microsecond >= 500000:\n",
    "        return datetime.datetime.strptime(x[0:10] + \" \" + x[11:-10], '%Y-%m-%d %H:%M:%S') + timedelta(seconds=1)\n",
    "    else:\n",
    "        return datetime.datetime.strptime(x[0:10] + \" \" + x[11:-10], '%Y-%m-%d %H:%M:%S')\n",
    "    \n",
    "    "
   ]
  },
  {
   "cell_type": "code",
   "execution_count": 34,
   "metadata": {},
   "outputs": [
    {
     "name": "stdout",
     "output_type": "stream",
     "text": [
      "(821, 2)\n",
      "(821, 2)\n",
      "(821, 2)\n",
      "(821, 2)\n",
      "(821, 2)\n",
      "(821, 2)\n",
      "(821, 2)\n",
      "(821, 2)\n",
      "(821, 2)\n",
      "(821, 2)\n"
     ]
    },
    {
     "name": "stderr",
     "output_type": "stream",
     "text": [
      "/home/isuru/.local/lib/python3.7/site-packages/pandas/core/indexing.py:190: SettingWithCopyWarning: \n",
      "A value is trying to be set on a copy of a slice from a DataFrame\n",
      "\n",
      "See the caveats in the documentation: http://pandas.pydata.org/pandas-docs/stable/indexing.html#indexing-view-versus-copy\n",
      "  self._setitem_with_indexer(indexer, value)\n"
     ]
    },
    {
     "name": "stdout",
     "output_type": "stream",
     "text": [
      "(949, 2)\n",
      "(946, 2)\n",
      "(946, 2)\n",
      "(946, 2)\n",
      "(946, 2)\n",
      "(946, 2)\n",
      "(946, 2)\n",
      "(946, 2)\n",
      "(946, 2)\n",
      "(946, 2)\n"
     ]
    },
    {
     "ename": "KeyboardInterrupt",
     "evalue": "",
     "output_type": "error",
     "traceback": [
      "\u001b[0;31m---------------------------------------------------------------------------\u001b[0m",
      "\u001b[0;31mKeyboardInterrupt\u001b[0m                         Traceback (most recent call last)",
      "\u001b[0;32m<ipython-input-34-3b4e8b7859ae>\u001b[0m in \u001b[0;36m<module>\u001b[0;34m\u001b[0m\n\u001b[1;32m     54\u001b[0m         \u001b[0;32mfor\u001b[0m \u001b[0mx\u001b[0m \u001b[0;32min\u001b[0m \u001b[0mrange\u001b[0m\u001b[0;34m(\u001b[0m\u001b[0;36m1\u001b[0m\u001b[0;34m,\u001b[0m \u001b[0mcurrent_xethru_recording\u001b[0m\u001b[0;34m.\u001b[0m\u001b[0mshape\u001b[0m\u001b[0;34m[\u001b[0m\u001b[0;36m0\u001b[0m\u001b[0;34m]\u001b[0m\u001b[0;34m)\u001b[0m\u001b[0;34m:\u001b[0m\u001b[0;34m\u001b[0m\u001b[0;34m\u001b[0m\u001b[0m\n\u001b[1;32m     55\u001b[0m             \u001b[0;32mif\u001b[0m \u001b[0;34m(\u001b[0m\u001b[0mcurrent_xethru_recording\u001b[0m\u001b[0;34m[\u001b[0m\u001b[0;34m'time'\u001b[0m\u001b[0;34m]\u001b[0m\u001b[0;34m.\u001b[0m\u001b[0miloc\u001b[0m\u001b[0;34m[\u001b[0m\u001b[0mx\u001b[0m\u001b[0;34m]\u001b[0m\u001b[0;34m)\u001b[0m \u001b[0;34m!=\u001b[0m \u001b[0;34m(\u001b[0m\u001b[0mcurrent_xethru_recording\u001b[0m\u001b[0;34m[\u001b[0m\u001b[0;34m'time'\u001b[0m\u001b[0;34m]\u001b[0m\u001b[0;34m.\u001b[0m\u001b[0miloc\u001b[0m\u001b[0;34m[\u001b[0m\u001b[0mx\u001b[0m\u001b[0;34m-\u001b[0m\u001b[0;36m1\u001b[0m\u001b[0;34m]\u001b[0m \u001b[0;34m+\u001b[0m \u001b[0mtimedelta\u001b[0m\u001b[0;34m(\u001b[0m\u001b[0mseconds\u001b[0m\u001b[0;34m=\u001b[0m\u001b[0;36m1\u001b[0m\u001b[0;34m)\u001b[0m\u001b[0;34m)\u001b[0m\u001b[0;34m:\u001b[0m\u001b[0;34m\u001b[0m\u001b[0;34m\u001b[0m\u001b[0m\n\u001b[0;32m---> 56\u001b[0;31m                 \u001b[0mtime_adjusted\u001b[0m \u001b[0;34m=\u001b[0m \u001b[0mcurrent_xethru_recording\u001b[0m\u001b[0;34m[\u001b[0m\u001b[0;34m'time'\u001b[0m\u001b[0;34m]\u001b[0m\u001b[0;34m.\u001b[0m\u001b[0miloc\u001b[0m\u001b[0;34m[\u001b[0m\u001b[0mx\u001b[0m\u001b[0;34m]\u001b[0m \u001b[0;34m+\u001b[0m \u001b[0mtimedelta\u001b[0m\u001b[0;34m(\u001b[0m\u001b[0mseconds\u001b[0m\u001b[0;34m=\u001b[0m\u001b[0;36m1\u001b[0m\u001b[0;34m)\u001b[0m\u001b[0;34m\u001b[0m\u001b[0;34m\u001b[0m\u001b[0m\n\u001b[0m\u001b[1;32m     57\u001b[0m                 \u001b[0mprev\u001b[0m \u001b[0;34m=\u001b[0m \u001b[0mstr\u001b[0m\u001b[0;34m(\u001b[0m\u001b[0mcurrent_xethru_recording\u001b[0m\u001b[0;34m[\u001b[0m\u001b[0;34m'time'\u001b[0m\u001b[0;34m]\u001b[0m\u001b[0;34m.\u001b[0m\u001b[0miloc\u001b[0m\u001b[0;34m[\u001b[0m\u001b[0mx\u001b[0m\u001b[0;34m]\u001b[0m\u001b[0;34m)\u001b[0m\u001b[0;34m\u001b[0m\u001b[0;34m\u001b[0m\u001b[0m\n\u001b[1;32m     58\u001b[0m                 \u001b[0mcurrent_xethru_recording\u001b[0m\u001b[0;34m[\u001b[0m\u001b[0;34m'time'\u001b[0m\u001b[0;34m]\u001b[0m\u001b[0;34m.\u001b[0m\u001b[0miloc\u001b[0m\u001b[0;34m[\u001b[0m\u001b[0mx\u001b[0m\u001b[0;34m]\u001b[0m \u001b[0;34m=\u001b[0m \u001b[0mtime_adjusted\u001b[0m\u001b[0;34m\u001b[0m\u001b[0;34m\u001b[0m\u001b[0m\n",
      "\u001b[0;31mKeyboardInterrupt\u001b[0m: "
     ]
    }
   ],
   "source": [
    "rootdir = '../Sleep Data/'\n",
    "sleep_profiles = []\n",
    "xethru_recordings = []\n",
    "\n",
    "for subdir, dirs, files in os.walk(rootdir):\n",
    "    subdir_split = subdir.split('/')\n",
    "    subdir_und = subdir_split[-1].split('_')\n",
    "    \n",
    "    current_xethru_recording = pd.DataFrame(columns=[\"time\", \"frame_count\", \"state\", \"rpm\", \"object_distance\", \n",
    "                                        \"signal_quality\", \"movement_slow\", \"movement_fast\"])\n",
    "    \n",
    "    isFirstFile = True   \n",
    "    \n",
    "    for file in files:        \n",
    "        if (file == 'Sleep profile.txt' ) & ('PSG_analysis_manual' in subdir_split):\n",
    "            start_time = ''\n",
    "            with open(os.path.join(subdir, file)) as f:\n",
    "                head = [next(f) for x in range(2)]\n",
    "                start_time = datetime.datetime.strptime(head[1][12:-1], '%d.%m.%Y %H:%M:%S')\n",
    "                \n",
    "            sleep_profile = pd.read_csv(os.path.join(subdir, file), sep=\";\", skiprows=7, header=None)\n",
    "            sleep_profile.columns = [\"time\", \"stage\"]\n",
    "            sleep_profile['time'] = sleep_profile['time'].apply(lambda x: str_to_time(x, start_time))\n",
    "            sleep_profiles.append(sleep_profile)\n",
    "        \n",
    "        file_split = file.split('_')\n",
    "        \n",
    "        if 'xethru' in file_split and 'sleep' in file_split and 'nattbord' in subdir_und:            \n",
    "            \n",
    "            xethru_recording = pd.read_csv(os.path.join(subdir, file), sep=\";\", skiprows=1, header=None)\n",
    "\n",
    "            xethru_recording.columns = [\"time\", \"frame_count\", \"state\", \"rpm\", \"object_distance\", \n",
    "                                        \"signal_quality\", \"movement_slow\", \"movement_fast\"]\n",
    "            \n",
    "            xethru_recording['time'] = xethru_recording['time'].apply(lambda x: round_time(x))\n",
    "            \n",
    "            start_timestamp = sleep_profiles[-1]['time'].iloc[0]\n",
    "            \n",
    "            if isFirstFile:\n",
    "                print(sleep_profiles[-1].shape)\n",
    "            \n",
    "            while xethru_recording['time'].iloc[0] >= start_timestamp and isFirstFile:                \n",
    "                sleep_profiles[-1] = sleep_profiles[-1].iloc[1:]                \n",
    "                start_timestamp = sleep_profiles[-1]['time'].iloc[0]\n",
    "            \n",
    "            if isFirstFile:\n",
    "                print(str(sleep_profiles[-1].shape) + '\\n')\n",
    "                                   \n",
    "            current_xethru_recording = current_xethru_recording.append(xethru_recording)\n",
    "                        \n",
    "            isFirstFile = False\n",
    "    \n",
    "    if len(current_xethru_recording) > 0:\n",
    "#         current_xethru_recording = current_xethru_recording.drop_duplicates('time', keep='first')\n",
    "        for x in range(1, current_xethru_recording.shape[0]):\n",
    "            if (current_xethru_recording['time'].iloc[x]) != (current_xethru_recording['time'].iloc[x-1] + timedelta(seconds=1)):\n",
    "                time_adjusted = current_xethru_recording['time'].iloc[x] + timedelta(seconds=1)\n",
    "                prev = str(current_xethru_recording['time'].iloc[x])\n",
    "                current_xethru_recording['time'].iloc[x] = time_adjusted\n",
    "                after = str(current_xethru_recording['time'].iloc[x])\n",
    "                \n",
    "                if(prev == after):\n",
    "                    print('Fault!', prev)\n",
    "\n",
    "#         for x in range(1, current_xethru_recording.shape[0]):\n",
    "#               if (current_xethru_recording['time'].iloc[x] == current_xethru_recording['time'].iloc[x-1] + timedelta(seconds=1)) != True:\n",
    "#                 print(subdir)\n",
    "#                 print('t1', current_xethru_recording['time'].iloc[x-1])\n",
    "#                 print('t2', str(current_xethru_recording['time'].iloc[x]) + '\\n')\n",
    "\n",
    "        start_timestamp = sleep_profiles[-1]['time'].iloc[0]\n",
    "        end_timestamp = sleep_profiles[-1]['time'].iloc[-1] + timedelta(seconds=29)\n",
    "        current_xethru_recording = current_xethru_recording[current_xethru_recording['time'].map(lambda x: start_timestamp <= x <= end_timestamp)]        \n",
    "        xethru_recordings.append(current_xethru_recording)"
   ]
  },
  {
   "cell_type": "code",
   "execution_count": 26,
   "metadata": {},
   "outputs": [],
   "source": [
    "all_xethru_recordings = pd.concat(xethru_recordings, ignore_index=True)\n",
    "all_sleep_profiles = pd.concat(sleep_profiles, ignore_index=True)"
   ]
  },
  {
   "cell_type": "code",
   "execution_count": 27,
   "metadata": {},
   "outputs": [
    {
     "ename": "ValueError",
     "evalue": "array split does not result in an equal division",
     "output_type": "error",
     "traceback": [
      "\u001b[0;31m---------------------------------------------------------------------------\u001b[0m",
      "\u001b[0;31mTypeError\u001b[0m                                 Traceback (most recent call last)",
      "\u001b[0;32m~/.local/lib/python3.7/site-packages/numpy/lib/shape_base.py\u001b[0m in \u001b[0;36msplit\u001b[0;34m(ary, indices_or_sections, axis)\u001b[0m\n\u001b[1;32m    842\u001b[0m     \u001b[0;32mtry\u001b[0m\u001b[0;34m:\u001b[0m\u001b[0;34m\u001b[0m\u001b[0;34m\u001b[0m\u001b[0m\n\u001b[0;32m--> 843\u001b[0;31m         \u001b[0mlen\u001b[0m\u001b[0;34m(\u001b[0m\u001b[0mindices_or_sections\u001b[0m\u001b[0;34m)\u001b[0m\u001b[0;34m\u001b[0m\u001b[0;34m\u001b[0m\u001b[0m\n\u001b[0m\u001b[1;32m    844\u001b[0m     \u001b[0;32mexcept\u001b[0m \u001b[0mTypeError\u001b[0m\u001b[0;34m:\u001b[0m\u001b[0;34m\u001b[0m\u001b[0;34m\u001b[0m\u001b[0m\n",
      "\u001b[0;31mTypeError\u001b[0m: object of type 'float' has no len()",
      "\nDuring handling of the above exception, another exception occurred:\n",
      "\u001b[0;31mValueError\u001b[0m                                Traceback (most recent call last)",
      "\u001b[0;32m<ipython-input-27-92271b95e58c>\u001b[0m in \u001b[0;36m<module>\u001b[0;34m\u001b[0m\n\u001b[1;32m      1\u001b[0m \u001b[0mxethru_numpy\u001b[0m \u001b[0;34m=\u001b[0m \u001b[0mnp\u001b[0m\u001b[0;34m.\u001b[0m\u001b[0marray\u001b[0m\u001b[0;34m(\u001b[0m\u001b[0mall_xethru_recordings\u001b[0m\u001b[0;34m[\u001b[0m\u001b[0;34m'rpm'\u001b[0m\u001b[0;34m]\u001b[0m\u001b[0;34m)\u001b[0m\u001b[0;34m\u001b[0m\u001b[0;34m\u001b[0m\u001b[0m\n\u001b[0;32m----> 2\u001b[0;31m \u001b[0mdata\u001b[0m \u001b[0;34m=\u001b[0m \u001b[0mnp\u001b[0m\u001b[0;34m.\u001b[0m\u001b[0marray\u001b[0m\u001b[0;34m(\u001b[0m\u001b[0mnp\u001b[0m\u001b[0;34m.\u001b[0m\u001b[0msplit\u001b[0m\u001b[0;34m(\u001b[0m\u001b[0mxethru_numpy\u001b[0m\u001b[0;34m,\u001b[0m \u001b[0mlen\u001b[0m\u001b[0;34m(\u001b[0m\u001b[0mxethru_numpy\u001b[0m\u001b[0;34m)\u001b[0m\u001b[0;34m/\u001b[0m\u001b[0;36m30\u001b[0m\u001b[0;34m)\u001b[0m\u001b[0;34m)\u001b[0m\u001b[0;34m\u001b[0m\u001b[0;34m\u001b[0m\u001b[0m\n\u001b[0m",
      "\u001b[0;32m~/.local/lib/python3.7/site-packages/numpy/lib/shape_base.py\u001b[0m in \u001b[0;36msplit\u001b[0;34m(ary, indices_or_sections, axis)\u001b[0m\n\u001b[1;32m    847\u001b[0m         \u001b[0;32mif\u001b[0m \u001b[0mN\u001b[0m \u001b[0;34m%\u001b[0m \u001b[0msections\u001b[0m\u001b[0;34m:\u001b[0m\u001b[0;34m\u001b[0m\u001b[0;34m\u001b[0m\u001b[0m\n\u001b[1;32m    848\u001b[0m             raise ValueError(\n\u001b[0;32m--> 849\u001b[0;31m                 'array split does not result in an equal division')\n\u001b[0m\u001b[1;32m    850\u001b[0m     \u001b[0mres\u001b[0m \u001b[0;34m=\u001b[0m \u001b[0marray_split\u001b[0m\u001b[0;34m(\u001b[0m\u001b[0mary\u001b[0m\u001b[0;34m,\u001b[0m \u001b[0mindices_or_sections\u001b[0m\u001b[0;34m,\u001b[0m \u001b[0maxis\u001b[0m\u001b[0;34m)\u001b[0m\u001b[0;34m\u001b[0m\u001b[0;34m\u001b[0m\u001b[0m\n\u001b[1;32m    851\u001b[0m     \u001b[0;32mreturn\u001b[0m \u001b[0mres\u001b[0m\u001b[0;34m\u001b[0m\u001b[0;34m\u001b[0m\u001b[0m\n",
      "\u001b[0;31mValueError\u001b[0m: array split does not result in an equal division"
     ]
    }
   ],
   "source": [
    "xethru_numpy = np.array(all_xethru_recordings['rpm'])\n",
    "data = np.array(np.split(xethru_numpy, len(xethru_numpy)/30))"
   ]
  },
  {
   "cell_type": "code",
   "execution_count": 28,
   "metadata": {},
   "outputs": [
    {
     "data": {
      "text/plain": [
       "540209"
      ]
     },
     "execution_count": 28,
     "metadata": {},
     "output_type": "execute_result"
    }
   ],
   "source": [
    "len(xethru_numpy)"
   ]
  },
  {
   "cell_type": "code",
   "execution_count": 29,
   "metadata": {},
   "outputs": [
    {
     "data": {
      "text/plain": [
       "Timestamp('2017-11-23 06:32:00')"
      ]
     },
     "execution_count": 29,
     "metadata": {},
     "output_type": "execute_result"
    }
   ],
   "source": [
    "sleep_profiles[2]['time'].iloc[-1]"
   ]
  },
  {
   "cell_type": "code",
   "execution_count": 30,
   "metadata": {},
   "outputs": [
    {
     "data": {
      "text/plain": [
       "Timestamp('2017-11-23 06:32:28.172000')"
      ]
     },
     "execution_count": 30,
     "metadata": {},
     "output_type": "execute_result"
    }
   ],
   "source": [
    "xethru_recordings[2]['time'].iloc[-1]"
   ]
  },
  {
   "cell_type": "code",
   "execution_count": 31,
   "metadata": {},
   "outputs": [
    {
     "data": {
      "text/plain": [
       "24704"
      ]
     },
     "execution_count": 31,
     "metadata": {},
     "output_type": "execute_result"
    }
   ],
   "source": [
    "len(xethru_recordings[0])"
   ]
  },
  {
   "cell_type": "code",
   "execution_count": 32,
   "metadata": {},
   "outputs": [
    {
     "data": {
      "text/plain": [
       "24630"
      ]
     },
     "execution_count": 32,
     "metadata": {},
     "output_type": "execute_result"
    }
   ],
   "source": [
    "len(sleep_profiles[0]) * 30"
   ]
  },
  {
   "cell_type": "code",
   "execution_count": null,
   "metadata": {},
   "outputs": [],
   "source": []
  }
 ],
 "metadata": {
  "kernelspec": {
   "display_name": "Python 3",
   "language": "python",
   "name": "python3"
  },
  "language_info": {
   "codemirror_mode": {
    "name": "ipython",
    "version": 3
   },
   "file_extension": ".py",
   "mimetype": "text/x-python",
   "name": "python",
   "nbconvert_exporter": "python",
   "pygments_lexer": "ipython3",
   "version": "3.7.3"
  }
 },
 "nbformat": 4,
 "nbformat_minor": 2
}

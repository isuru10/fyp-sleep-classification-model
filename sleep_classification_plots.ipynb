{
 "cells": [
  {
   "cell_type": "code",
   "execution_count": 2,
   "metadata": {},
   "outputs": [],
   "source": [
    "import datetime\n",
    "import math\n",
    "import numpy as np\n",
    "import matplotlib.pyplot as plt\n",
    "import os\n",
    "import pandas as pd\n",
    "from datetime import timedelta"
   ]
  },
  {
   "cell_type": "code",
   "execution_count": 3,
   "metadata": {},
   "outputs": [],
   "source": [
    "mid_night = datetime.datetime.strptime('23:59:59', '%H:%M:%S').time()\n",
    "noon = datetime.datetime.strptime('12:00:00', '%H:%M:%S').time()\n",
    "def str_to_time(x, start_time):\n",
    "    if noon < datetime.datetime.strptime(x[:-4], '%H:%M:%S').time() < mid_night:\n",
    "        return datetime.datetime.strptime(str(start_time.date()) + \" \" + x[:-4], '%Y-%m-%d %H:%M:%S')\n",
    "    else:\n",
    "        return datetime.datetime.strptime(str(start_time.date()) + \" \" + x[:-4], '%Y-%m-%d %H:%M:%S') + timedelta(days=1)"
   ]
  },
  {
   "cell_type": "code",
   "execution_count": 4,
   "metadata": {},
   "outputs": [],
   "source": [
    "def round_time(x):\n",
    "    timestamp = datetime.datetime.strptime(x[0:10] + \" \" + x[11:-6], '%Y-%m-%d %H:%M:%S.%f')\n",
    "    if timestamp.time().microsecond >= 500000:\n",
    "        return datetime.datetime.strptime(x[0:10] + \" \" + x[11:-10], '%Y-%m-%d %H:%M:%S') + timedelta(seconds=1)\n",
    "    else:\n",
    "        return datetime.datetime.strptime(x[0:10] + \" \" + x[11:-10], '%Y-%m-%d %H:%M:%S')\n",
    "    "
   ]
  },
  {
   "cell_type": "code",
   "execution_count": 5,
   "metadata": {},
   "outputs": [
    {
     "ename": "FileNotFoundError",
     "evalue": "[Errno 2] File b'../Sleep Data/101/PSG_analysis_manual/Sleep profile.txt' does not exist: b'../Sleep Data/101/PSG_analysis_manual/Sleep profile.txt'",
     "output_type": "error",
     "traceback": [
      "\u001b[0;31m---------------------------------------------------------------------------\u001b[0m",
      "\u001b[0;31mFileNotFoundError\u001b[0m                         Traceback (most recent call last)",
      "\u001b[0;32m<ipython-input-5-6158a71cd69d>\u001b[0m in \u001b[0;36m<module>\u001b[0;34m\u001b[0m\n\u001b[1;32m      1\u001b[0m sleep_profile = pd.read_csv(\"../Sleep Data/101/PSG_analysis_manual/Sleep profile.txt\", \n\u001b[0;32m----> 2\u001b[0;31m                    sep=\";\", skiprows=7, header=None)\n\u001b[0m\u001b[1;32m      3\u001b[0m \u001b[0;34m\u001b[0m\u001b[0m\n\u001b[1;32m      4\u001b[0m \u001b[0msleep_profile\u001b[0m\u001b[0;34m.\u001b[0m\u001b[0mcolumns\u001b[0m \u001b[0;34m=\u001b[0m \u001b[0;34m[\u001b[0m\u001b[0;34m\"time\"\u001b[0m\u001b[0;34m,\u001b[0m \u001b[0;34m\"stage\"\u001b[0m\u001b[0;34m]\u001b[0m\u001b[0;34m\u001b[0m\u001b[0;34m\u001b[0m\u001b[0m\n\u001b[1;32m      5\u001b[0m \u001b[0mprint\u001b[0m\u001b[0;34m(\u001b[0m\u001b[0msleep_profile\u001b[0m\u001b[0;34m.\u001b[0m\u001b[0mhead\u001b[0m\u001b[0;34m(\u001b[0m\u001b[0;34m)\u001b[0m\u001b[0;34m)\u001b[0m\u001b[0;34m\u001b[0m\u001b[0;34m\u001b[0m\u001b[0m\n",
      "\u001b[0;32m~/.local/lib/python3.7/site-packages/pandas/io/parsers.py\u001b[0m in \u001b[0;36mparser_f\u001b[0;34m(filepath_or_buffer, sep, delimiter, header, names, index_col, usecols, squeeze, prefix, mangle_dupe_cols, dtype, engine, converters, true_values, false_values, skipinitialspace, skiprows, skipfooter, nrows, na_values, keep_default_na, na_filter, verbose, skip_blank_lines, parse_dates, infer_datetime_format, keep_date_col, date_parser, dayfirst, iterator, chunksize, compression, thousands, decimal, lineterminator, quotechar, quoting, doublequote, escapechar, comment, encoding, dialect, tupleize_cols, error_bad_lines, warn_bad_lines, delim_whitespace, low_memory, memory_map, float_precision)\u001b[0m\n\u001b[1;32m    700\u001b[0m                     skip_blank_lines=skip_blank_lines)\n\u001b[1;32m    701\u001b[0m \u001b[0;34m\u001b[0m\u001b[0m\n\u001b[0;32m--> 702\u001b[0;31m         \u001b[0;32mreturn\u001b[0m \u001b[0m_read\u001b[0m\u001b[0;34m(\u001b[0m\u001b[0mfilepath_or_buffer\u001b[0m\u001b[0;34m,\u001b[0m \u001b[0mkwds\u001b[0m\u001b[0;34m)\u001b[0m\u001b[0;34m\u001b[0m\u001b[0;34m\u001b[0m\u001b[0m\n\u001b[0m\u001b[1;32m    703\u001b[0m \u001b[0;34m\u001b[0m\u001b[0m\n\u001b[1;32m    704\u001b[0m     \u001b[0mparser_f\u001b[0m\u001b[0;34m.\u001b[0m\u001b[0m__name__\u001b[0m \u001b[0;34m=\u001b[0m \u001b[0mname\u001b[0m\u001b[0;34m\u001b[0m\u001b[0;34m\u001b[0m\u001b[0m\n",
      "\u001b[0;32m~/.local/lib/python3.7/site-packages/pandas/io/parsers.py\u001b[0m in \u001b[0;36m_read\u001b[0;34m(filepath_or_buffer, kwds)\u001b[0m\n\u001b[1;32m    427\u001b[0m \u001b[0;34m\u001b[0m\u001b[0m\n\u001b[1;32m    428\u001b[0m     \u001b[0;31m# Create the parser.\u001b[0m\u001b[0;34m\u001b[0m\u001b[0;34m\u001b[0m\u001b[0;34m\u001b[0m\u001b[0m\n\u001b[0;32m--> 429\u001b[0;31m     \u001b[0mparser\u001b[0m \u001b[0;34m=\u001b[0m \u001b[0mTextFileReader\u001b[0m\u001b[0;34m(\u001b[0m\u001b[0mfilepath_or_buffer\u001b[0m\u001b[0;34m,\u001b[0m \u001b[0;34m**\u001b[0m\u001b[0mkwds\u001b[0m\u001b[0;34m)\u001b[0m\u001b[0;34m\u001b[0m\u001b[0;34m\u001b[0m\u001b[0m\n\u001b[0m\u001b[1;32m    430\u001b[0m \u001b[0;34m\u001b[0m\u001b[0m\n\u001b[1;32m    431\u001b[0m     \u001b[0;32mif\u001b[0m \u001b[0mchunksize\u001b[0m \u001b[0;32mor\u001b[0m \u001b[0miterator\u001b[0m\u001b[0;34m:\u001b[0m\u001b[0;34m\u001b[0m\u001b[0;34m\u001b[0m\u001b[0m\n",
      "\u001b[0;32m~/.local/lib/python3.7/site-packages/pandas/io/parsers.py\u001b[0m in \u001b[0;36m__init__\u001b[0;34m(self, f, engine, **kwds)\u001b[0m\n\u001b[1;32m    893\u001b[0m             \u001b[0mself\u001b[0m\u001b[0;34m.\u001b[0m\u001b[0moptions\u001b[0m\u001b[0;34m[\u001b[0m\u001b[0;34m'has_index_names'\u001b[0m\u001b[0;34m]\u001b[0m \u001b[0;34m=\u001b[0m \u001b[0mkwds\u001b[0m\u001b[0;34m[\u001b[0m\u001b[0;34m'has_index_names'\u001b[0m\u001b[0;34m]\u001b[0m\u001b[0;34m\u001b[0m\u001b[0;34m\u001b[0m\u001b[0m\n\u001b[1;32m    894\u001b[0m \u001b[0;34m\u001b[0m\u001b[0m\n\u001b[0;32m--> 895\u001b[0;31m         \u001b[0mself\u001b[0m\u001b[0;34m.\u001b[0m\u001b[0m_make_engine\u001b[0m\u001b[0;34m(\u001b[0m\u001b[0mself\u001b[0m\u001b[0;34m.\u001b[0m\u001b[0mengine\u001b[0m\u001b[0;34m)\u001b[0m\u001b[0;34m\u001b[0m\u001b[0;34m\u001b[0m\u001b[0m\n\u001b[0m\u001b[1;32m    896\u001b[0m \u001b[0;34m\u001b[0m\u001b[0m\n\u001b[1;32m    897\u001b[0m     \u001b[0;32mdef\u001b[0m \u001b[0mclose\u001b[0m\u001b[0;34m(\u001b[0m\u001b[0mself\u001b[0m\u001b[0;34m)\u001b[0m\u001b[0;34m:\u001b[0m\u001b[0;34m\u001b[0m\u001b[0;34m\u001b[0m\u001b[0m\n",
      "\u001b[0;32m~/.local/lib/python3.7/site-packages/pandas/io/parsers.py\u001b[0m in \u001b[0;36m_make_engine\u001b[0;34m(self, engine)\u001b[0m\n\u001b[1;32m   1120\u001b[0m     \u001b[0;32mdef\u001b[0m \u001b[0m_make_engine\u001b[0m\u001b[0;34m(\u001b[0m\u001b[0mself\u001b[0m\u001b[0;34m,\u001b[0m \u001b[0mengine\u001b[0m\u001b[0;34m=\u001b[0m\u001b[0;34m'c'\u001b[0m\u001b[0;34m)\u001b[0m\u001b[0;34m:\u001b[0m\u001b[0;34m\u001b[0m\u001b[0;34m\u001b[0m\u001b[0m\n\u001b[1;32m   1121\u001b[0m         \u001b[0;32mif\u001b[0m \u001b[0mengine\u001b[0m \u001b[0;34m==\u001b[0m \u001b[0;34m'c'\u001b[0m\u001b[0;34m:\u001b[0m\u001b[0;34m\u001b[0m\u001b[0;34m\u001b[0m\u001b[0m\n\u001b[0;32m-> 1122\u001b[0;31m             \u001b[0mself\u001b[0m\u001b[0;34m.\u001b[0m\u001b[0m_engine\u001b[0m \u001b[0;34m=\u001b[0m \u001b[0mCParserWrapper\u001b[0m\u001b[0;34m(\u001b[0m\u001b[0mself\u001b[0m\u001b[0;34m.\u001b[0m\u001b[0mf\u001b[0m\u001b[0;34m,\u001b[0m \u001b[0;34m**\u001b[0m\u001b[0mself\u001b[0m\u001b[0;34m.\u001b[0m\u001b[0moptions\u001b[0m\u001b[0;34m)\u001b[0m\u001b[0;34m\u001b[0m\u001b[0;34m\u001b[0m\u001b[0m\n\u001b[0m\u001b[1;32m   1123\u001b[0m         \u001b[0;32melse\u001b[0m\u001b[0;34m:\u001b[0m\u001b[0;34m\u001b[0m\u001b[0;34m\u001b[0m\u001b[0m\n\u001b[1;32m   1124\u001b[0m             \u001b[0;32mif\u001b[0m \u001b[0mengine\u001b[0m \u001b[0;34m==\u001b[0m \u001b[0;34m'python'\u001b[0m\u001b[0;34m:\u001b[0m\u001b[0;34m\u001b[0m\u001b[0;34m\u001b[0m\u001b[0m\n",
      "\u001b[0;32m~/.local/lib/python3.7/site-packages/pandas/io/parsers.py\u001b[0m in \u001b[0;36m__init__\u001b[0;34m(self, src, **kwds)\u001b[0m\n\u001b[1;32m   1851\u001b[0m         \u001b[0mkwds\u001b[0m\u001b[0;34m[\u001b[0m\u001b[0;34m'usecols'\u001b[0m\u001b[0;34m]\u001b[0m \u001b[0;34m=\u001b[0m \u001b[0mself\u001b[0m\u001b[0;34m.\u001b[0m\u001b[0musecols\u001b[0m\u001b[0;34m\u001b[0m\u001b[0;34m\u001b[0m\u001b[0m\n\u001b[1;32m   1852\u001b[0m \u001b[0;34m\u001b[0m\u001b[0m\n\u001b[0;32m-> 1853\u001b[0;31m         \u001b[0mself\u001b[0m\u001b[0;34m.\u001b[0m\u001b[0m_reader\u001b[0m \u001b[0;34m=\u001b[0m \u001b[0mparsers\u001b[0m\u001b[0;34m.\u001b[0m\u001b[0mTextReader\u001b[0m\u001b[0;34m(\u001b[0m\u001b[0msrc\u001b[0m\u001b[0;34m,\u001b[0m \u001b[0;34m**\u001b[0m\u001b[0mkwds\u001b[0m\u001b[0;34m)\u001b[0m\u001b[0;34m\u001b[0m\u001b[0;34m\u001b[0m\u001b[0m\n\u001b[0m\u001b[1;32m   1854\u001b[0m         \u001b[0mself\u001b[0m\u001b[0;34m.\u001b[0m\u001b[0munnamed_cols\u001b[0m \u001b[0;34m=\u001b[0m \u001b[0mself\u001b[0m\u001b[0;34m.\u001b[0m\u001b[0m_reader\u001b[0m\u001b[0;34m.\u001b[0m\u001b[0munnamed_cols\u001b[0m\u001b[0;34m\u001b[0m\u001b[0;34m\u001b[0m\u001b[0m\n\u001b[1;32m   1855\u001b[0m \u001b[0;34m\u001b[0m\u001b[0m\n",
      "\u001b[0;32mpandas/_libs/parsers.pyx\u001b[0m in \u001b[0;36mpandas._libs.parsers.TextReader.__cinit__\u001b[0;34m()\u001b[0m\n",
      "\u001b[0;32mpandas/_libs/parsers.pyx\u001b[0m in \u001b[0;36mpandas._libs.parsers.TextReader._setup_parser_source\u001b[0;34m()\u001b[0m\n",
      "\u001b[0;31mFileNotFoundError\u001b[0m: [Errno 2] File b'../Sleep Data/101/PSG_analysis_manual/Sleep profile.txt' does not exist: b'../Sleep Data/101/PSG_analysis_manual/Sleep profile.txt'"
     ]
    }
   ],
   "source": [
    "sleep_profile = pd.read_csv(\"../Sleep Data/101/PSG_analysis_manual/Sleep profile.txt\", \n",
    "                   sep=\";\", skiprows=7, header=None)\n",
    "\n",
    "sleep_profile.columns = [\"time\", \"stage\"]\n",
    "print(sleep_profile.head())"
   ]
  },
  {
   "cell_type": "code",
   "execution_count": null,
   "metadata": {},
   "outputs": [],
   "source": [
    "start_time = \"\"\n",
    "with open(\"XeThru Dataset/101/PSG_analysis_manual/Sleep profile.txt\") as f:\n",
    "    head = [next(f) for x in range(2)]\n",
    "    start_time = datetime.datetime.strptime(head[1][12:-1], '%d.%m.%Y %H:%M:%S')"
   ]
  },
  {
   "cell_type": "code",
   "execution_count": null,
   "metadata": {},
   "outputs": [],
   "source": [
    "timestamps = sleep_profile['time'].apply(lambda x: str_to_time(x,start_time))"
   ]
  },
  {
   "cell_type": "code",
   "execution_count": null,
   "metadata": {},
   "outputs": [],
   "source": [
    "sleep_profile.drop(columns=\"time\")\n",
    "sleep_profile['time'] = timestamps"
   ]
  },
  {
   "cell_type": "code",
   "execution_count": null,
   "metadata": {},
   "outputs": [],
   "source": [
    "xethru_recording = pd.read_csv(\"XeThru Dataset/101/xethru_recording_20171122_231439_x4m200_17FPS_P101_nattbord_100000010083/xethru_sleep_20171122_231440.csv\", \n",
    "                   sep=\";\", skiprows=1, header=None)\n",
    "\n",
    "xethru_recording.columns = [\"time\", \"frame_count\", \"state\", \"rpm\", \"object_distance\", \"signal_quality\", \"movement_slow\", \"movement_fast\"]"
   ]
  },
  {
   "cell_type": "code",
   "execution_count": null,
   "metadata": {},
   "outputs": [],
   "source": [
    "xethru_recording['time'] = xethru_recording['time'].apply(lambda x: round_time(x))\n",
    "\n",
    "# xethru_recording['time'] = xethru_recording['time'].apply(lambda x: datetime.datetime.strptime(x[0:10] + \" \" + x[11:-10], '%Y-%m-%d %H:%M:%S'))"
   ]
  },
  {
   "cell_type": "code",
   "execution_count": null,
   "metadata": {},
   "outputs": [],
   "source": [
    "# end_timestamp = sleep_profile['time'].iloc[-1] + timedelta(seconds=29)"
   ]
  },
  {
   "cell_type": "code",
   "execution_count": 10,
   "metadata": {},
   "outputs": [],
   "source": [
    "# start_timestamp = sleep_profile['time'].iloc[0]\n",
    "start_timestamp = sleep_profiles[-1]['time'].iloc[0]\n",
    "end_timestamp = sleep_profiles[-1]['time'].iloc[-1]\n",
    "        \n",
    "xethru_recording = xethru_recording[xethru_recording['time'].map(lambda x: start_timestamp <= x <= end_timestamp)]"
   ]
  },
  {
   "cell_type": "code",
   "execution_count": 11,
   "metadata": {},
   "outputs": [],
   "source": [
    "xethru_recording_2 = pd.read_csv(\"XeThru Dataset/101/xethru_recording_20171122_231439_x4m200_17FPS_P101_nattbord_100000010083/xethru_sleep_20171123_001440.csv\", \n",
    "                   sep=\";\", skiprows=1, header=None)\n",
    "\n",
    "xethru_recording_2.columns = [\"time\", \"frame_count\", \"state\", \"rpm\", \"object_distance\", \"signal_quality\", \"movement_slow\", \"movement_fast\"]\n",
    "\n",
    "xethru_recording_2['time'] = xethru_recording_2['time'].apply(lambda x: datetime.datetime.strptime(x[0:10] + \" \" + x[11:-10], '%Y-%m-%d %H:%M:%S'))\n",
    "\n",
    "xethru_recording_2 = xethru_recording_2[xethru_recording_2['time'].map(lambda x: start_timestamp <= x <= end_timestamp)]"
   ]
  },
  {
   "cell_type": "code",
   "execution_count": 12,
   "metadata": {},
   "outputs": [],
   "source": [
    "xethru_recording_3 = pd.read_csv(\"XeThru Dataset/101/xethru_recording_20171122_231439_x4m200_17FPS_P101_nattbord_100000010083/xethru_sleep_20171123_011441.csv\", \n",
    "                   sep=\";\", skiprows=1, header=None)\n",
    "\n",
    "xethru_recording_3.columns = [\"time\", \"frame_count\", \"state\", \"rpm\", \"object_distance\", \"signal_quality\", \"movement_slow\", \"movement_fast\"]\n",
    "\n",
    "xethru_recording_3['time'] = xethru_recording_3['time'].apply(lambda x: datetime.datetime.strptime(x[0:10] + \" \" + x[11:-10], '%Y-%m-%d %H:%M:%S'))\n",
    "\n",
    "xethru_recording_3 = xethru_recording_3[xethru_recording_3['time'].map(lambda x: start_timestamp <= x <= end_timestamp)]"
   ]
  },
  {
   "cell_type": "code",
   "execution_count": 13,
   "metadata": {},
   "outputs": [],
   "source": [
    "xethru_recording_4 = pd.read_csv(\"XeThru Dataset/101/xethru_recording_20171122_231439_x4m200_17FPS_P101_nattbord_100000010083/xethru_sleep_20171123_021442.csv\", \n",
    "                   sep=\";\", skiprows=1, header=None)\n",
    "\n",
    "xethru_recording_4.columns = [\"time\", \"frame_count\", \"state\", \"rpm\", \"object_distance\", \"signal_quality\", \"movement_slow\", \"movement_fast\"]\n",
    "\n",
    "xethru_recording_4['time'] = xethru_recording_4['time'].apply(lambda x: datetime.datetime.strptime(x[0:10] + \" \" + x[11:-10], '%Y-%m-%d %H:%M:%S'))\n",
    "\n",
    "xethru_recording_4 = xethru_recording_4[xethru_recording_4['time'].map(lambda x: start_timestamp <= x <= end_timestamp)]"
   ]
  },
  {
   "cell_type": "code",
   "execution_count": 14,
   "metadata": {},
   "outputs": [],
   "source": [
    "xethru_recording_5 = pd.read_csv(\"XeThru Dataset/101/xethru_recording_20171122_231439_x4m200_17FPS_P101_nattbord_100000010083/xethru_sleep_20171123_031443.csv\", \n",
    "                   sep=\";\", skiprows=1, header=None)\n",
    "\n",
    "xethru_recording_5.columns = [\"time\", \"frame_count\", \"state\", \"rpm\", \"object_distance\", \"signal_quality\", \"movement_slow\", \"movement_fast\"]\n",
    "\n",
    "xethru_recording_5['time'] = xethru_recording_5['time'].apply(lambda x: datetime.datetime.strptime(x[0:10] + \" \" + x[11:-10], '%Y-%m-%d %H:%M:%S'))\n",
    "\n",
    "xethru_recording_5 = xethru_recording_5[xethru_recording_5['time'].map(lambda x: start_timestamp <= x <= end_timestamp)]"
   ]
  },
  {
   "cell_type": "code",
   "execution_count": 15,
   "metadata": {},
   "outputs": [],
   "source": [
    "xethru_recording_6 = pd.read_csv(\"XeThru Dataset/101/xethru_recording_20171122_231439_x4m200_17FPS_P101_nattbord_100000010083/xethru_sleep_20171123_041444.csv\", \n",
    "                   sep=\";\", skiprows=1, header=None)\n",
    "\n",
    "xethru_recording_6.columns = [\"time\", \"frame_count\", \"state\", \"rpm\", \"object_distance\", \"signal_quality\", \"movement_slow\", \"movement_fast\"]\n",
    "\n",
    "xethru_recording_6['time'] = xethru_recording_6['time'].apply(lambda x: datetime.datetime.strptime(x[0:10] + \" \" + x[11:-10], '%Y-%m-%d %H:%M:%S'))\n",
    "\n",
    "xethru_recording_6 = xethru_recording_6[xethru_recording_6['time'].map(lambda x: start_timestamp <= x <= end_timestamp)]"
   ]
  },
  {
   "cell_type": "code",
   "execution_count": 16,
   "metadata": {},
   "outputs": [],
   "source": [
    "xethru_recording_7 = pd.read_csv(\"XeThru Dataset/101/xethru_recording_20171122_231439_x4m200_17FPS_P101_nattbord_100000010083/xethru_sleep_20171123_051445.csv\", \n",
    "                   sep=\";\", skiprows=1, header=None)\n",
    "\n",
    "xethru_recording_7.columns = [\"time\", \"frame_count\", \"state\", \"rpm\", \"object_distance\", \"signal_quality\", \"movement_slow\", \"movement_fast\"]\n",
    "\n",
    "xethru_recording_7['time'] = xethru_recording_7['time'].apply(lambda x: datetime.datetime.strptime(x[0:10] + \" \" + x[11:-10], '%Y-%m-%d %H:%M:%S'))\n",
    "\n",
    "xethru_recording_7 = xethru_recording_7[xethru_recording_7['time'].map(lambda x: start_timestamp <= x <= end_timestamp)]"
   ]
  },
  {
   "cell_type": "code",
   "execution_count": 17,
   "metadata": {},
   "outputs": [],
   "source": [
    "xethru_recording_8 = pd.read_csv(\"XeThru Dataset/101/xethru_recording_20171122_231439_x4m200_17FPS_P101_nattbord_100000010083/xethru_sleep_20171123_061446.csv\", \n",
    "                   sep=\";\", skiprows=1, header=None)\n",
    "\n",
    "xethru_recording_8.columns = [\"time\", \"frame_count\", \"state\", \"rpm\", \"object_distance\", \"signal_quality\", \"movement_slow\", \"movement_fast\"]\n",
    "\n",
    "xethru_recording_8['time'] = xethru_recording_8['time'].apply(lambda x: datetime.datetime.strptime(x[0:10] + \" \" + x[11:-10], '%Y-%m-%d %H:%M:%S'))\n",
    "\n",
    "xethru_recording_8 = xethru_recording_8[xethru_recording_8['time'].map(lambda x: start_timestamp <= x <= end_timestamp)]"
   ]
  },
  {
   "cell_type": "code",
   "execution_count": 18,
   "metadata": {},
   "outputs": [],
   "source": [
    "xethru_recording_9 = pd.read_csv(\"XeThru Dataset/101/xethru_recording_20171122_231439_x4m200_17FPS_P101_nattbord_100000010083/xethru_sleep_20171123_071447.csv\", \n",
    "                   sep=\";\", skiprows=1, header=None)\n",
    "\n",
    "xethru_recording_9.columns = [\"time\", \"frame_count\", \"state\", \"rpm\", \"object_distance\", \"signal_quality\", \"movement_slow\", \"movement_fast\"]\n",
    "\n",
    "xethru_recording_9['time'] = xethru_recording_9['time'].apply(lambda x: datetime.datetime.strptime(x[0:10] + \" \" + x[11:-10], '%Y-%m-%d %H:%M:%S'))\n",
    "\n",
    "xethru_recording_9 = xethru_recording_9[xethru_recording_9['time'].map(lambda x: start_timestamp <= x <= end_timestamp)]"
   ]
  },
  {
   "cell_type": "code",
   "execution_count": 19,
   "metadata": {},
   "outputs": [],
   "source": [
    "all_xethru_recordings = pd.concat([xethru_recording, xethru_recording_2, xethru_recording_3, \n",
    "                                   xethru_recording_4, xethru_recording_5, xethru_recording_6, \n",
    "                                   xethru_recording_7, xethru_recording_8, xethru_recording_9], axis=0)\n",
    "\n",
    "all_xethru_recordings = all_xethru_recordings.drop_duplicates('time')"
   ]
  },
  {
   "cell_type": "code",
   "execution_count": 20,
   "metadata": {},
   "outputs": [],
   "source": [
    "xethru_numpy = all_xethru_recordings['rpm'].to_numpy()\n",
    "xethru_numpy_movement = all_xethru_recordings['movement_slow'].to_numpy()\n",
    "xethru_numpy_objectDist = all_xethru_recordings['object_distance'].to_numpy()\n",
    "\n",
    "# xethru_numpy = np.resize(xethru_numpy, xethru_numpy.size - (len(xethru_numpy) - math.floor(len(xethru_numpy)/30)*30))\n",
    "xethru_numpy = np.array(xethru_numpy)\n",
    "xethru_numpy_movement = np.array(xethru_numpy_movement)\n",
    "xethru_numpy_objectDist = np.array(xethru_numpy_objectDist)"
   ]
  },
  {
   "cell_type": "code",
   "execution_count": 21,
   "metadata": {},
   "outputs": [
    {
     "data": {
      "text/plain": [
       "24630"
      ]
     },
     "execution_count": 21,
     "metadata": {},
     "output_type": "execute_result"
    }
   ],
   "source": [
    "len(xethru_numpy)\n",
    "len(xethru_numpy_movement)"
   ]
  },
  {
   "cell_type": "code",
   "execution_count": 22,
   "metadata": {},
   "outputs": [],
   "source": [
    "data = np.array(np.split(xethru_numpy, math.floor(len(xethru_numpy)/30)))\n",
    "data_movement = np.array(np.split(xethru_numpy_movement, math.floor(len(xethru_numpy_movement)/30)))\n",
    "data_objDist = np.array(np.split(xethru_numpy_objectDist, math.floor(len(xethru_numpy_objectDist)/30)))"
   ]
  },
  {
   "cell_type": "code",
   "execution_count": 23,
   "metadata": {},
   "outputs": [],
   "source": [
    "labels = np.array(sleep_profile['stage'].to_numpy())\n",
    "np.place(labels, labels==' Wake', [0])\n",
    "np.place(labels, labels==' N1', [1])\n",
    "np.place(labels, labels==' N2', [2])\n",
    "np.place(labels, labels==' N3', [3])\n",
    "np.place(labels, labels==' REM', [4])"
   ]
  },
  {
   "cell_type": "code",
   "execution_count": 1,
   "metadata": {},
   "outputs": [
    {
     "ename": "NameError",
     "evalue": "name 'plt' is not defined",
     "output_type": "error",
     "traceback": [
      "\u001b[0;31m---------------------------------------------------------------------------\u001b[0m",
      "\u001b[0;31mNameError\u001b[0m                                 Traceback (most recent call last)",
      "\u001b[0;32m<ipython-input-1-ce53f9c9fa9a>\u001b[0m in \u001b[0;36m<module>\u001b[0;34m\u001b[0m\n\u001b[1;32m      4\u001b[0m \u001b[0;34m\u001b[0m\u001b[0m\n\u001b[1;32m      5\u001b[0m \u001b[0;34m\u001b[0m\u001b[0m\n\u001b[0;32m----> 6\u001b[0;31m \u001b[0mfig\u001b[0m\u001b[0;34m,\u001b[0m \u001b[0maxes\u001b[0m \u001b[0;34m=\u001b[0m \u001b[0mplt\u001b[0m\u001b[0;34m.\u001b[0m\u001b[0msubplots\u001b[0m\u001b[0;34m(\u001b[0m\u001b[0;36m1\u001b[0m\u001b[0;34m,\u001b[0m \u001b[0;36m2\u001b[0m\u001b[0;34m,\u001b[0m \u001b[0mfigsize\u001b[0m\u001b[0;34m=\u001b[0m\u001b[0;34m(\u001b[0m\u001b[0;36m20\u001b[0m\u001b[0;34m,\u001b[0m \u001b[0;36m16\u001b[0m\u001b[0;34m)\u001b[0m\u001b[0;34m)\u001b[0m\u001b[0;34m\u001b[0m\u001b[0;34m\u001b[0m\u001b[0m\n\u001b[0m\u001b[1;32m      7\u001b[0m \u001b[0;34m\u001b[0m\u001b[0m\n\u001b[1;32m      8\u001b[0m \u001b[0;32mfor\u001b[0m \u001b[0mi\u001b[0m \u001b[0;32min\u001b[0m \u001b[0mrange\u001b[0m\u001b[0;34m(\u001b[0m\u001b[0;36m40\u001b[0m\u001b[0;34m,\u001b[0m\u001b[0;36m41\u001b[0m\u001b[0;34m)\u001b[0m\u001b[0;34m:\u001b[0m\u001b[0;34m\u001b[0m\u001b[0;34m\u001b[0m\u001b[0m\n",
      "\u001b[0;31mNameError\u001b[0m: name 'plt' is not defined"
     ]
    }
   ],
   "source": [
    "def autocorr(x):\n",
    "    result = np.correlate(x, x, mode='same')\n",
    "    return result\n",
    "\n",
    "\n",
    "fig, axes = plt.subplots(1, 2, figsize=(20, 16))\n",
    "    \n",
    "for i in range(40,41):\n",
    "#     z = autocorr(data[i])\n",
    " \n",
    "#     fig, axes = plt.subplots(1, 2, figsize=(12, 4))\n",
    "    axes[0].plot(data[i], '-o' + 'k',label=labels[i])\n",
    "    axes[0].set_title(\"RPM\")\n",
    "    axes[0].legend()\n",
    "    \n",
    "#     axes[0].plot(data[i], '-o' + 'k',label=\"Breathing\")\n",
    "#     axes[0].set_title(labels[i])\n",
    "#     axes[0].legend()\n",
    "    \n",
    "\n",
    "#     axes[1].plot(data_objDist[i], '-o' + 'k',label=\"Object Dist\")\n",
    "#     axes[1].set_title(labels[i])\n",
    "#     axes[1].legend()\n",
    "    \n",
    "#     #Autocorrelation.\n",
    "#     axes[2].plot(z / float(z.max()), '-' + 'k', label='Breathing')\n",
    "#     axes[2].legend()\n",
    "#     axes[2].set_title(\"Autocorrelation\")\n",
    "    \n",
    "#     z = autocorr(data_movement[i])\n",
    "    \n",
    "    axes[1].plot(data_movement[i], '-o' + 'k',label=labels[i])\n",
    "    axes[1].set_title(\"Movement\")\n",
    "    axes[1].legend()\n",
    "\n",
    "#     #Autocorrelation.\n",
    "#     axes[1].plot(z / float(z.max()), '-' + 'y', label='Movement')\n",
    "#     axes[1].legend()\n",
    "#     axes[1].set_title(\"Autocorrelation\")\n",
    "   \n",
    "# fig, axes = plt.subplots(1, 2, figsize=(12, 4))\n",
    "    \n",
    "for i in range(100,101):\n",
    "#     z = autocorr(data[i])\n",
    " \n",
    "#     fig, axes = plt.subplots(1, 2, figsize=(12, 4))\n",
    "    axes[0].plot(data[i], '-o' + 'y',label=labels[i])\n",
    "    axes[0].set_title(\"RPM\")\n",
    "    axes[0].legend()\n",
    "    \n",
    "    axes[1].plot(data_movement[i], '-o' + 'y',label=labels[i])\n",
    "    axes[1].set_title(\"Movement\")\n",
    "    axes[1].legend()\n",
    "\n",
    "    \n",
    "# fig, axes = plt.subplots(1, 2, figsize=(12, 4))\n",
    "\n",
    "for i in range(156,157):\n",
    "#     z = autocorr(data[i])\n",
    " \n",
    "#     fig, axes = plt.subplots(1, 2, figsize=(12, 4))\n",
    "    axes[0].plot(data[i], '-o' + 'b',label=labels[i])\n",
    "    axes[0].set_title(\"RPM\")\n",
    "    axes[0].legend()\n",
    "    \n",
    "    axes[1].plot(data_movement[i], '-o' + 'b',label=labels[i])\n",
    "    axes[1].set_title(\"Movement\")\n",
    "    axes[1].legend()\n",
    "    \n",
    "# fig, axes = plt.subplots(1, 2, figsize=(12, 4))\n",
    "\n",
    "for i in range(616,617):\n",
    "#     z = autocorr(data[i])\n",
    " \n",
    "#     fig, axes = plt.subplots(1, 2, figsize=(12, 4))\n",
    "    axes[0].plot(data[i], '-o' + 'g',label=labels[i])\n",
    "    axes[0].set_title(\"RPM\")\n",
    "    axes[0].legend()\n",
    "    \n",
    "    axes[1].plot(data_movement[i], '-o' + 'g',label=labels[i])\n",
    "    axes[1].set_title(\"Movement\")\n",
    "    axes[1].legend()\n",
    "    \n",
    "\n",
    "# fig, axes = plt.subplots(1, 2, figsize=(12, 4))\n",
    "\n",
    "\n",
    "for i in range(11,12):\n",
    "#     z = autocorr(data[i])\n",
    " \n",
    "#     fig, axes = plt.subplots(1, 2, figsize=(12, 4))\n",
    "    axes[0].plot(data[i], '-o' + 'c',label=labels[i])\n",
    "    axes[0].set_title(\"RPM\")\n",
    "    axes[0].legend()\n",
    "    \n",
    "    axes[1].plot(data_movement[i], '-o' + 'c',label=labels[i])\n",
    "    axes[1].set_title(\"Movement\")\n",
    "    axes[1].legend()\n",
    "    "
   ]
  },
  {
   "cell_type": "code",
   "execution_count": 54,
   "metadata": {},
   "outputs": [
    {
     "name": "stdout",
     "output_type": "stream",
     "text": [
      "[0 0 0 0 0 0 0 0 0 1 1 0 0 0 0 0 0 0 0 1 1 0 0 0 0 0 0 0 0 1 4 4 4 4 4 4 4\n",
      " 4 4 4 4 4 4 4 4 4 4 4 4 4 4 4 4 4 4 4 4 4 4 2 2 2 2 2 2 2 2 2 2 3 3 3 3 3\n",
      " 3 3 3 3 3 3 3 3 3 3 3 3 3 3 3 3 3 3 3 3 3 3 3 3 3 3 3 3 3 3 3 3 3 3 3 3 3\n",
      " 3 3 3 3 3 3 3 3 3 3 3 3 3 3 3 3 3 3 3 3 3 3 3 3 3 3 3 3 3 3 3 3 3 3 3 3 3\n",
      " 3 2 3 2 2 3 2 2 2 2 2 2 2 3 3 3 2 2 2 4 4 4 4 4 2 2 2 2 1 0 0 2 2 2 2 2 2\n",
      " 2 2 2 2 2 2 2 2 0 0 0 0 2 2 2 2 2 2 1 2 2 2 2 2 2 2 2 2 2 2 2 2 2 3 3 2 3\n",
      " 3 3 3 3 3 3 3 3 3 3 3 3 3 3 3 3 3 3 3 3 3 3 3 3 3 3 3 3 3 3 3 3 3 2 3 3 3\n",
      " 3 3 2 3 3 3 3 3 3 3 3 3 3 3 3 3 3 3 3 3 3 3 3 3 2 2 2 3 3 3 3 3 3 3 3 3 3\n",
      " 3 3 3 3 3 3 3 3 3 3 3 3 0 3 2 1 2 2 0 0 1 2 2 2 3 4 4 4 4 4 4 4 4 4 4 4 4\n",
      " 4 4 4 4 4 4 4 4 4 4 0 4 4 4 4 4 4 4 4 4 4 4 4 4 4 4 4 4 4 4 4 4 4 4 4 4 4\n",
      " 4 4 4 4 4 4 4 4 4 4 4 4 4 4 1 1 2 2 2 2 2 2 2 2 2 2 2 2 2 2 2 2 0 0 0 1 1\n",
      " 2 2 2 2 2 2 2 2 2 2 2 2 2 2 2 2 2 2 3 2 3 2 3 3 2 3 3 3 3 3 3 3 3 3 3 3 3\n",
      " 3 3 3 3 3 3 3 3 3 3 3 3 3 3 3 3 3 3 3 3 3 3 3 3 3 3 3 3 3 3 3 3 3 3 3 3 3\n",
      " 3 3 3 3 3 3 3 3 3 3 3 3 3 3 3 3 3 3 3 3 3 3 3 3 3 3 3 3 3 3 3 3 3 3 3 3 3\n",
      " 3 3 3 3 2 2 2 3 2 2 2 3 2 3 3 2 2 2 2 2 2 4 4 4 4 4 4 4 4 4 4 2 2 2 0 0 0\n",
      " 0 0 0 1 1 2 2 2 2 2 2 2 2 2 2 0 0 1 2 2 2 2 2 2 2 2 2 0 1 1 2 2 2 2 2 2 0\n",
      " 1 2 2 2 2 2 2 2 0 1 0 1 1 1 2 2 2 2 2 0 0 0 0 0 1 1 1 2 2 2 1 1 0 1 2 2 2\n",
      " 2 2 2 2 2 2 0 0 0 1 2 2 2 2 2 2 4 4 4 4 4 4 4 4 4 4 4 4 4 4 4 4 4 4 4 4 4\n",
      " 4 4 4 4 4 4 4 4 4 4 4 4 4 4 4 4 4 4 4 4 4 4 0 4 4 4 4 4 4 4 4 4 4 4 4 4 4\n",
      " 0 0 1 1 1 1 1 1 1 1 1 1 1 1 1 1 1 1 1 1 2 2 2 2 2 2 1 1 2 2 2 2 2 2 2 2 2\n",
      " 2 2 2 2 2 2 2 2 2 0 0 1 1 2 2 2 2 2 2 2 2 2 2 2 2 2 2 2 2 2 2 2 2 2 2 2 2\n",
      " 2 0 1 2 2 2 2 2 2 2 2 2 2 2 2 2 2 2 3 2 2 2 2 2 2 0 0 1 1 2 2 2 2 2 2 2 2\n",
      " 2 0 0 0 0 0 2]\n"
     ]
    }
   ],
   "source": [
    "print(labels)"
   ]
  },
  {
   "cell_type": "code",
   "execution_count": 36,
   "metadata": {},
   "outputs": [
    {
     "data": {
      "text/plain": [
       "821"
      ]
     },
     "execution_count": 36,
     "metadata": {},
     "output_type": "execute_result"
    }
   ],
   "source": [
    "len(labels)"
   ]
  },
  {
   "cell_type": "code",
   "execution_count": 37,
   "metadata": {},
   "outputs": [
    {
     "ename": "ModuleNotFoundError",
     "evalue": "No module named 'tensorflow'",
     "output_type": "error",
     "traceback": [
      "\u001b[1;31m---------------------------------------------------------------------------\u001b[0m",
      "\u001b[1;31mModuleNotFoundError\u001b[0m                       Traceback (most recent call last)",
      "\u001b[1;32m<ipython-input-37-2cb8c278eec5>\u001b[0m in \u001b[0;36m<module>\u001b[1;34m\u001b[0m\n\u001b[1;32m----> 1\u001b[1;33m \u001b[1;32mfrom\u001b[0m \u001b[0mtensorflow\u001b[0m\u001b[1;33m.\u001b[0m\u001b[0mkeras\u001b[0m\u001b[1;33m.\u001b[0m\u001b[0mpreprocessing\u001b[0m \u001b[1;32mimport\u001b[0m \u001b[0msequence\u001b[0m\u001b[1;33m\u001b[0m\u001b[1;33m\u001b[0m\u001b[0m\n\u001b[0m\u001b[0;32m      2\u001b[0m \u001b[1;32mfrom\u001b[0m \u001b[0mtensorflow\u001b[0m\u001b[1;33m.\u001b[0m\u001b[0mkeras\u001b[0m\u001b[1;33m.\u001b[0m\u001b[0mmodels\u001b[0m \u001b[1;32mimport\u001b[0m \u001b[0mSequential\u001b[0m\u001b[1;33m\u001b[0m\u001b[1;33m\u001b[0m\u001b[0m\n\u001b[0;32m      3\u001b[0m \u001b[1;32mfrom\u001b[0m \u001b[0mtensorflow\u001b[0m\u001b[1;33m.\u001b[0m\u001b[0mkeras\u001b[0m\u001b[1;33m.\u001b[0m\u001b[0mlayers\u001b[0m \u001b[1;32mimport\u001b[0m \u001b[0mDense\u001b[0m\u001b[1;33m,\u001b[0m \u001b[0mDropout\u001b[0m\u001b[1;33m,\u001b[0m \u001b[0mActivation\u001b[0m\u001b[1;33m\u001b[0m\u001b[1;33m\u001b[0m\u001b[0m\n\u001b[0;32m      4\u001b[0m \u001b[1;32mfrom\u001b[0m \u001b[0mtensorflow\u001b[0m\u001b[1;33m.\u001b[0m\u001b[0mkeras\u001b[0m\u001b[1;33m.\u001b[0m\u001b[0mlayers\u001b[0m \u001b[1;32mimport\u001b[0m \u001b[0mEmbedding\u001b[0m\u001b[1;33m\u001b[0m\u001b[1;33m\u001b[0m\u001b[0m\n\u001b[0;32m      5\u001b[0m \u001b[1;32mfrom\u001b[0m \u001b[0mtensorflow\u001b[0m\u001b[1;33m.\u001b[0m\u001b[0mkeras\u001b[0m\u001b[1;33m.\u001b[0m\u001b[0mlayers\u001b[0m \u001b[1;32mimport\u001b[0m \u001b[0mLSTM\u001b[0m\u001b[1;33m\u001b[0m\u001b[1;33m\u001b[0m\u001b[0m\n",
      "\u001b[1;31mModuleNotFoundError\u001b[0m: No module named 'tensorflow'"
     ]
    }
   ],
   "source": [
    "from tensorflow.keras.preprocessing import sequence\n",
    "from tensorflow.keras.models import Sequential\n",
    "from tensorflow.keras.layers import Dense, Dropout, Activation\n",
    "from tensorflow.keras.layers import Embedding\n",
    "from tensorflow.keras.layers import LSTM\n",
    "from tensorflow.keras.layers import Conv1D, MaxPooling1D\n",
    "from tensorflow.keras import Input"
   ]
  },
  {
   "cell_type": "code",
   "execution_count": 38,
   "metadata": {},
   "outputs": [],
   "source": [
    "from sklearn.model_selection import train_test_split"
   ]
  },
  {
   "cell_type": "code",
   "execution_count": 29,
   "metadata": {},
   "outputs": [],
   "source": [
    "train_data, test_data, train_labels, test_labels = train_test_split(data, labels, test_size=0.2, random_state=42)"
   ]
  },
  {
   "cell_type": "code",
   "execution_count": 201,
   "metadata": {},
   "outputs": [],
   "source": [
    "# Embedding\n",
    "max_features = 30000\n",
    "maxlen = 30\n",
    "embedding_size = 128\n",
    "\n",
    "# Convolution\n",
    "kernel_size = 16\n",
    "filters = 128\n",
    "pool_size = 4\n",
    "\n",
    "# LSTM\n",
    "lstm_output_size = 30\n",
    "\n",
    "# Training\n",
    "batch_size = 40\n",
    "epochs = 15"
   ]
  },
  {
   "cell_type": "code",
   "execution_count": 209,
   "metadata": {},
   "outputs": [],
   "source": [
    "model = Sequential()\n",
    "model.add(Embedding(max_features, embedding_size, input_length=maxlen))\n",
    "model.add(Dropout(0.25))\n",
    "model.add(Conv1D(filters,\n",
    "                 kernel_size,\n",
    "                 padding='valid',\n",
    "                 activation='relu',\n",
    "                 strides=2))\n",
    "model.add(MaxPooling1D(pool_size=pool_size))\n",
    "model.add(LSTM(lstm_output_size))\n",
    "model.add(Dense(5, activation='relu'))\n",
    "model.add(Activation('softmax'))"
   ]
  },
  {
   "cell_type": "code",
   "execution_count": 211,
   "metadata": {},
   "outputs": [],
   "source": [
    "model.compile(loss='sparse_categorical_crossentropy',\n",
    "              optimizer='rmsprop',\n",
    "              metrics=['sparse_categorical_accuracy'])"
   ]
  },
  {
   "cell_type": "code",
   "execution_count": 212,
   "metadata": {},
   "outputs": [
    {
     "name": "stdout",
     "output_type": "stream",
     "text": [
      "Train on 656 samples, validate on 165 samples\n",
      "Epoch 1/15\n",
      "656/656 [==============================] - 4s 6ms/sample - loss: 1.4243 - sparse_categorical_accuracy: 0.4146 - val_loss: 1.4238 - val_sparse_categorical_accuracy: 0.3939\n",
      "Epoch 2/15\n",
      "656/656 [==============================] - 1s 858us/sample - loss: 1.3575 - sparse_categorical_accuracy: 0.4649 - val_loss: 1.4052 - val_sparse_categorical_accuracy: 0.4545\n",
      "Epoch 3/15\n",
      "656/656 [==============================] - 1s 945us/sample - loss: 1.2962 - sparse_categorical_accuracy: 0.5198 - val_loss: 1.3432 - val_sparse_categorical_accuracy: 0.4485\n",
      "Epoch 4/15\n",
      "656/656 [==============================] - 1s 941us/sample - loss: 1.2623 - sparse_categorical_accuracy: 0.5213 - val_loss: 1.3151 - val_sparse_categorical_accuracy: 0.4909\n",
      "Epoch 5/15\n",
      "656/656 [==============================] - 1s 1ms/sample - loss: 1.2413 - sparse_categorical_accuracy: 0.5427 - val_loss: 1.3246 - val_sparse_categorical_accuracy: 0.4848\n",
      "Epoch 6/15\n",
      "656/656 [==============================] - 1s 1ms/sample - loss: 1.2293 - sparse_categorical_accuracy: 0.5427 - val_loss: 1.3086 - val_sparse_categorical_accuracy: 0.4970\n",
      "Epoch 7/15\n",
      "656/656 [==============================] - 1s 947us/sample - loss: 1.2256 - sparse_categorical_accuracy: 0.5473 - val_loss: 1.3075 - val_sparse_categorical_accuracy: 0.5030\n",
      "Epoch 8/15\n",
      "656/656 [==============================] - 1s 934us/sample - loss: 1.2064 - sparse_categorical_accuracy: 0.5549 - val_loss: 1.3645 - val_sparse_categorical_accuracy: 0.4606\n",
      "Epoch 9/15\n",
      "656/656 [==============================] - 1s 980us/sample - loss: 1.1959 - sparse_categorical_accuracy: 0.5595 - val_loss: 1.3331 - val_sparse_categorical_accuracy: 0.4848\n",
      "Epoch 10/15\n",
      "656/656 [==============================] - 1s 942us/sample - loss: 1.1889 - sparse_categorical_accuracy: 0.5640 - val_loss: 1.3573 - val_sparse_categorical_accuracy: 0.4788\n",
      "Epoch 11/15\n",
      "656/656 [==============================] - 1s 969us/sample - loss: 1.1734 - sparse_categorical_accuracy: 0.5686 - val_loss: 1.3299 - val_sparse_categorical_accuracy: 0.4848\n",
      "Epoch 12/15\n",
      "656/656 [==============================] - 1s 989us/sample - loss: 1.1551 - sparse_categorical_accuracy: 0.5808 - val_loss: 1.3237 - val_sparse_categorical_accuracy: 0.4545\n",
      "Epoch 13/15\n",
      "656/656 [==============================] - 1s 1ms/sample - loss: 1.1400 - sparse_categorical_accuracy: 0.5793 - val_loss: 1.3234 - val_sparse_categorical_accuracy: 0.4788\n",
      "Epoch 14/15\n",
      "656/656 [==============================] - 1s 901us/sample - loss: 1.1230 - sparse_categorical_accuracy: 0.5777 - val_loss: 1.3965 - val_sparse_categorical_accuracy: 0.4606\n",
      "Epoch 15/15\n",
      "656/656 [==============================] - 1s 991us/sample - loss: 1.0932 - sparse_categorical_accuracy: 0.5960 - val_loss: 1.3299 - val_sparse_categorical_accuracy: 0.4545\n"
     ]
    },
    {
     "data": {
      "image/png": "[encoded data removed]",
      "text/plain": [
       "<Figure size 432x288 with 1 Axes>"
      ]
     },
     "metadata": {
      "needs_background": "light"
     },
     "output_type": "display_data"
    }
   ],
   "source": [
    "history = model.fit(train_data, train_labels,\n",
    "          batch_size=batch_size,\n",
    "          epochs=epochs,\n",
    "          validation_data=(test_data, test_labels))\n",
    "\n",
    "plt.plot(history.history['sparse_categorical_accuracy'])\n",
    "plt.plot(history.history['val_sparse_categorical_accuracy'])\n",
    "plt.title('model accuracy')\n",
    "plt.ylabel('accuracy')\n",
    "plt.xlabel('epoch')\n",
    "plt.legend(['train', 'test'], loc='upper left')\n",
    "plt.show()"
   ]
  },
  {
   "cell_type": "code",
   "execution_count": null,
   "metadata": {},
   "outputs": [],
   "source": []
  }
 ],
 "metadata": {
  "kernelspec": {
   "display_name": "Python 3",
   "language": "python",
   "name": "python3"
  },
  "language_info": {
   "codemirror_mode": {
    "name": "ipython",
    "version": 3
   },
   "file_extension": ".py",
   "mimetype": "text/x-python",
   "name": "python",
   "nbconvert_exporter": "python",
   "pygments_lexer": "ipython3",
   "version": "3.7.3"
  }
 },
 "nbformat": 4,
 "nbformat_minor": 2
}

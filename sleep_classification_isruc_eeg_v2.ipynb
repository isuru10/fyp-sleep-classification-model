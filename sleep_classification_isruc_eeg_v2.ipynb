{
 "cells": [
  {
   "cell_type": "code",
   "execution_count": 1,
   "metadata": {},
   "outputs": [],
   "source": [
    "import scipy.io\n",
    "import matplotlib.pyplot as plt\n",
    "import numpy as np"
   ]
  },
  {
   "cell_type": "code",
   "execution_count": 2,
   "metadata": {},
   "outputs": [],
   "source": [
    "mat = scipy.io.loadmat('../ISRUC-Sleep Dataset/Two Session Subjects/Subject 1/subject1_session1.mat')"
   ]
  },
  {
   "cell_type": "code",
   "execution_count": 3,
   "metadata": {},
   "outputs": [],
   "source": [
    "labels = np.loadtxt('../ISRUC-Sleep Dataset/Two Session Subjects/Subject 1/1/1_2.txt')[:-30]"
   ]
  },
  {
   "cell_type": "code",
   "execution_count": 4,
   "metadata": {},
   "outputs": [],
   "source": [
    "np.place(labels, labels==5, [4])"
   ]
  },
  {
   "cell_type": "code",
   "execution_count": 5,
   "metadata": {},
   "outputs": [],
   "source": [
    "data = np.array(mat['C3_A2'])"
   ]
  },
  {
   "cell_type": "code",
   "execution_count": 6,
   "metadata": {},
   "outputs": [
    {
     "data": {
      "text/plain": [
       "{0.0: 141, 1.0: 101, 2.0: 275, 3.0: 234, 4.0: 152}"
      ]
     },
     "execution_count": 6,
     "metadata": {},
     "output_type": "execute_result"
    }
   ],
   "source": [
    "unique, counts = np.unique(labels, return_counts=True)\n",
    "dict(zip(unique, counts))"
   ]
  },
  {
   "cell_type": "code",
   "execution_count": null,
   "metadata": {},
   "outputs": [],
   "source": [
    "from modwt import modwt, modwtmra\n",
    "\n",
    "ET = []\n",
    "\n",
    "WT = []\n",
    "\n",
    "for element in data:\n",
    "    wt = modwt(element, 'db4', 6)\n",
    "    WT.append(wt)\n",
    "    E = []\n",
    "    for w in wt:\n",
    "        E.append(np.sum(np.abs(w) ** 2))\n",
    "    ET.append(E)"
   ]
  },
  {
   "cell_type": "code",
   "execution_count": null,
   "metadata": {},
   "outputs": [],
   "source": [
    "PET = []\n",
    "\n",
    "for E in ET:\n",
    "    PE = []\n",
    "    for element in E:\n",
    "        PE.append(element/np.sum(E))\n",
    "    PET.append(PE)    "
   ]
  },
  {
   "cell_type": "code",
   "execution_count": null,
   "metadata": {},
   "outputs": [],
   "source": [
    "MT = []\n",
    "\n",
    "for W in WT:\n",
    "    M = []\n",
    "    for element in W:        \n",
    "        M.append(np.mean(w))\n",
    "        MT.append(M)"
   ]
  },
  {
   "cell_type": "code",
   "execution_count": null,
   "metadata": {},
   "outputs": [],
   "source": [
    "StdT = []\n",
    "\n",
    "for W in WT:\n",
    "    Std = []\n",
    "    for element in W:        \n",
    "        Std.append(np.std(w))\n",
    "        StdT.append(Std)"
   ]
  },
  {
   "cell_type": "code",
   "execution_count": null,
   "metadata": {},
   "outputs": [],
   "source": [
    "PT = []\n",
    "\n",
    "for element in data:\n",
    "    PT.append(np.max(element) - np.min(element))"
   ]
  },
  {
   "cell_type": "code",
   "execution_count": 68,
   "metadata": {},
   "outputs": [],
   "source": [
    "# E0 = np.sum(np.abs(wt[0]) ** 2)\n",
    "# E1 = np.sum(np.abs(wt[1]) ** 2)\n",
    "# E2 = np.sum(np.abs(wt[2]) ** 2)\n",
    "# E3 = np.sum(np.abs(wt[3]) ** 2)\n",
    "# E4 = np.sum(np.abs(wt[4]) ** 2)\n",
    "# E5 = np.sum(np.abs(wt[5]) ** 2)"
   ]
  },
  {
   "cell_type": "code",
   "execution_count": 72,
   "metadata": {},
   "outputs": [],
   "source": [
    "# PE0 = E0 / (E0 + E1 + E2 + E3 + E4 + E5)\n",
    "# PE1 = E1 / (E0 + E1 + E2 + E3 + E4 + E5)\n",
    "# PE2 = E2 / (E0 + E1 + E2 + E3 + E4 + E5)\n",
    "# PE3 = E3 / (E0 + E1 + E2 + E3 + E4 + E5)\n",
    "# PE4 = E4 / (E0 + E1 + E2 + E3 + E4 + E5)\n",
    "# PE5 = E5 / (E0 + E1 + E2 + E3 + E4 + E5)"
   ]
  },
  {
   "cell_type": "code",
   "execution_count": 73,
   "metadata": {},
   "outputs": [],
   "source": [
    "# M0 = np.mean(wt[0])\n",
    "# M1 = np.mean(wt[1])\n",
    "# M2 = np.mean(wt[2])\n",
    "# M3 = np.mean(wt[3])\n",
    "# M4 = np.mean(wt[4])\n",
    "# M5 = np.mean(wt[5])"
   ]
  },
  {
   "cell_type": "code",
   "execution_count": 76,
   "metadata": {},
   "outputs": [],
   "source": [
    "# Std0 = np.std(wt[0])\n",
    "# Std1 = np.std(wt[1])\n",
    "# Std2 = np.std(wt[2])\n",
    "# Std3 = np.std(wt[3])\n",
    "# Std4 = np.std(wt[4])\n",
    "# Std5 = np.std(wt[5])"
   ]
  },
  {
   "cell_type": "code",
   "execution_count": 77,
   "metadata": {},
   "outputs": [],
   "source": [
    "# P0 = np.max(data[0]) - np.min(data[0])"
   ]
  },
  {
   "cell_type": "code",
   "execution_count": 54,
   "metadata": {},
   "outputs": [],
   "source": [
    "from tensorflow.keras.preprocessing import sequence\n",
    "from tensorflow.keras.models import Sequential\n",
    "from tensorflow.keras.layers import Dense, Dropout, Activation\n",
    "from tensorflow.keras.layers import Embedding\n",
    "from tensorflow.keras.layers import LSTM\n",
    "from tensorflow.keras.layers import Conv1D, MaxPooling1D\n",
    "from tensorflow.keras import Input"
   ]
  },
  {
   "cell_type": "code",
   "execution_count": 8,
   "metadata": {},
   "outputs": [],
   "source": [
    "from sklearn.model_selection import train_test_split"
   ]
  },
  {
   "cell_type": "code",
   "execution_count": 9,
   "metadata": {},
   "outputs": [],
   "source": [
    "train_data, test_data, train_labels, test_labels = train_test_split(data, labels, test_size=0.1, random_state=42)"
   ]
  },
  {
   "cell_type": "code",
   "execution_count": 10,
   "metadata": {},
   "outputs": [],
   "source": [
    "# Embedding\n",
    "max_features = 30000\n",
    "maxlen = 6000\n",
    "embedding_size = 128\n",
    "\n",
    "# Convolution\n",
    "kernel_size = 16\n",
    "filters = 128\n",
    "pool_size = 4\n",
    "\n",
    "# LSTM\n",
    "lstm_output_size = 90\n",
    "\n",
    "# Training\n",
    "batch_size = 2\n",
    "epochs = 8"
   ]
  },
  {
   "cell_type": "code",
   "execution_count": 11,
   "metadata": {},
   "outputs": [],
   "source": [
    "# model = Sequential()\n",
    "# model.add(Embedding(max_features, embedding_size, input_length=maxlen))\n",
    "# model.add(Dropout(0.25))\n",
    "# model.add(Conv1D(filters,\n",
    "#                  kernel_size,\n",
    "#                  padding='valid',\n",
    "#                  activation='relu',\n",
    "#                  strides=2))\n",
    "# model.add(MaxPooling1D(pool_size=pool_size))\n",
    "# model.add(LSTM(lstm_output_size))\n",
    "# model.add(Dense(5, activation='relu'))\n",
    "# model.add(Activation('softmax'))"
   ]
  },
  {
   "cell_type": "code",
   "execution_count": 12,
   "metadata": {},
   "outputs": [
    {
     "name": "stderr",
     "output_type": "stream",
     "text": [
      "WARNING: Logging before flag parsing goes to stderr.\n",
      "W0120 16:13:55.722700 139649697687360 deprecation.py:506] From /home/isuru/.local/lib/python3.7/site-packages/tensorflow/python/ops/init_ops.py:1251: calling VarianceScaling.__init__ (from tensorflow.python.ops.init_ops) with dtype is deprecated and will be removed in a future version.\n",
      "Instructions for updating:\n",
      "Call initializer instance with the dtype argument instead of passing it to the constructor\n"
     ]
    }
   ],
   "source": [
    "model = Sequential()\n",
    "model.add(Dense(1024, activation='relu'))\n",
    "model.add(Dense(1024, activation='relu'))\n",
    "model.add(Dense(1024, activation='relu'))\n",
    "model.add(Dense(5, activation='softmax'))"
   ]
  },
  {
   "cell_type": "code",
   "execution_count": 13,
   "metadata": {},
   "outputs": [],
   "source": [
    "model.compile(loss='sparse_categorical_crossentropy',\n",
    "              optimizer='adam',\n",
    "              metrics=['accuracy'])"
   ]
  },
  {
   "cell_type": "code",
   "execution_count": 14,
   "metadata": {},
   "outputs": [
    {
     "name": "stdout",
     "output_type": "stream",
     "text": [
      "Train on 812 samples, validate on 91 samples\n",
      "Epoch 1/8\n",
      "812/812 [==============================] - 14s 17ms/sample - loss: 2.4780 - acc: 0.2512 - val_loss: 1.9410 - val_acc: 0.2527\n",
      "Epoch 2/8\n",
      "812/812 [==============================] - 13s 16ms/sample - loss: 1.7811 - acc: 0.3399 - val_loss: 1.6635 - val_acc: 0.1868\n",
      "Epoch 3/8\n",
      "812/812 [==============================] - 13s 16ms/sample - loss: 1.7425 - acc: 0.4163 - val_loss: 2.2032 - val_acc: 0.2198\n",
      "Epoch 4/8\n",
      "812/812 [==============================] - 13s 16ms/sample - loss: 1.2803 - acc: 0.5271 - val_loss: 1.6172 - val_acc: 0.3297\n",
      "Epoch 5/8\n",
      "812/812 [==============================] - 14s 18ms/sample - loss: 1.4079 - acc: 0.5985 - val_loss: 1.9154 - val_acc: 0.3297\n",
      "Epoch 6/8\n",
      "812/812 [==============================] - 14s 17ms/sample - loss: 1.2421 - acc: 0.6539 - val_loss: 2.6972 - val_acc: 0.2418\n",
      "Epoch 7/8\n",
      "812/812 [==============================] - 14s 17ms/sample - loss: 0.9458 - acc: 0.6700 - val_loss: 2.7262 - val_acc: 0.3297\n",
      "Epoch 8/8\n",
      "812/812 [==============================] - 14s 17ms/sample - loss: 0.5600 - acc: 0.8325 - val_loss: 2.9805 - val_acc: 0.2527\n"
     ]
    }
   ],
   "source": [
    "history = model.fit(train_data, train_labels,\n",
    "          batch_size=batch_size,\n",
    "          epochs=epochs,\n",
    "          validation_data=(test_data, test_labels))"
   ]
  },
  {
   "cell_type": "code",
   "execution_count": 15,
   "metadata": {},
   "outputs": [
    {
     "data": {
      "image/png": "[encoded data removed]",
      "text/plain": [
       "<Figure size 432x288 with 1 Axes>"
      ]
     },
     "metadata": {
      "needs_background": "light"
     },
     "output_type": "display_data"
    }
   ],
   "source": [
    "plt.plot(history.history['acc'])\n",
    "plt.plot(history.history['val_acc'])\n",
    "plt.title('model accuracy')\n",
    "plt.ylabel('accuracy')\n",
    "plt.xlabel('epoch')\n",
    "plt.legend(['train', 'test'], loc='upper left')\n",
    "plt.show()"
   ]
  },
  {
   "cell_type": "code",
   "execution_count": null,
   "metadata": {},
   "outputs": [],
   "source": []
  }
 ],
 "metadata": {
  "kernelspec": {
   "display_name": "Python 3",
   "language": "python",
   "name": "python3"
  },
  "language_info": {
   "codemirror_mode": {
    "name": "ipython",
    "version": 3
   },
   "file_extension": ".py",
   "mimetype": "text/x-python",
   "name": "python",
   "nbconvert_exporter": "python",
   "pygments_lexer": "ipython3",
   "version": "3.7.3"
  }
 },
 "nbformat": 4,
 "nbformat_minor": 2
}

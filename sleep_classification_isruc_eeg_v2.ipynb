{
 "cells": [
  {
   "cell_type": "code",
   "execution_count": 1,
   "metadata": {},
   "outputs": [],
   "source": [
    "import scipy.io\n",
    "import matplotlib.pyplot as plt\n",
    "import numpy as np"
   ]
  },
  {
   "cell_type": "code",
   "execution_count": 2,
   "metadata": {},
   "outputs": [],
   "source": [
    "mat = scipy.io.loadmat('../ISRUC-Sleep Dataset/Subgroup 3/Subject 1/subject1.mat')"
   ]
  },
  {
   "cell_type": "code",
   "execution_count": 3,
   "metadata": {},
   "outputs": [],
   "source": [
    "labels = np.loadtxt('../ISRUC-Sleep Dataset/Subgroup 3/Subject 1/1/1_1.txt')[:-30]"
   ]
  },
  {
   "cell_type": "code",
   "execution_count": 4,
   "metadata": {},
   "outputs": [],
   "source": [
    "np.place(labels, labels==5, [4])"
   ]
  },
  {
   "cell_type": "code",
   "execution_count": 5,
   "metadata": {},
   "outputs": [],
   "source": [
    "data = np.array(mat['C3_A2'])"
   ]
  },
  {
   "cell_type": "code",
   "execution_count": 6,
   "metadata": {},
   "outputs": [
    {
     "data": {
      "text/plain": [
       "{0.0: 162, 1.0: 114, 2.0: 369, 3.0: 178, 4.0: 101}"
      ]
     },
     "execution_count": 6,
     "metadata": {},
     "output_type": "execute_result"
    }
   ],
   "source": [
    "unique, counts = np.unique(labels, return_counts=True)\n",
    "dict(zip(unique, counts))"
   ]
  },
  {
   "cell_type": "code",
   "execution_count": 9,
   "metadata": {},
   "outputs": [],
   "source": [
    "from modwt import modwt, modwtmra\n",
    "\n",
    "ET = []\n",
    "\n",
    "WT = []\n",
    "\n",
    "for element in data:\n",
    "    wt = modwt(element, 'db4', 6)\n",
    "    WT.append(wt)\n",
    "    E = []\n",
    "    for w in wt:\n",
    "        E.append(np.sum(np.abs(w) ** 2))\n",
    "    ET.append(E)"
   ]
  },
  {
   "cell_type": "code",
   "execution_count": null,
   "metadata": {},
   "outputs": [],
   "source": [
    "PET = []\n",
    "\n",
    "for E in ET:\n",
    "    PE = []\n",
    "    for element in E:\n",
    "        PE.append(element/np.sum(E))\n",
    "    PET.append(PE)    "
   ]
  },
  {
   "cell_type": "code",
   "execution_count": null,
   "metadata": {},
   "outputs": [],
   "source": [
    "MT = []\n",
    "\n",
    "for W in WT:\n",
    "    M = []\n",
    "    for element in W:        \n",
    "        M.append(np.mean(w))\n",
    "    MT.append(M)"
   ]
  },
  {
   "cell_type": "code",
   "execution_count": null,
   "metadata": {},
   "outputs": [],
   "source": [
    "StdT = []\n",
    "\n",
    "for W in WT:\n",
    "    Std = []\n",
    "    for element in W:        \n",
    "        Std.append(np.std(w))\n",
    "    StdT.append(Std)"
   ]
  },
  {
   "cell_type": "code",
   "execution_count": null,
   "metadata": {},
   "outputs": [],
   "source": [
    "PT = []\n",
    "\n",
    "for element in data:\n",
    "    PT.append(np.max(element) - np.min(element))"
   ]
  },
  {
   "cell_type": "code",
   "execution_count": 16,
   "metadata": {},
   "outputs": [],
   "source": [
    "# E0 = np.sum(np.abs(wt[0]) ** 2)\n",
    "# E1 = np.sum(np.abs(wt[1]) ** 2)\n",
    "# E2 = np.sum(np.abs(wt[2]) ** 2)\n",
    "# E3 = np.sum(np.abs(wt[3]) ** 2)\n",
    "# E4 = np.sum(np.abs(wt[4]) ** 2)\n",
    "# E5 = np.sum(np.abs(wt[5]) ** 2)"
   ]
  },
  {
   "cell_type": "code",
   "execution_count": 17,
   "metadata": {},
   "outputs": [],
   "source": [
    "# PE0 = E0 / (E0 + E1 + E2 + E3 + E4 + E5)\n",
    "# PE1 = E1 / (E0 + E1 + E2 + E3 + E4 + E5)\n",
    "# PE2 = E2 / (E0 + E1 + E2 + E3 + E4 + E5)\n",
    "# PE3 = E3 / (E0 + E1 + E2 + E3 + E4 + E5)\n",
    "# PE4 = E4 / (E0 + E1 + E2 + E3 + E4 + E5)\n",
    "# PE5 = E5 / (E0 + E1 + E2 + E3 + E4 + E5)"
   ]
  },
  {
   "cell_type": "code",
   "execution_count": 18,
   "metadata": {},
   "outputs": [],
   "source": [
    "# M0 = np.mean(wt[0])\n",
    "# M1 = np.mean(wt[1])\n",
    "# M2 = np.mean(wt[2])\n",
    "# M3 = np.mean(wt[3])\n",
    "# M4 = np.mean(wt[4])\n",
    "# M5 = np.mean(wt[5])"
   ]
  },
  {
   "cell_type": "code",
   "execution_count": 19,
   "metadata": {},
   "outputs": [],
   "source": [
    "# Std0 = np.std(wt[0])\n",
    "# Std1 = np.std(wt[1])\n",
    "# Std2 = np.std(wt[2])\n",
    "# Std3 = np.std(wt[3])\n",
    "# Std4 = np.std(wt[4])\n",
    "# Std5 = np.std(wt[5])"
   ]
  },
  {
   "cell_type": "code",
   "execution_count": 20,
   "metadata": {},
   "outputs": [],
   "source": [
    "# P0 = np.max(data[0]) - np.min(data[0])"
   ]
  },
  {
   "cell_type": "code",
   "execution_count": null,
   "metadata": {},
   "outputs": [],
   "source": [
    "print('ET: ', len(ET))\n",
    "print('PET: ', len(PET))\n",
    "print('MT: ', len(MT))\n",
    "print('StdT: ', len(StdT))\n",
    "print('PT: ', len(PT))"
   ]
  },
  {
   "cell_type": "code",
   "execution_count": 10,
   "metadata": {},
   "outputs": [],
   "source": [
    "# data_new = []\n",
    "\n",
    "ET_np = np.array(ET)\n",
    "# PET_np = np.array(PET)\n",
    "# MT_np = np.array(MT)\n",
    "# StdT_np = np.array(StdT)\n",
    "# PT_np = np.array(PT)\n",
    "\n",
    "\n",
    "# for i in range(len(data)):\n",
    "#     element = []\n",
    "#     element.append(data[i])\n",
    "#     element.append(ET_np[i])\n",
    "#     element.append(PET_np[i])\n",
    "#     element.append(MT_np[i])\n",
    "#     element.append(StdT_np[i])\n",
    "#     element.append(PT_np[i])\n",
    "#     print(np.array(element).shape)\n",
    "#     data_new.append(element)"
   ]
  },
  {
   "cell_type": "code",
   "execution_count": null,
   "metadata": {},
   "outputs": [],
   "source": [
    "data_new = np.array(data_new)"
   ]
  },
  {
   "cell_type": "code",
   "execution_count": null,
   "metadata": {},
   "outputs": [],
   "source": [
    "WT_np = np.array(WT)"
   ]
  },
  {
   "cell_type": "code",
   "execution_count": null,
   "metadata": {},
   "outputs": [],
   "source": [
    "data.shape"
   ]
  },
  {
   "cell_type": "code",
   "execution_count": 11,
   "metadata": {},
   "outputs": [],
   "source": [
    "from tensorflow.keras.preprocessing import sequence\n",
    "from tensorflow.keras.models import Sequential\n",
    "from tensorflow.keras.layers import Dense, Dropout, Activation, Flatten\n",
    "from tensorflow.keras.layers import Embedding\n",
    "from tensorflow.keras.layers import LSTM\n",
    "from tensorflow.keras.layers import Conv1D, Conv2D, MaxPooling1D, MaxPooling2D\n",
    "from tensorflow.keras import Input"
   ]
  },
  {
   "cell_type": "code",
   "execution_count": 12,
   "metadata": {},
   "outputs": [],
   "source": [
    "from sklearn.model_selection import train_test_split\n",
    "from sklearn import preprocessing"
   ]
  },
  {
   "cell_type": "code",
   "execution_count": 27,
   "metadata": {},
   "outputs": [],
   "source": [
    "ET_np_p = preprocessing.scale(ET_np)"
   ]
  },
  {
   "cell_type": "code",
   "execution_count": 28,
   "metadata": {},
   "outputs": [],
   "source": [
    "ET_np_p = np.reshape(ET_np_p, (ET_np_p.shape[0], 1, ET_np_p.shape[1]))"
   ]
  },
  {
   "cell_type": "code",
   "execution_count": 27,
   "metadata": {},
   "outputs": [],
   "source": [
    "# import random\n",
    "\n",
    "# random.shuffle(data_p)"
   ]
  },
  {
   "cell_type": "code",
   "execution_count": null,
   "metadata": {},
   "outputs": [],
   "source": [
    "# ET_np_p.shape"
   ]
  },
  {
   "cell_type": "code",
   "execution_count": 29,
   "metadata": {},
   "outputs": [],
   "source": [
    "train_data, test_data, train_labels, test_labels = train_test_split(ET_np_p, labels, test_size=0.33, random_state=42)"
   ]
  },
  {
   "cell_type": "code",
   "execution_count": 30,
   "metadata": {},
   "outputs": [],
   "source": [
    "# train_data = ET_np_p[:691]\n",
    "# test_data = ET_np_p[691:]\n",
    "\n",
    "# train_labels = labels[:691]\n",
    "# test_labels = labels[691:]"
   ]
  },
  {
   "cell_type": "code",
   "execution_count": 31,
   "metadata": {},
   "outputs": [],
   "source": [
    "# train_data.shape"
   ]
  },
  {
   "cell_type": "code",
   "execution_count": 106,
   "metadata": {},
   "outputs": [],
   "source": [
    "# Embedding\n",
    "max_features = 30000\n",
    "maxlen = 7\n",
    "# input_shape = [7,6000]\n",
    "embedding_size = 128\n",
    "\n",
    "# Convolution\n",
    "kernel_size = 4\n",
    "filters = 64\n",
    "pool_size = 2\n",
    "\n",
    "# LSTM\n",
    "lstm_output_size = 14\n",
    "\n",
    "# Training\n",
    "batch_size = 20\n",
    "epochs = 40"
   ]
  },
  {
   "cell_type": "code",
   "execution_count": 107,
   "metadata": {},
   "outputs": [],
   "source": [
    "model = Sequential()\n",
    "# model.add(Embedding(max_features, embedding_size, input_length=maxlen))\n",
    "# model.add(Dropout(0.25))\n",
    "# model.add(Conv1D(filters,\n",
    "#                  kernel_size,\n",
    "#                  padding='valid',\n",
    "#                  activation='relu',\n",
    "#                  strides=2))\n",
    "# model.add(MaxPooling1D(pool_size=pool_size))\n",
    "\n",
    "model.add(LSTM(units=128,\n",
    "               input_shape=(1,7), return_sequences = True))\n",
    "model.add(Dropout(0.25))\n",
    "model.add(LSTM(units=128, activation='relu',\n",
    "               input_shape=(1,7)))\n",
    "# model.add(LSTM(units=256, activation='relu', input_shape=(1,7)))\n",
    "# model.add(Dropout(0.25))\n",
    "# model.add(LSTM(units=512, activation='relu'))\n",
    "model.add(Dense(5, activation='relu'))\n",
    "model.add(Activation('softmax'))"
   ]
  },
  {
   "cell_type": "code",
   "execution_count": 108,
   "metadata": {},
   "outputs": [],
   "source": [
    "# model = Sequential()\n",
    "# model.add(Dense(1024, activation='relu'))\n",
    "# model.add(Dense(2048, activation='relu'))\n",
    "# model.add(Dense(2048, activation='relu'))\n",
    "# model.add(Dense(1024, activation='relu'))\n",
    "# model.add(Dense(5, activation='softmax'))"
   ]
  },
  {
   "cell_type": "code",
   "execution_count": 109,
   "metadata": {},
   "outputs": [],
   "source": [
    "model.compile(loss='sparse_categorical_crossentropy',\n",
    "              optimizer='adam',\n",
    "              metrics=['accuracy'])"
   ]
  },
  {
   "cell_type": "code",
   "execution_count": 110,
   "metadata": {},
   "outputs": [
    {
     "name": "stdout",
     "output_type": "stream",
     "text": [
      "Train on 619 samples, validate on 305 samples\n",
      "Epoch 1/40\n",
      "619/619 [==============================] - 3s 4ms/sample - loss: 1.5922 - acc: 0.4313 - val_loss: 1.5544 - val_acc: 0.4656\n",
      "Epoch 2/40\n",
      "619/619 [==============================] - 0s 358us/sample - loss: 1.5123 - acc: 0.4701 - val_loss: 1.4499 - val_acc: 0.4885\n",
      "Epoch 3/40\n",
      "619/619 [==============================] - 0s 351us/sample - loss: 1.3835 - acc: 0.4782 - val_loss: 1.3621 - val_acc: 0.5049\n",
      "Epoch 4/40\n",
      "619/619 [==============================] - 0s 342us/sample - loss: 1.2734 - acc: 0.4976 - val_loss: 1.3099 - val_acc: 0.5344\n",
      "Epoch 5/40\n",
      "619/619 [==============================] - 0s 335us/sample - loss: 1.1697 - acc: 0.5412 - val_loss: 1.2123 - val_acc: 0.5803\n",
      "Epoch 6/40\n",
      "619/619 [==============================] - 0s 349us/sample - loss: 1.0428 - acc: 0.6284 - val_loss: 1.1029 - val_acc: 0.6197\n",
      "Epoch 7/40\n",
      "619/619 [==============================] - 0s 342us/sample - loss: 0.9105 - acc: 0.6850 - val_loss: 1.0069 - val_acc: 0.6525\n",
      "Epoch 8/40\n",
      "619/619 [==============================] - 0s 331us/sample - loss: 0.8220 - acc: 0.6931 - val_loss: 0.9804 - val_acc: 0.6590\n",
      "Epoch 9/40\n",
      "619/619 [==============================] - 0s 335us/sample - loss: 0.7976 - acc: 0.7092 - val_loss: 0.9766 - val_acc: 0.6557\n",
      "Epoch 10/40\n",
      "619/619 [==============================] - 0s 341us/sample - loss: 0.7817 - acc: 0.7011 - val_loss: 0.9678 - val_acc: 0.6623\n",
      "Epoch 11/40\n",
      "619/619 [==============================] - 0s 353us/sample - loss: 0.7578 - acc: 0.7173 - val_loss: 0.9296 - val_acc: 0.6689\n",
      "Epoch 12/40\n",
      "619/619 [==============================] - 0s 438us/sample - loss: 0.7443 - acc: 0.7173 - val_loss: 0.9121 - val_acc: 0.6754\n",
      "Epoch 13/40\n",
      "619/619 [==============================] - 0s 525us/sample - loss: 0.7338 - acc: 0.7044 - val_loss: 0.8970 - val_acc: 0.6820\n",
      "Epoch 14/40\n",
      "619/619 [==============================] - 0s 560us/sample - loss: 0.7301 - acc: 0.7189 - val_loss: 0.8856 - val_acc: 0.6820\n",
      "Epoch 15/40\n",
      "619/619 [==============================] - 0s 557us/sample - loss: 0.7178 - acc: 0.7254 - val_loss: 0.8746 - val_acc: 0.7049\n",
      "Epoch 16/40\n",
      "619/619 [==============================] - 0s 549us/sample - loss: 0.7115 - acc: 0.7221 - val_loss: 0.8588 - val_acc: 0.6918\n",
      "Epoch 17/40\n",
      "619/619 [==============================] - 0s 355us/sample - loss: 0.7048 - acc: 0.7318 - val_loss: 0.8568 - val_acc: 0.6918\n",
      "Epoch 18/40\n",
      "619/619 [==============================] - 0s 340us/sample - loss: 0.6916 - acc: 0.7302 - val_loss: 0.8358 - val_acc: 0.6885\n",
      "Epoch 19/40\n",
      "619/619 [==============================] - 0s 353us/sample - loss: 0.6866 - acc: 0.7237 - val_loss: 0.8526 - val_acc: 0.7016\n",
      "Epoch 20/40\n",
      "619/619 [==============================] - 0s 343us/sample - loss: 0.6935 - acc: 0.7173 - val_loss: 0.8461 - val_acc: 0.7016\n",
      "Epoch 21/40\n",
      "619/619 [==============================] - 0s 367us/sample - loss: 0.6846 - acc: 0.7254 - val_loss: 0.8387 - val_acc: 0.7049\n",
      "Epoch 22/40\n",
      "619/619 [==============================] - 0s 497us/sample - loss: 0.6709 - acc: 0.7189 - val_loss: 0.8416 - val_acc: 0.7148\n",
      "Epoch 23/40\n",
      "619/619 [==============================] - 0s 371us/sample - loss: 0.6667 - acc: 0.7302 - val_loss: 0.8285 - val_acc: 0.7082\n",
      "Epoch 24/40\n",
      "619/619 [==============================] - 0s 358us/sample - loss: 0.6625 - acc: 0.7221 - val_loss: 0.8349 - val_acc: 0.7082\n",
      "Epoch 25/40\n",
      "619/619 [==============================] - 0s 344us/sample - loss: 0.6440 - acc: 0.7399 - val_loss: 0.8284 - val_acc: 0.7180\n",
      "Epoch 26/40\n",
      "619/619 [==============================] - 0s 336us/sample - loss: 0.6499 - acc: 0.7415 - val_loss: 0.8331 - val_acc: 0.7082\n",
      "Epoch 27/40\n",
      "619/619 [==============================] - 0s 353us/sample - loss: 0.6491 - acc: 0.7367 - val_loss: 0.8245 - val_acc: 0.7180\n",
      "Epoch 28/40\n",
      "619/619 [==============================] - 0s 361us/sample - loss: 0.6500 - acc: 0.7270 - val_loss: 0.8191 - val_acc: 0.7279\n",
      "Epoch 29/40\n",
      "619/619 [==============================] - 0s 381us/sample - loss: 0.6457 - acc: 0.7383 - val_loss: 0.8251 - val_acc: 0.7082\n",
      "Epoch 30/40\n",
      "619/619 [==============================] - 0s 549us/sample - loss: 0.6382 - acc: 0.7334 - val_loss: 0.8144 - val_acc: 0.7311\n",
      "Epoch 31/40\n",
      "619/619 [==============================] - 0s 367us/sample - loss: 0.6389 - acc: 0.7431 - val_loss: 0.8213 - val_acc: 0.7115\n",
      "Epoch 32/40\n",
      "619/619 [==============================] - 0s 353us/sample - loss: 0.6411 - acc: 0.7383 - val_loss: 0.8146 - val_acc: 0.7344\n",
      "Epoch 33/40\n",
      "619/619 [==============================] - 0s 363us/sample - loss: 0.6312 - acc: 0.7415 - val_loss: 0.8124 - val_acc: 0.7311\n",
      "Epoch 34/40\n",
      "619/619 [==============================] - 0s 352us/sample - loss: 0.6261 - acc: 0.7512 - val_loss: 0.8115 - val_acc: 0.7246\n",
      "Epoch 35/40\n",
      "619/619 [==============================] - 0s 501us/sample - loss: 0.6262 - acc: 0.7334 - val_loss: 0.8097 - val_acc: 0.7279\n",
      "Epoch 36/40\n",
      "619/619 [==============================] - 0s 353us/sample - loss: 0.6231 - acc: 0.7431 - val_loss: 0.8062 - val_acc: 0.7180\n",
      "Epoch 37/40\n",
      "619/619 [==============================] - 0s 339us/sample - loss: 0.6269 - acc: 0.7431 - val_loss: 0.8034 - val_acc: 0.7311\n",
      "Epoch 38/40\n",
      "619/619 [==============================] - 0s 333us/sample - loss: 0.6100 - acc: 0.7464 - val_loss: 0.8003 - val_acc: 0.7180\n",
      "Epoch 39/40\n",
      "619/619 [==============================] - 0s 572us/sample - loss: 0.6160 - acc: 0.7415 - val_loss: 0.7982 - val_acc: 0.7279\n",
      "Epoch 40/40\n",
      "619/619 [==============================] - 0s 377us/sample - loss: 0.6294 - acc: 0.7399 - val_loss: 0.8000 - val_acc: 0.7311\n"
     ]
    }
   ],
   "source": [
    "history = model.fit(train_data, train_labels,\n",
    "          batch_size=batch_size,\n",
    "          epochs=epochs,\n",
    "          validation_data=(test_data, test_labels))"
   ]
  },
  {
   "cell_type": "code",
   "execution_count": 111,
   "metadata": {},
   "outputs": [
    {
     "data": {
      "image/png": "[encoded data removed]",
      "text/plain": [
       "<Figure size 432x288 with 1 Axes>"
      ]
     },
     "metadata": {
      "needs_background": "light"
     },
     "output_type": "display_data"
    }
   ],
   "source": [
    "plt.plot(history.history['acc'])\n",
    "plt.plot(history.history['val_acc'])\n",
    "plt.title('model accuracy')\n",
    "plt.ylabel('accuracy')\n",
    "plt.xlabel('epoch')\n",
    "plt.legend(['train', 'test'], loc='upper left')\n",
    "plt.show()"
   ]
  },
  {
   "cell_type": "code",
   "execution_count": 112,
   "metadata": {},
   "outputs": [
    {
     "data": {
      "text/plain": [
       "<matplotlib.axes._subplots.AxesSubplot at 0x7f68573b67f0>"
      ]
     },
     "execution_count": 112,
     "metadata": {},
     "output_type": "execute_result"
    },
    {
     "data": {
      "image/png": "[encoded data removed]",
      "text/plain": [
       "<Figure size 720x504 with 2 Axes>"
      ]
     },
     "metadata": {
      "needs_background": "light"
     },
     "output_type": "display_data"
    }
   ],
   "source": [
    "from sklearn.metrics import confusion_matrix\n",
    "import seaborn as sn\n",
    "import pandas as pd\n",
    "\n",
    "y_pred = model.predict(test_data)\n",
    "\n",
    "test_labels = test_labels.astype('int32')\n",
    "\n",
    "confusion_matrix = confusion_matrix(test_labels, y_pred.argmax(axis=1))\n",
    "\n",
    "df_cm = pd.DataFrame(confusion_matrix, index = ['Wake', 'N1', 'N2', 'N3', 'REM'],\n",
    "                  columns = ['Wake', 'N1', 'N2', 'N3', 'REM'])\n",
    "plt.figure(figsize = (10,7))\n",
    "sn.heatmap(df_cm, annot=True)"
   ]
  },
  {
   "cell_type": "code",
   "execution_count": null,
   "metadata": {},
   "outputs": [],
   "source": [
    "# y_pred.shape"
   ]
  },
  {
   "cell_type": "code",
   "execution_count": null,
   "metadata": {},
   "outputs": [],
   "source": []
  }
 ],
 "metadata": {
  "kernelspec": {
   "display_name": "Python 3",
   "language": "python",
   "name": "python3"
  },
  "language_info": {
   "codemirror_mode": {
    "name": "ipython",
    "version": 3
   },
   "file_extension": ".py",
   "mimetype": "text/x-python",
   "name": "python",
   "nbconvert_exporter": "python",
   "pygments_lexer": "ipython3",
   "version": "3.7.3"
  }
 },
 "nbformat": 4,
 "nbformat_minor": 2
}
